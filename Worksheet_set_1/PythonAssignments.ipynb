{
 "cells": [
  {
   "cell_type": "code",
   "execution_count": 14,
   "id": "688a5bde",
   "metadata": {},
   "outputs": [],
   "source": [
    "# 11.Write a python program to find the factorial of a number\n",
    "def find_factorial(n):\n",
    "    i=1;\n",
    "    num=[];   \n",
    "    while i<=n:\n",
    "        num.append(i)\n",
    "        i+=1\n",
    "    fact=1;\n",
    "    for j in num:\n",
    "        fact=fact*j\n",
    "    return fact\n",
    "            "
   ]
  },
  {
   "cell_type": "code",
   "execution_count": 18,
   "id": "c50cdd88",
   "metadata": {},
   "outputs": [
    {
     "data": {
      "text/plain": [
       "6"
      ]
     },
     "execution_count": 18,
     "metadata": {},
     "output_type": "execute_result"
    }
   ],
   "source": [
    "find_factorial(3)"
   ]
  },
  {
   "cell_type": "code",
   "execution_count": 40,
   "id": "3c43e0f4",
   "metadata": {},
   "outputs": [],
   "source": [
    "# 12.Write a python program to find whether a number is prime or composite.\n",
    "def is_prime(n):\n",
    "    i=2\n",
    "    num=[];   \n",
    "    while i<n:\n",
    "        num.append(i)\n",
    "        i+=1\n",
    "    temp=0\n",
    "    if n>1:\n",
    "        for j in num:\n",
    "            if n%j==0:\n",
    "                temp+=1\n",
    "        if temp==0:\n",
    "            print(\"Given number is a prime number\")\n",
    "        else:\n",
    "            print(\"Given number is a composite number\")\n",
    "    else:\n",
    "        print(\"Given number neither prime nor composite\")\n",
    "        "
   ]
  },
  {
   "cell_type": "code",
   "execution_count": 52,
   "id": "1e3c02c5",
   "metadata": {},
   "outputs": [
    {
     "name": "stdout",
     "output_type": "stream",
     "text": [
      "Given number is a prime number\n"
     ]
    }
   ],
   "source": [
    "is_prime(17)"
   ]
  },
  {
   "cell_type": "code",
   "execution_count": 147,
   "id": "2ab870ec",
   "metadata": {},
   "outputs": [],
   "source": [
    "# 13.Write a python program to check whether a given string is palindrome or not.\n",
    "def is_palindrome(input_str):    \n",
    "    charset=[]\n",
    "    new_char=[]\n",
    "    charset=[char for char in input_str]\n",
    "    for char1 in input_str:\n",
    "        new_char.append(input_str[-1])\n",
    "        input_str=input_str[0:-1]\n",
    "    if charset==new_char:\n",
    "        print(\"Given string is a palindrome\")\n",
    "    else:print(\"Given string is not a palindrome\")\n",
    "        \n",
    "    "
   ]
  },
  {
   "cell_type": "code",
   "execution_count": 149,
   "id": "2a4fbbb5",
   "metadata": {},
   "outputs": [
    {
     "name": "stdout",
     "output_type": "stream",
     "text": [
      "Given string is not a palindrome\n"
     ]
    }
   ],
   "source": [
    "is_palindrome('siriswe')"
   ]
  },
  {
   "cell_type": "code",
   "execution_count": 152,
   "id": "b2fa628b",
   "metadata": {},
   "outputs": [],
   "source": [
    "# 15.Write a python program to print the frequency of each of the characters present in a given string.\n",
    "def find_freq(input_str):\n",
    "    freq={}\n",
    "    for i in input_str:\n",
    "        if i in freq:\n",
    "            freq[i]+=1\n",
    "        else:\n",
    "            freq[i]=1\n",
    "    return freq"
   ]
  },
  {
   "cell_type": "code",
   "execution_count": 154,
   "id": "0c27ddc0",
   "metadata": {},
   "outputs": [
    {
     "data": {
      "text/plain": [
       "{'a': 3, 'b': 2, 'c': 2, 'd': 1}"
      ]
     },
     "execution_count": 154,
     "metadata": {},
     "output_type": "execute_result"
    }
   ],
   "source": [
    "find_freq('abcdaabc')"
   ]
  },
  {
   "cell_type": "code",
   "execution_count": 156,
   "id": "08df9c71",
   "metadata": {},
   "outputs": [],
   "source": [
    "import numpy as np    "
   ]
  },
  {
   "cell_type": "code",
   "execution_count": 165,
   "id": "d4bc17ff",
   "metadata": {},
   "outputs": [],
   "source": [
    "# 14.Write a Python program to get the third side of right-angled triangle from two given sides.\n",
    "def find_third_side_triangle(side1,side2):\n",
    "    side3=np.sqrt(np.square(side1)+ np.square(side2))\n",
    "    return np.square(side3)"
   ]
  },
  {
   "cell_type": "code",
   "execution_count": 166,
   "id": "4a992c02",
   "metadata": {},
   "outputs": [
    {
     "data": {
      "text/plain": [
       "12.999999999999998"
      ]
     },
     "execution_count": 166,
     "metadata": {},
     "output_type": "execute_result"
    }
   ],
   "source": [
    "find_third_side_triangle(3,2)"
   ]
  },
  {
   "cell_type": "code",
   "execution_count": null,
   "id": "b4804b35",
   "metadata": {},
   "outputs": [],
   "source": []
  }
 ],
 "metadata": {
  "kernelspec": {
   "display_name": "Python 3",
   "language": "python",
   "name": "python3"
  },
  "language_info": {
   "codemirror_mode": {
    "name": "ipython",
    "version": 3
   },
   "file_extension": ".py",
   "mimetype": "text/x-python",
   "name": "python",
   "nbconvert_exporter": "python",
   "pygments_lexer": "ipython3",
   "version": "3.8.8"
  }
 },
 "nbformat": 4,
 "nbformat_minor": 5
}
