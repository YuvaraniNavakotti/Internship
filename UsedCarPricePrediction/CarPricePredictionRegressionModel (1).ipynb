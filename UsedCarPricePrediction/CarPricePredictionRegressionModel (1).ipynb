{
 "cells": [
  {
   "cell_type": "code",
   "execution_count": 1,
   "id": "6687a054",
   "metadata": {},
   "outputs": [],
   "source": [
    "import pandas as pd\n",
    "import numpy as np\n",
    "import matplotlib.pyplot as plt\n",
    "import seaborn as sns\n",
    "import warnings\n",
    "warnings.filterwarnings('ignore')\n",
    "import re"
   ]
  },
  {
   "cell_type": "code",
   "execution_count": 2,
   "id": "b714deda",
   "metadata": {},
   "outputs": [],
   "source": [
    "df=pd.DataFrame()"
   ]
  },
  {
   "cell_type": "code",
   "execution_count": 3,
   "id": "2eab434d",
   "metadata": {},
   "outputs": [],
   "source": [
    "df=df.append(pd.read_csv(\"C:/Users/yn/Desktop/Yuvi/DataTrained/InternshipProjects/CarPricePrediction/CarPriceDataSetCarDheko.csv\"))"
   ]
  },
  {
   "cell_type": "code",
   "execution_count": 4,
   "id": "8366f1b3",
   "metadata": {},
   "outputs": [],
   "source": [
    "df=df.append(pd.read_csv(\"C:/Users/yn/Desktop/Yuvi/DataTrained/InternshipProjects/CarPricePrediction/CarPriceDataSetCars24.csv\"))"
   ]
  },
  {
   "cell_type": "code",
   "execution_count": 5,
   "id": "ef431ad8",
   "metadata": {},
   "outputs": [],
   "source": [
    "df=df.append(pd.read_csv(\"C:/Users/yn/Desktop/Yuvi/DataTrained/InternshipProjects/CarPricePrediction/CarPriceDataSetCarWala.csv\"))"
   ]
  },
  {
   "cell_type": "code",
   "execution_count": 6,
   "id": "29e52da8",
   "metadata": {},
   "outputs": [],
   "source": [
    "df=df.append(pd.read_csv(\"C:/Users/yn/Desktop/Yuvi/DataTrained/InternshipProjects/CarPricePrediction/CarPriceDataSetOlx.csv\"))"
   ]
  },
  {
   "cell_type": "code",
   "execution_count": 7,
   "id": "720754c7",
   "metadata": {},
   "outputs": [
    {
     "data": {
      "text/plain": [
       "(89265, 12)"
      ]
     },
     "execution_count": 7,
     "metadata": {},
     "output_type": "execute_result"
    }
   ],
   "source": [
    "df.shape"
   ]
  },
  {
   "cell_type": "code",
   "execution_count": 8,
   "id": "e86b959a",
   "metadata": {},
   "outputs": [
    {
     "name": "stdout",
     "output_type": "stream",
     "text": [
      "<class 'pandas.core.frame.DataFrame'>\n",
      "Int64Index: 89265 entries, 0 to 18030\n",
      "Data columns (total 12 columns):\n",
      " #   Column             Non-Null Count  Dtype \n",
      "---  ------             --------------  ----- \n",
      " 0   Unnamed: 0         89265 non-null  int64 \n",
      " 1   Brand              89265 non-null  object\n",
      " 2   Model              89265 non-null  object\n",
      " 3   Variant            89265 non-null  object\n",
      " 4   Body Type          89265 non-null  object\n",
      " 5   Location           89265 non-null  object\n",
      " 6   Km Driven          89265 non-null  object\n",
      " 7   Transmission Type  89265 non-null  object\n",
      " 8   Fuel Type          89265 non-null  object\n",
      " 9   Manufacture Year   89265 non-null  object\n",
      " 10  No.Of.Owners       89265 non-null  object\n",
      " 11  Price              89265 non-null  object\n",
      "dtypes: int64(1), object(11)\n",
      "memory usage: 8.9+ MB\n"
     ]
    }
   ],
   "source": [
    "df.info()"
   ]
  },
  {
   "cell_type": "code",
   "execution_count": 9,
   "id": "c34569c7",
   "metadata": {},
   "outputs": [],
   "source": [
    "df.drop(['Unnamed: 0'],axis=1,inplace=True)"
   ]
  },
  {
   "cell_type": "markdown",
   "id": "e1634e06",
   "metadata": {},
   "source": [
    "## Exploratory Data Analysis"
   ]
  },
  {
   "cell_type": "code",
   "execution_count": 10,
   "id": "995297d6",
   "metadata": {},
   "outputs": [
    {
     "data": {
      "text/plain": [
       "Brand                0\n",
       "Model                0\n",
       "Variant              0\n",
       "Body Type            0\n",
       "Location             0\n",
       "Km Driven            0\n",
       "Transmission Type    0\n",
       "Fuel Type            0\n",
       "Manufacture Year     0\n",
       "No.Of.Owners         0\n",
       "Price                0\n",
       "dtype: int64"
      ]
     },
     "execution_count": 10,
     "metadata": {},
     "output_type": "execute_result"
    }
   ],
   "source": [
    "df.isna().sum()"
   ]
  },
  {
   "cell_type": "code",
   "execution_count": 11,
   "id": "37d34253",
   "metadata": {},
   "outputs": [
    {
     "data": {
      "text/html": [
       "<div>\n",
       "<style scoped>\n",
       "    .dataframe tbody tr th:only-of-type {\n",
       "        vertical-align: middle;\n",
       "    }\n",
       "\n",
       "    .dataframe tbody tr th {\n",
       "        vertical-align: top;\n",
       "    }\n",
       "\n",
       "    .dataframe thead th {\n",
       "        text-align: right;\n",
       "    }\n",
       "</style>\n",
       "<table border=\"1\" class=\"dataframe\">\n",
       "  <thead>\n",
       "    <tr style=\"text-align: right;\">\n",
       "      <th></th>\n",
       "      <th>Brand</th>\n",
       "      <th>Model</th>\n",
       "      <th>Variant</th>\n",
       "      <th>Body Type</th>\n",
       "      <th>Location</th>\n",
       "      <th>Km Driven</th>\n",
       "      <th>Transmission Type</th>\n",
       "      <th>Fuel Type</th>\n",
       "      <th>Manufacture Year</th>\n",
       "      <th>No.Of.Owners</th>\n",
       "      <th>Price</th>\n",
       "    </tr>\n",
       "  </thead>\n",
       "  <tbody>\n",
       "    <tr>\n",
       "      <th>17981</th>\n",
       "      <td>Maruti Suzuki</td>\n",
       "      <td>Alto</td>\n",
       "      <td>2005-2010 LX BSIII</td>\n",
       "      <td>HATCHBACK</td>\n",
       "      <td>Bazpur</td>\n",
       "      <td>50000</td>\n",
       "      <td>Manual</td>\n",
       "      <td>Petrol</td>\n",
       "      <td>2008</td>\n",
       "      <td>1st</td>\n",
       "      <td>97000.0</td>\n",
       "    </tr>\n",
       "    <tr>\n",
       "      <th>17982</th>\n",
       "      <td>Maruti Suzuki</td>\n",
       "      <td>Swift</td>\n",
       "      <td>2004-2010 VDI BSIV</td>\n",
       "      <td>HATCHBACK</td>\n",
       "      <td>Dehradun</td>\n",
       "      <td>75000</td>\n",
       "      <td>Manual</td>\n",
       "      <td>Diesel</td>\n",
       "      <td>2010</td>\n",
       "      <td>2nd</td>\n",
       "      <td>175000.0</td>\n",
       "    </tr>\n",
       "    <tr>\n",
       "      <th>17983</th>\n",
       "      <td>Hyundai</td>\n",
       "      <td>Verna</td>\n",
       "      <td>2006-2009 1.6 i ABS</td>\n",
       "      <td>SEDAN</td>\n",
       "      <td>Dehradun</td>\n",
       "      <td>75000</td>\n",
       "      <td>Manual</td>\n",
       "      <td>Diesel</td>\n",
       "      <td>2008</td>\n",
       "      <td>2nd</td>\n",
       "      <td>149000.0</td>\n",
       "    </tr>\n",
       "    <tr>\n",
       "      <th>17984</th>\n",
       "      <td>Mahindra</td>\n",
       "      <td>Scorpio</td>\n",
       "      <td>2002-2013 VLX</td>\n",
       "      <td>SUV</td>\n",
       "      <td>Dehradun</td>\n",
       "      <td>75000</td>\n",
       "      <td>Manual</td>\n",
       "      <td>Diesel</td>\n",
       "      <td>2010</td>\n",
       "      <td>1st</td>\n",
       "      <td>359000.0</td>\n",
       "    </tr>\n",
       "    <tr>\n",
       "      <th>17985</th>\n",
       "      <td>Maruti Suzuki</td>\n",
       "      <td>Omni</td>\n",
       "      <td>8 Seater BSIV</td>\n",
       "      <td>MINIVAN</td>\n",
       "      <td>Dehradun</td>\n",
       "      <td>26000</td>\n",
       "      <td>Manual</td>\n",
       "      <td>Petrol</td>\n",
       "      <td>2016</td>\n",
       "      <td>1st</td>\n",
       "      <td>199000.0</td>\n",
       "    </tr>\n",
       "    <tr>\n",
       "      <th>17986</th>\n",
       "      <td>Maruti Suzuki</td>\n",
       "      <td>Alto</td>\n",
       "      <td>2005-2010 LXi BSIII</td>\n",
       "      <td>HATCHBACK</td>\n",
       "      <td>Kashipur</td>\n",
       "      <td>35000</td>\n",
       "      <td>Manual</td>\n",
       "      <td>CNG &amp; Hybrids</td>\n",
       "      <td>2008</td>\n",
       "      <td>2nd</td>\n",
       "      <td>140000.0</td>\n",
       "    </tr>\n",
       "    <tr>\n",
       "      <th>17987</th>\n",
       "      <td>Chevrolet</td>\n",
       "      <td>Beat</td>\n",
       "      <td>Others</td>\n",
       "      <td>HATCHBACK</td>\n",
       "      <td>Chamba</td>\n",
       "      <td>35000</td>\n",
       "      <td>Automatic</td>\n",
       "      <td>Petrol</td>\n",
       "      <td>2011</td>\n",
       "      <td>2nd</td>\n",
       "      <td>170000.0</td>\n",
       "    </tr>\n",
       "    <tr>\n",
       "      <th>17988</th>\n",
       "      <td>Maruti Suzuki</td>\n",
       "      <td>Alto</td>\n",
       "      <td>2005-2010 STD</td>\n",
       "      <td>HATCHBACK</td>\n",
       "      <td>Kashipur</td>\n",
       "      <td>200000</td>\n",
       "      <td>Manual</td>\n",
       "      <td>Petrol</td>\n",
       "      <td>2007</td>\n",
       "      <td>2nd</td>\n",
       "      <td>85000.0</td>\n",
       "    </tr>\n",
       "    <tr>\n",
       "      <th>17989</th>\n",
       "      <td>Maruti Suzuki</td>\n",
       "      <td>Swift</td>\n",
       "      <td>VDI</td>\n",
       "      <td>HATCHBACK</td>\n",
       "      <td>Rudrapur</td>\n",
       "      <td>113000</td>\n",
       "      <td>Manual</td>\n",
       "      <td>Diesel</td>\n",
       "      <td>2015</td>\n",
       "      <td>1st</td>\n",
       "      <td>450000.0</td>\n",
       "    </tr>\n",
       "    <tr>\n",
       "      <th>17990</th>\n",
       "      <td>Force Motors</td>\n",
       "      <td>Others</td>\n",
       "      <td>Others</td>\n",
       "      <td>OTHERS</td>\n",
       "      <td>Almora</td>\n",
       "      <td>25000</td>\n",
       "      <td>Manual</td>\n",
       "      <td>Diesel</td>\n",
       "      <td>2017</td>\n",
       "      <td>1st</td>\n",
       "      <td>800000.0</td>\n",
       "    </tr>\n",
       "    <tr>\n",
       "      <th>17991</th>\n",
       "      <td>Tata</td>\n",
       "      <td>Nano</td>\n",
       "      <td>2012-2015 LX</td>\n",
       "      <td>HATCHBACK</td>\n",
       "      <td>Rishikesh</td>\n",
       "      <td>36860</td>\n",
       "      <td>Manual</td>\n",
       "      <td>Petrol</td>\n",
       "      <td>2012</td>\n",
       "      <td>2nd</td>\n",
       "      <td>50000.0</td>\n",
       "    </tr>\n",
       "    <tr>\n",
       "      <th>17992</th>\n",
       "      <td>Ford</td>\n",
       "      <td>Figo</td>\n",
       "      <td>1.2P Titanium Plus MT</td>\n",
       "      <td>HATCHBACK</td>\n",
       "      <td>Laksar</td>\n",
       "      <td>100000</td>\n",
       "      <td>Automatic</td>\n",
       "      <td>Diesel</td>\n",
       "      <td>2012</td>\n",
       "      <td>2nd</td>\n",
       "      <td>115000.0</td>\n",
       "    </tr>\n",
       "    <tr>\n",
       "      <th>17993</th>\n",
       "      <td>Ford</td>\n",
       "      <td>Fiesta</td>\n",
       "      <td>2004-2010 1.4 TDCi EXI</td>\n",
       "      <td>SEDAN</td>\n",
       "      <td>Haldwani</td>\n",
       "      <td>90000</td>\n",
       "      <td>Manual</td>\n",
       "      <td>Diesel</td>\n",
       "      <td>2010</td>\n",
       "      <td>2nd</td>\n",
       "      <td>160000.0</td>\n",
       "    </tr>\n",
       "    <tr>\n",
       "      <th>17994</th>\n",
       "      <td>Toyota</td>\n",
       "      <td>Innova</td>\n",
       "      <td>2.5 G (Diesel) 7-Seater</td>\n",
       "      <td>SUV</td>\n",
       "      <td>Haridwar</td>\n",
       "      <td>250000</td>\n",
       "      <td>Manual</td>\n",
       "      <td>Diesel</td>\n",
       "      <td>2008</td>\n",
       "      <td>2nd</td>\n",
       "      <td>250000.0</td>\n",
       "    </tr>\n",
       "    <tr>\n",
       "      <th>17995</th>\n",
       "      <td>Mahindra</td>\n",
       "      <td>Scorpio</td>\n",
       "      <td>2006-2009 SLX 4WD</td>\n",
       "      <td>SUV</td>\n",
       "      <td>Kashipur</td>\n",
       "      <td>105000</td>\n",
       "      <td>Manual</td>\n",
       "      <td>Diesel</td>\n",
       "      <td>2007</td>\n",
       "      <td>1st</td>\n",
       "      <td>175000.0</td>\n",
       "    </tr>\n",
       "    <tr>\n",
       "      <th>17996</th>\n",
       "      <td>Hyundai</td>\n",
       "      <td>Creta</td>\n",
       "      <td>1.5 SX</td>\n",
       "      <td>SUV</td>\n",
       "      <td>Almora</td>\n",
       "      <td>8000</td>\n",
       "      <td>Manual</td>\n",
       "      <td>Petrol</td>\n",
       "      <td>2018</td>\n",
       "      <td>1st</td>\n",
       "      <td>1250000.0</td>\n",
       "    </tr>\n",
       "    <tr>\n",
       "      <th>17997</th>\n",
       "      <td>Maruti Suzuki</td>\n",
       "      <td>Swift Dzire</td>\n",
       "      <td>VDI</td>\n",
       "      <td>SEDAN</td>\n",
       "      <td>Roorkee</td>\n",
       "      <td>104000</td>\n",
       "      <td>Manual</td>\n",
       "      <td>Diesel</td>\n",
       "      <td>2011</td>\n",
       "      <td>1st</td>\n",
       "      <td>220000.0</td>\n",
       "    </tr>\n",
       "    <tr>\n",
       "      <th>17998</th>\n",
       "      <td>Maruti Suzuki</td>\n",
       "      <td>Swift</td>\n",
       "      <td>VDI BS IV</td>\n",
       "      <td>HATCHBACK</td>\n",
       "      <td>Kashipur</td>\n",
       "      <td>90000</td>\n",
       "      <td>Manual</td>\n",
       "      <td>Diesel</td>\n",
       "      <td>2015</td>\n",
       "      <td>1st</td>\n",
       "      <td>530000.0</td>\n",
       "    </tr>\n",
       "    <tr>\n",
       "      <th>17999</th>\n",
       "      <td>Maruti Suzuki</td>\n",
       "      <td>Alto 800</td>\n",
       "      <td>VXI</td>\n",
       "      <td>HATCHBACK</td>\n",
       "      <td>Sitarganj</td>\n",
       "      <td>35000</td>\n",
       "      <td>Manual</td>\n",
       "      <td>Petrol</td>\n",
       "      <td>2017</td>\n",
       "      <td>2nd</td>\n",
       "      <td>260000.0</td>\n",
       "    </tr>\n",
       "    <tr>\n",
       "      <th>18000</th>\n",
       "      <td>MG</td>\n",
       "      <td>Hector</td>\n",
       "      <td>Sharp DCT Automatic</td>\n",
       "      <td>SUV</td>\n",
       "      <td>Dehradun</td>\n",
       "      <td>52000</td>\n",
       "      <td>Automatic</td>\n",
       "      <td>Petrol</td>\n",
       "      <td>2020</td>\n",
       "      <td>1st</td>\n",
       "      <td>1900000.0</td>\n",
       "    </tr>\n",
       "    <tr>\n",
       "      <th>18001</th>\n",
       "      <td>Hyundai</td>\n",
       "      <td>EON</td>\n",
       "      <td>Magna</td>\n",
       "      <td>HATCHBACK</td>\n",
       "      <td>Gadarpur</td>\n",
       "      <td>100000</td>\n",
       "      <td>Manual</td>\n",
       "      <td>Petrol</td>\n",
       "      <td>2016</td>\n",
       "      <td>1st</td>\n",
       "      <td>250000.0</td>\n",
       "    </tr>\n",
       "    <tr>\n",
       "      <th>18002</th>\n",
       "      <td>Maruti Suzuki</td>\n",
       "      <td>800</td>\n",
       "      <td>Std</td>\n",
       "      <td>HATCHBACK</td>\n",
       "      <td>Devaprayag</td>\n",
       "      <td>85000</td>\n",
       "      <td>Manual</td>\n",
       "      <td>Petrol</td>\n",
       "      <td>2010</td>\n",
       "      <td>3rd</td>\n",
       "      <td>110000.0</td>\n",
       "    </tr>\n",
       "    <tr>\n",
       "      <th>18003</th>\n",
       "      <td>Fiat</td>\n",
       "      <td>Linea Classic</td>\n",
       "      <td>1.3 Multijet</td>\n",
       "      <td>SEDAN</td>\n",
       "      <td>Haridwar</td>\n",
       "      <td>61000</td>\n",
       "      <td>Manual</td>\n",
       "      <td>Diesel</td>\n",
       "      <td>2014</td>\n",
       "      <td>1st</td>\n",
       "      <td>260000.0</td>\n",
       "    </tr>\n",
       "    <tr>\n",
       "      <th>18004</th>\n",
       "      <td>Maruti Suzuki</td>\n",
       "      <td>Ertiga</td>\n",
       "      <td>VXI</td>\n",
       "      <td>MUV</td>\n",
       "      <td>Rishikesh</td>\n",
       "      <td>76000</td>\n",
       "      <td>Manual</td>\n",
       "      <td>Petrol</td>\n",
       "      <td>2014</td>\n",
       "      <td>1st</td>\n",
       "      <td>515000.0</td>\n",
       "    </tr>\n",
       "    <tr>\n",
       "      <th>18005</th>\n",
       "      <td>Ford</td>\n",
       "      <td>Figo</td>\n",
       "      <td>1.2P Titanium MT</td>\n",
       "      <td>HATCHBACK</td>\n",
       "      <td>Rudrapur</td>\n",
       "      <td>135000</td>\n",
       "      <td>Manual</td>\n",
       "      <td>Diesel</td>\n",
       "      <td>2010</td>\n",
       "      <td>3rd</td>\n",
       "      <td>125000.0</td>\n",
       "    </tr>\n",
       "    <tr>\n",
       "      <th>18006</th>\n",
       "      <td>Mahindra</td>\n",
       "      <td>XUV500</td>\n",
       "      <td>2011-2015 Xclusive Edition</td>\n",
       "      <td>SUV</td>\n",
       "      <td>Rishikesh</td>\n",
       "      <td>80050</td>\n",
       "      <td>Manual</td>\n",
       "      <td>Diesel</td>\n",
       "      <td>2014</td>\n",
       "      <td>2nd</td>\n",
       "      <td>725000.0</td>\n",
       "    </tr>\n",
       "    <tr>\n",
       "      <th>18007</th>\n",
       "      <td>Hyundai</td>\n",
       "      <td>Santa Fe</td>\n",
       "      <td>4WD-AT</td>\n",
       "      <td>SUV</td>\n",
       "      <td>Haldwani</td>\n",
       "      <td>109000</td>\n",
       "      <td>Automatic</td>\n",
       "      <td>Diesel</td>\n",
       "      <td>2015</td>\n",
       "      <td>1st</td>\n",
       "      <td>1080000.0</td>\n",
       "    </tr>\n",
       "    <tr>\n",
       "      <th>18008</th>\n",
       "      <td>Maruti Suzuki</td>\n",
       "      <td>Ritz</td>\n",
       "      <td>LXi</td>\n",
       "      <td>HATCHBACK</td>\n",
       "      <td>Haridwar</td>\n",
       "      <td>45000</td>\n",
       "      <td>Automatic</td>\n",
       "      <td>Petrol</td>\n",
       "      <td>2010</td>\n",
       "      <td>2nd</td>\n",
       "      <td>240000.0</td>\n",
       "    </tr>\n",
       "    <tr>\n",
       "      <th>18009</th>\n",
       "      <td>Hyundai</td>\n",
       "      <td>Verna</td>\n",
       "      <td>2011-2014 1.4 CRDi</td>\n",
       "      <td>SEDAN</td>\n",
       "      <td>Dehradun</td>\n",
       "      <td>45500</td>\n",
       "      <td>Manual</td>\n",
       "      <td>Diesel</td>\n",
       "      <td>2015</td>\n",
       "      <td>1st</td>\n",
       "      <td>699900.0</td>\n",
       "    </tr>\n",
       "    <tr>\n",
       "      <th>18010</th>\n",
       "      <td>Volkswagen</td>\n",
       "      <td>Polo</td>\n",
       "      <td>1.2 MPI Trendline</td>\n",
       "      <td>HATCHBACK</td>\n",
       "      <td>Dehradun</td>\n",
       "      <td>125000</td>\n",
       "      <td>Manual</td>\n",
       "      <td>Diesel</td>\n",
       "      <td>2014</td>\n",
       "      <td>3rd</td>\n",
       "      <td>200000.0</td>\n",
       "    </tr>\n",
       "    <tr>\n",
       "      <th>18011</th>\n",
       "      <td>Hyundai</td>\n",
       "      <td>Santro Xing</td>\n",
       "      <td>GLS</td>\n",
       "      <td>HATCHBACK</td>\n",
       "      <td>Dehradun</td>\n",
       "      <td>85000</td>\n",
       "      <td>Automatic</td>\n",
       "      <td>Petrol</td>\n",
       "      <td>2003</td>\n",
       "      <td>4+</td>\n",
       "      <td>75000.0</td>\n",
       "    </tr>\n",
       "    <tr>\n",
       "      <th>18012</th>\n",
       "      <td>Maruti Suzuki</td>\n",
       "      <td>Eeco</td>\n",
       "      <td>5 Seater AC</td>\n",
       "      <td>MINIVAN</td>\n",
       "      <td>SIDCUL Haridwar</td>\n",
       "      <td>90000</td>\n",
       "      <td>Manual</td>\n",
       "      <td>Petrol</td>\n",
       "      <td>2015</td>\n",
       "      <td>1st</td>\n",
       "      <td>270000.0</td>\n",
       "    </tr>\n",
       "    <tr>\n",
       "      <th>18013</th>\n",
       "      <td>Hyundai</td>\n",
       "      <td>Getz Prime</td>\n",
       "      <td>Getz Prime 1.3 GLX</td>\n",
       "      <td>HATCHBACK</td>\n",
       "      <td>Haridwar</td>\n",
       "      <td>70000</td>\n",
       "      <td>Manual</td>\n",
       "      <td>Petrol</td>\n",
       "      <td>2007</td>\n",
       "      <td>4th</td>\n",
       "      <td>90000.0</td>\n",
       "    </tr>\n",
       "    <tr>\n",
       "      <th>18014</th>\n",
       "      <td>Hyundai</td>\n",
       "      <td>Santro</td>\n",
       "      <td>Sportz AMT</td>\n",
       "      <td>HATCHBACK</td>\n",
       "      <td>Haldwani</td>\n",
       "      <td>7951</td>\n",
       "      <td>Automatic</td>\n",
       "      <td>Petrol</td>\n",
       "      <td>2019</td>\n",
       "      <td>1st</td>\n",
       "      <td>500000.0</td>\n",
       "    </tr>\n",
       "    <tr>\n",
       "      <th>18015</th>\n",
       "      <td>Honda</td>\n",
       "      <td>Civic</td>\n",
       "      <td>1.8 S MT</td>\n",
       "      <td>SEDAN</td>\n",
       "      <td>Roorkee</td>\n",
       "      <td>120000</td>\n",
       "      <td>Manual</td>\n",
       "      <td>Petrol</td>\n",
       "      <td>2006</td>\n",
       "      <td>4+</td>\n",
       "      <td>172000.0</td>\n",
       "    </tr>\n",
       "    <tr>\n",
       "      <th>18016</th>\n",
       "      <td>Tata</td>\n",
       "      <td>Indica Vista</td>\n",
       "      <td>2008-2013 Quadrajet LX</td>\n",
       "      <td>HATCHBACK</td>\n",
       "      <td>Roorkee</td>\n",
       "      <td>24</td>\n",
       "      <td>Automatic</td>\n",
       "      <td>Diesel</td>\n",
       "      <td>2010</td>\n",
       "      <td>2nd</td>\n",
       "      <td>88000.0</td>\n",
       "    </tr>\n",
       "    <tr>\n",
       "      <th>18017</th>\n",
       "      <td>Bajaj</td>\n",
       "      <td>Others</td>\n",
       "      <td>Others</td>\n",
       "      <td>OTHERS</td>\n",
       "      <td>SIDCUL Haridwar</td>\n",
       "      <td>5000</td>\n",
       "      <td>Manual</td>\n",
       "      <td>Electric</td>\n",
       "      <td>2019</td>\n",
       "      <td>1st</td>\n",
       "      <td>80000.0</td>\n",
       "    </tr>\n",
       "    <tr>\n",
       "      <th>18018</th>\n",
       "      <td>Maruti Suzuki</td>\n",
       "      <td>Swift Dzire</td>\n",
       "      <td>ZXI</td>\n",
       "      <td>SEDAN</td>\n",
       "      <td>Haridwar</td>\n",
       "      <td>2000</td>\n",
       "      <td>Automatic</td>\n",
       "      <td>Petrol</td>\n",
       "      <td>2011</td>\n",
       "      <td>1st</td>\n",
       "      <td>15000.0</td>\n",
       "    </tr>\n",
       "    <tr>\n",
       "      <th>18019</th>\n",
       "      <td>Maruti Suzuki</td>\n",
       "      <td>800</td>\n",
       "      <td>Duo Std LPG</td>\n",
       "      <td>HATCHBACK</td>\n",
       "      <td>Khatima</td>\n",
       "      <td>13000</td>\n",
       "      <td>Manual</td>\n",
       "      <td>LPG</td>\n",
       "      <td>2008</td>\n",
       "      <td>2nd</td>\n",
       "      <td>46000.0</td>\n",
       "    </tr>\n",
       "    <tr>\n",
       "      <th>18020</th>\n",
       "      <td>Mercedes Benz</td>\n",
       "      <td>C Class</td>\n",
       "      <td>Prime C 200</td>\n",
       "      <td>OTHERS</td>\n",
       "      <td>Dehradun</td>\n",
       "      <td>70000</td>\n",
       "      <td>Automatic</td>\n",
       "      <td>Petrol</td>\n",
       "      <td>2007</td>\n",
       "      <td>4th</td>\n",
       "      <td>450000.0</td>\n",
       "    </tr>\n",
       "    <tr>\n",
       "      <th>18021</th>\n",
       "      <td>Mahindra</td>\n",
       "      <td>XUV500</td>\n",
       "      <td>W8 2WD</td>\n",
       "      <td>SUV</td>\n",
       "      <td>Haldwani</td>\n",
       "      <td>85000</td>\n",
       "      <td>Manual</td>\n",
       "      <td>Diesel</td>\n",
       "      <td>2012</td>\n",
       "      <td>2nd</td>\n",
       "      <td>475000.0</td>\n",
       "    </tr>\n",
       "    <tr>\n",
       "      <th>18022</th>\n",
       "      <td>Maruti Suzuki</td>\n",
       "      <td>Swift</td>\n",
       "      <td>2011-2014 VDI</td>\n",
       "      <td>HATCHBACK</td>\n",
       "      <td>Doiwala</td>\n",
       "      <td>75000</td>\n",
       "      <td>Manual</td>\n",
       "      <td>Diesel</td>\n",
       "      <td>2012</td>\n",
       "      <td>3rd</td>\n",
       "      <td>330000.0</td>\n",
       "    </tr>\n",
       "    <tr>\n",
       "      <th>18023</th>\n",
       "      <td>Audi</td>\n",
       "      <td>A6</td>\n",
       "      <td>2.0 TFSI Technology</td>\n",
       "      <td>LUXURY_SEDAN</td>\n",
       "      <td>Dehradun</td>\n",
       "      <td>68900</td>\n",
       "      <td>Automatic</td>\n",
       "      <td>Diesel</td>\n",
       "      <td>2013</td>\n",
       "      <td>2nd</td>\n",
       "      <td>1375000.0</td>\n",
       "    </tr>\n",
       "    <tr>\n",
       "      <th>18024</th>\n",
       "      <td>Nissan</td>\n",
       "      <td>Micra</td>\n",
       "      <td>XE Petrol</td>\n",
       "      <td>HATCHBACK</td>\n",
       "      <td>Laksar</td>\n",
       "      <td>40000</td>\n",
       "      <td>Manual</td>\n",
       "      <td>Petrol</td>\n",
       "      <td>2012</td>\n",
       "      <td>2nd</td>\n",
       "      <td>125000.0</td>\n",
       "    </tr>\n",
       "    <tr>\n",
       "      <th>18025</th>\n",
       "      <td>Mahindra</td>\n",
       "      <td>XUV500</td>\n",
       "      <td>W10 2WD</td>\n",
       "      <td>SUV</td>\n",
       "      <td>Rudrapur</td>\n",
       "      <td>106000</td>\n",
       "      <td>Manual</td>\n",
       "      <td>Diesel</td>\n",
       "      <td>2015</td>\n",
       "      <td>1st</td>\n",
       "      <td>850000.0</td>\n",
       "    </tr>\n",
       "    <tr>\n",
       "      <th>18026</th>\n",
       "      <td>Maruti Suzuki</td>\n",
       "      <td>Alto K10</td>\n",
       "      <td>LX</td>\n",
       "      <td>HATCHBACK</td>\n",
       "      <td>Dehradun</td>\n",
       "      <td>60000</td>\n",
       "      <td>Manual</td>\n",
       "      <td>Petrol</td>\n",
       "      <td>2007</td>\n",
       "      <td>3rd</td>\n",
       "      <td>130000.0</td>\n",
       "    </tr>\n",
       "    <tr>\n",
       "      <th>18027</th>\n",
       "      <td>Hyundai</td>\n",
       "      <td>i10</td>\n",
       "      <td>Magna</td>\n",
       "      <td>HATCHBACK</td>\n",
       "      <td>Dehradun</td>\n",
       "      <td>60000</td>\n",
       "      <td>Manual</td>\n",
       "      <td>Petrol</td>\n",
       "      <td>2011</td>\n",
       "      <td>1st</td>\n",
       "      <td>225000.0</td>\n",
       "    </tr>\n",
       "    <tr>\n",
       "      <th>18028</th>\n",
       "      <td>Honda</td>\n",
       "      <td>City ZX</td>\n",
       "      <td>VTEC</td>\n",
       "      <td>SEDAN</td>\n",
       "      <td>Dehradun</td>\n",
       "      <td>11000</td>\n",
       "      <td>Manual</td>\n",
       "      <td>Petrol</td>\n",
       "      <td>2007</td>\n",
       "      <td>3rd</td>\n",
       "      <td>135000.0</td>\n",
       "    </tr>\n",
       "    <tr>\n",
       "      <th>18029</th>\n",
       "      <td>Mahindra</td>\n",
       "      <td>Jeep</td>\n",
       "      <td>2.5L</td>\n",
       "      <td>SUV</td>\n",
       "      <td>Vikasnagar</td>\n",
       "      <td>80000</td>\n",
       "      <td>Manual</td>\n",
       "      <td>Diesel</td>\n",
       "      <td>1979</td>\n",
       "      <td>2nd</td>\n",
       "      <td>260000.0</td>\n",
       "    </tr>\n",
       "    <tr>\n",
       "      <th>18030</th>\n",
       "      <td>Maruti Suzuki</td>\n",
       "      <td>Alto</td>\n",
       "      <td>LXi</td>\n",
       "      <td>HATCHBACK</td>\n",
       "      <td>Haldwani</td>\n",
       "      <td>70000</td>\n",
       "      <td>Manual</td>\n",
       "      <td>Petrol</td>\n",
       "      <td>2006</td>\n",
       "      <td>2nd</td>\n",
       "      <td>71000.0</td>\n",
       "    </tr>\n",
       "  </tbody>\n",
       "</table>\n",
       "</div>"
      ],
      "text/plain": [
       "               Brand          Model                     Variant     Body Type  \\\n",
       "17981  Maruti Suzuki           Alto          2005-2010 LX BSIII     HATCHBACK   \n",
       "17982  Maruti Suzuki          Swift          2004-2010 VDI BSIV     HATCHBACK   \n",
       "17983        Hyundai          Verna         2006-2009 1.6 i ABS         SEDAN   \n",
       "17984       Mahindra        Scorpio               2002-2013 VLX           SUV   \n",
       "17985  Maruti Suzuki           Omni               8 Seater BSIV       MINIVAN   \n",
       "17986  Maruti Suzuki           Alto         2005-2010 LXi BSIII     HATCHBACK   \n",
       "17987      Chevrolet           Beat                      Others     HATCHBACK   \n",
       "17988  Maruti Suzuki           Alto               2005-2010 STD     HATCHBACK   \n",
       "17989  Maruti Suzuki          Swift                         VDI     HATCHBACK   \n",
       "17990   Force Motors         Others                      Others        OTHERS   \n",
       "17991           Tata           Nano                2012-2015 LX     HATCHBACK   \n",
       "17992           Ford           Figo       1.2P Titanium Plus MT     HATCHBACK   \n",
       "17993           Ford         Fiesta      2004-2010 1.4 TDCi EXI         SEDAN   \n",
       "17994         Toyota         Innova     2.5 G (Diesel) 7-Seater           SUV   \n",
       "17995       Mahindra        Scorpio           2006-2009 SLX 4WD           SUV   \n",
       "17996        Hyundai          Creta                      1.5 SX           SUV   \n",
       "17997  Maruti Suzuki    Swift Dzire                         VDI         SEDAN   \n",
       "17998  Maruti Suzuki          Swift                   VDI BS IV     HATCHBACK   \n",
       "17999  Maruti Suzuki       Alto 800                         VXI     HATCHBACK   \n",
       "18000             MG         Hector         Sharp DCT Automatic           SUV   \n",
       "18001        Hyundai            EON                       Magna     HATCHBACK   \n",
       "18002  Maruti Suzuki            800                         Std     HATCHBACK   \n",
       "18003           Fiat  Linea Classic                1.3 Multijet         SEDAN   \n",
       "18004  Maruti Suzuki         Ertiga                         VXI           MUV   \n",
       "18005           Ford           Figo            1.2P Titanium MT     HATCHBACK   \n",
       "18006       Mahindra         XUV500  2011-2015 Xclusive Edition           SUV   \n",
       "18007        Hyundai       Santa Fe                      4WD-AT           SUV   \n",
       "18008  Maruti Suzuki           Ritz                         LXi     HATCHBACK   \n",
       "18009        Hyundai          Verna          2011-2014 1.4 CRDi         SEDAN   \n",
       "18010     Volkswagen           Polo           1.2 MPI Trendline     HATCHBACK   \n",
       "18011        Hyundai    Santro Xing                         GLS     HATCHBACK   \n",
       "18012  Maruti Suzuki           Eeco                 5 Seater AC       MINIVAN   \n",
       "18013        Hyundai     Getz Prime          Getz Prime 1.3 GLX     HATCHBACK   \n",
       "18014        Hyundai         Santro                  Sportz AMT     HATCHBACK   \n",
       "18015          Honda          Civic                    1.8 S MT         SEDAN   \n",
       "18016           Tata   Indica Vista      2008-2013 Quadrajet LX     HATCHBACK   \n",
       "18017          Bajaj         Others                      Others        OTHERS   \n",
       "18018  Maruti Suzuki    Swift Dzire                         ZXI         SEDAN   \n",
       "18019  Maruti Suzuki            800                 Duo Std LPG     HATCHBACK   \n",
       "18020  Mercedes Benz        C Class                 Prime C 200        OTHERS   \n",
       "18021       Mahindra         XUV500                      W8 2WD           SUV   \n",
       "18022  Maruti Suzuki          Swift               2011-2014 VDI     HATCHBACK   \n",
       "18023           Audi             A6         2.0 TFSI Technology  LUXURY_SEDAN   \n",
       "18024         Nissan          Micra                   XE Petrol     HATCHBACK   \n",
       "18025       Mahindra         XUV500                     W10 2WD           SUV   \n",
       "18026  Maruti Suzuki       Alto K10                          LX     HATCHBACK   \n",
       "18027        Hyundai            i10                       Magna     HATCHBACK   \n",
       "18028          Honda        City ZX                        VTEC         SEDAN   \n",
       "18029       Mahindra           Jeep                        2.5L           SUV   \n",
       "18030  Maruti Suzuki           Alto                         LXi     HATCHBACK   \n",
       "\n",
       "              Location Km Driven Transmission Type      Fuel Type  \\\n",
       "17981           Bazpur     50000            Manual         Petrol   \n",
       "17982         Dehradun     75000            Manual         Diesel   \n",
       "17983         Dehradun     75000            Manual         Diesel   \n",
       "17984         Dehradun     75000            Manual         Diesel   \n",
       "17985         Dehradun     26000            Manual         Petrol   \n",
       "17986         Kashipur     35000            Manual  CNG & Hybrids   \n",
       "17987           Chamba     35000         Automatic         Petrol   \n",
       "17988         Kashipur    200000            Manual         Petrol   \n",
       "17989         Rudrapur    113000            Manual         Diesel   \n",
       "17990           Almora     25000            Manual         Diesel   \n",
       "17991        Rishikesh     36860            Manual         Petrol   \n",
       "17992           Laksar    100000         Automatic         Diesel   \n",
       "17993         Haldwani     90000            Manual         Diesel   \n",
       "17994         Haridwar    250000            Manual         Diesel   \n",
       "17995         Kashipur    105000            Manual         Diesel   \n",
       "17996           Almora      8000            Manual         Petrol   \n",
       "17997          Roorkee    104000            Manual         Diesel   \n",
       "17998         Kashipur     90000            Manual         Diesel   \n",
       "17999        Sitarganj     35000            Manual         Petrol   \n",
       "18000         Dehradun     52000         Automatic         Petrol   \n",
       "18001         Gadarpur    100000            Manual         Petrol   \n",
       "18002       Devaprayag     85000            Manual         Petrol   \n",
       "18003         Haridwar     61000            Manual         Diesel   \n",
       "18004        Rishikesh     76000            Manual         Petrol   \n",
       "18005         Rudrapur    135000            Manual         Diesel   \n",
       "18006        Rishikesh     80050            Manual         Diesel   \n",
       "18007         Haldwani    109000         Automatic         Diesel   \n",
       "18008         Haridwar     45000         Automatic         Petrol   \n",
       "18009         Dehradun     45500            Manual         Diesel   \n",
       "18010         Dehradun    125000            Manual         Diesel   \n",
       "18011         Dehradun     85000         Automatic         Petrol   \n",
       "18012  SIDCUL Haridwar     90000            Manual         Petrol   \n",
       "18013         Haridwar     70000            Manual         Petrol   \n",
       "18014         Haldwani      7951         Automatic         Petrol   \n",
       "18015          Roorkee    120000            Manual         Petrol   \n",
       "18016          Roorkee        24         Automatic         Diesel   \n",
       "18017  SIDCUL Haridwar      5000            Manual       Electric   \n",
       "18018         Haridwar      2000         Automatic         Petrol   \n",
       "18019          Khatima     13000            Manual            LPG   \n",
       "18020         Dehradun     70000         Automatic         Petrol   \n",
       "18021         Haldwani     85000            Manual         Diesel   \n",
       "18022          Doiwala     75000            Manual         Diesel   \n",
       "18023         Dehradun     68900         Automatic         Diesel   \n",
       "18024           Laksar     40000            Manual         Petrol   \n",
       "18025         Rudrapur    106000            Manual         Diesel   \n",
       "18026         Dehradun     60000            Manual         Petrol   \n",
       "18027         Dehradun     60000            Manual         Petrol   \n",
       "18028         Dehradun     11000            Manual         Petrol   \n",
       "18029       Vikasnagar     80000            Manual         Diesel   \n",
       "18030         Haldwani     70000            Manual         Petrol   \n",
       "\n",
       "      Manufacture Year No.Of.Owners      Price  \n",
       "17981             2008          1st    97000.0  \n",
       "17982             2010          2nd   175000.0  \n",
       "17983             2008          2nd   149000.0  \n",
       "17984             2010          1st   359000.0  \n",
       "17985             2016          1st   199000.0  \n",
       "17986             2008          2nd   140000.0  \n",
       "17987             2011          2nd   170000.0  \n",
       "17988             2007          2nd    85000.0  \n",
       "17989             2015          1st   450000.0  \n",
       "17990             2017          1st   800000.0  \n",
       "17991             2012          2nd    50000.0  \n",
       "17992             2012          2nd   115000.0  \n",
       "17993             2010          2nd   160000.0  \n",
       "17994             2008          2nd   250000.0  \n",
       "17995             2007          1st   175000.0  \n",
       "17996             2018          1st  1250000.0  \n",
       "17997             2011          1st   220000.0  \n",
       "17998             2015          1st   530000.0  \n",
       "17999             2017          2nd   260000.0  \n",
       "18000             2020          1st  1900000.0  \n",
       "18001             2016          1st   250000.0  \n",
       "18002             2010          3rd   110000.0  \n",
       "18003             2014          1st   260000.0  \n",
       "18004             2014          1st   515000.0  \n",
       "18005             2010          3rd   125000.0  \n",
       "18006             2014          2nd   725000.0  \n",
       "18007             2015          1st  1080000.0  \n",
       "18008             2010          2nd   240000.0  \n",
       "18009             2015          1st   699900.0  \n",
       "18010             2014          3rd   200000.0  \n",
       "18011             2003           4+    75000.0  \n",
       "18012             2015          1st   270000.0  \n",
       "18013             2007          4th    90000.0  \n",
       "18014             2019          1st   500000.0  \n",
       "18015             2006           4+   172000.0  \n",
       "18016             2010          2nd    88000.0  \n",
       "18017             2019          1st    80000.0  \n",
       "18018             2011          1st    15000.0  \n",
       "18019             2008          2nd    46000.0  \n",
       "18020             2007          4th   450000.0  \n",
       "18021             2012          2nd   475000.0  \n",
       "18022             2012          3rd   330000.0  \n",
       "18023             2013          2nd  1375000.0  \n",
       "18024             2012          2nd   125000.0  \n",
       "18025             2015          1st   850000.0  \n",
       "18026             2007          3rd   130000.0  \n",
       "18027             2011          1st   225000.0  \n",
       "18028             2007          3rd   135000.0  \n",
       "18029             1979          2nd   260000.0  \n",
       "18030             2006          2nd    71000.0  "
      ]
     },
     "execution_count": 11,
     "metadata": {},
     "output_type": "execute_result"
    }
   ],
   "source": [
    "df.tail(50)"
   ]
  },
  {
   "cell_type": "code",
   "execution_count": 12,
   "id": "fe0d8b8f",
   "metadata": {},
   "outputs": [
    {
     "name": "stdout",
     "output_type": "stream",
     "text": [
      "Brand\n",
      "=======================\n",
      "Maruti Suzuki    18467\n",
      "Hyundai          15762\n",
      "Honda             8008\n",
      "Maruti            5479\n",
      "Mahindra          4772\n",
      "                 ...  \n",
      "San                  1\n",
      "2014                 1\n",
      "Maybach              1\n",
      "Ashok                1\n",
      "Dc                   1\n",
      "Name: Brand, Length: 88, dtype: int64 \n",
      "\n",
      "Model\n",
      "=======================\n",
      "Hyundai i20                  1117\n",
      "Swift [2011-2014]            1053\n",
      "Vitara Brezza [2016-2020]    1051\n",
      "Grand i10 [2013-2017]        1046\n",
      "Hyundai Grand i10            1007\n",
      "                             ... \n",
      "6 Series                        1\n",
      "M4 [2014-2018]                  1\n",
      "Captiva [2012-2016]             1\n",
      "Alphard [2008-2013]             1\n",
      "Gallardo [2005 - 2014]          1\n",
      "Name: Model, Length: 1217, dtype: int64 \n",
      "\n",
      "Variant\n",
      "=======================\n",
      "VXI                      2763\n",
      "LXI                      1322\n",
      "VXi                      1120\n",
      "Others                   1083\n",
      "VDi                      1060\n",
      "                         ... \n",
      "800 Std CNG                 1\n",
      "AMT Quadrajet 1.3 XMA       1\n",
      "RX L DIESEL                 1\n",
      "2005-2011 325i              1\n",
      "XMA (S) Diesel              1\n",
      "Name: Variant, Length: 6048, dtype: int64 \n",
      "\n",
      "Body Type\n",
      "=======================\n",
      "Hatchback           31091\n",
      "Sedan               17841\n",
      "Suv                 14338\n",
      "HATCHBACK            7978\n",
      "SUV                  6989\n",
      "SEDAN                3806\n",
      "-                    3163\n",
      "MUV                   975\n",
      "Minivan               775\n",
      "LUXURY_SEDAN          552\n",
      "OTHERS                492\n",
      "MINIVAN               427\n",
      "LUXURY_SUV            321\n",
      "Coupe                 110\n",
      "Luxury Sedan           92\n",
      "Luxury SUV             89\n",
      "Convertible            69\n",
      "Minivans               40\n",
      "Truck                  26\n",
      "LUXURY                 25\n",
      "Luxury Vehicles        20\n",
      "LUXURY_HATCHBACK       20\n",
      "HYBRID_SEDAN           20\n",
      "StationWagon            6\n",
      "Name: Body Type, dtype: int64 \n",
      "\n",
      "Location\n",
      "=======================\n",
      "Mumbai        13081\n",
      "Delhi          7796\n",
      "Bangalore      6953\n",
      "Hyderabad      5341\n",
      "Pune           5125\n",
      "              ...  \n",
      "Salap             1\n",
      "Barabanki         1\n",
      "Guskara           1\n",
      "Viratnagar        1\n",
      "Asansol           1\n",
      "Name: Location, Length: 1879, dtype: int64 \n",
      "\n",
      "Km Driven\n",
      "=======================\n",
      "40000     927\n",
      "65000     900\n",
      "75000     786\n",
      "41000     765\n",
      "35000     752\n",
      "         ... \n",
      "192204      1\n",
      "45420       1\n",
      "53420       1\n",
      "45427       1\n",
      "16070       1\n",
      "Name: Km Driven, Length: 14645, dtype: int64 \n",
      "\n",
      "Transmission Type\n",
      "=======================\n",
      "Manual       67352\n",
      "Automatic    21774\n",
      "-              133\n",
      "Ford             1\n",
      "Ecosport         1\n",
      "Skoda            1\n",
      "Vento            1\n",
      "Jazz             1\n",
      "Honda            1\n",
      "Name: Transmission Type, dtype: int64 \n",
      "\n",
      "Fuel Type\n",
      "=======================\n",
      "Petrol                     49133\n",
      "Diesel                     37662\n",
      "CNG                         1348\n",
      "CNG & Hybrids                628\n",
      "LPG                          239\n",
      "Petrol + CNG                 126\n",
      "Electric                      83\n",
      "Hybrid                        28\n",
      "Petrol + LPG                   7\n",
      "Electric(Battery)              5\n",
      "Titanium 1.5 TDCi (Opt)        1\n",
      "Rapid                          1\n",
      "City                           1\n",
      "1.6 Highline Plus              1\n",
      "1.5 V i DTEC                   1\n",
      "Fiesta                         1\n",
      "Name: Fuel Type, dtype: int64 \n",
      "\n",
      "Manufacture Year\n",
      "=======================\n",
      "2017      9563\n",
      "2018      8617\n",
      "2016      8189\n",
      "2015      8097\n",
      "2014      6080\n",
      "          ... \n",
      "2019.0       1\n",
      "1973         1\n",
      "1988         1\n",
      "1972         1\n",
      "1979         1\n",
      "Name: Manufacture Year, Length: 91, dtype: int64 \n",
      "\n",
      "No.Of.Owners\n",
      "=======================\n",
      "First Owner           36341\n",
      "1st                   10886\n",
      "1st Owner             10040\n",
      "Second Owner           9764\n",
      "2nd                    5581\n",
      "2nd Owner              5020\n",
      "1                      4503\n",
      "First Owner            2478\n",
      "3rd                    1182\n",
      "2                      1077\n",
      "Third Owner             914\n",
      "Second Owner            601\n",
      "4th                     259\n",
      "3                       173\n",
      "4+                      117\n",
      "UnRegistered Car        108\n",
      "Third Owner              69\n",
      "Fourth Owner             56\n",
      "4 or More Owners         48\n",
      "4                        26\n",
      "More Than 4 Owners       10\n",
      "5                         3\n",
      "6                         2\n",
      "Diesel                    2\n",
      "Petrol                    1\n",
      "85000.0                   1\n",
      "80000.0                   1\n",
      "67000.0                   1\n",
      "8                         1\n",
      "Name: No.Of.Owners, dtype: int64 \n",
      "\n",
      "Price\n",
      "=======================\n",
      "425000     1536\n",
      "525000     1153\n",
      "450000     1112\n",
      "550000     1081\n",
      "350000      992\n",
      "           ... \n",
      "320599        1\n",
      "4007000       1\n",
      "631899        1\n",
      "986000        1\n",
      "687899        1\n",
      "Name: Price, Length: 6332, dtype: int64 \n",
      "\n"
     ]
    }
   ],
   "source": [
    "for col in df.columns:\n",
    "    print(col)\n",
    "    print(\"=======================\")\n",
    "    print(df[col].value_counts(),'\\n')"
   ]
  },
  {
   "cell_type": "markdown",
   "id": "bc6eb9e0",
   "metadata": {},
   "source": [
    "We have missing values in body type and transmission type"
   ]
  },
  {
   "cell_type": "code",
   "execution_count": 13,
   "id": "9099a299",
   "metadata": {},
   "outputs": [
    {
     "data": {
      "text/html": [
       "<div>\n",
       "<style scoped>\n",
       "    .dataframe tbody tr th:only-of-type {\n",
       "        vertical-align: middle;\n",
       "    }\n",
       "\n",
       "    .dataframe tbody tr th {\n",
       "        vertical-align: top;\n",
       "    }\n",
       "\n",
       "    .dataframe thead th {\n",
       "        text-align: right;\n",
       "    }\n",
       "</style>\n",
       "<table border=\"1\" class=\"dataframe\">\n",
       "  <thead>\n",
       "    <tr style=\"text-align: right;\">\n",
       "      <th></th>\n",
       "      <th>Brand</th>\n",
       "      <th>Model</th>\n",
       "      <th>Variant</th>\n",
       "      <th>Body Type</th>\n",
       "      <th>Location</th>\n",
       "      <th>Km Driven</th>\n",
       "      <th>Transmission Type</th>\n",
       "      <th>Fuel Type</th>\n",
       "      <th>Manufacture Year</th>\n",
       "      <th>No.Of.Owners</th>\n",
       "      <th>Price</th>\n",
       "    </tr>\n",
       "  </thead>\n",
       "  <tbody>\n",
       "    <tr>\n",
       "      <th>11</th>\n",
       "      <td>MARUTI</td>\n",
       "      <td>OMNI E</td>\n",
       "      <td>8 STR</td>\n",
       "      <td>-</td>\n",
       "      <td>Bengaluru</td>\n",
       "      <td>25265</td>\n",
       "      <td>Manual</td>\n",
       "      <td>Petrol</td>\n",
       "      <td>2018</td>\n",
       "      <td>1</td>\n",
       "      <td>355499</td>\n",
       "    </tr>\n",
       "    <tr>\n",
       "      <th>31</th>\n",
       "      <td>MARUTI</td>\n",
       "      <td>OMNI E</td>\n",
       "      <td>8 STR</td>\n",
       "      <td>-</td>\n",
       "      <td>Bengaluru</td>\n",
       "      <td>25265</td>\n",
       "      <td>Manual</td>\n",
       "      <td>Petrol</td>\n",
       "      <td>2018</td>\n",
       "      <td>1</td>\n",
       "      <td>355499</td>\n",
       "    </tr>\n",
       "    <tr>\n",
       "      <th>238</th>\n",
       "      <td>FORD</td>\n",
       "      <td>FREESTYLE</td>\n",
       "      <td>TITANIUM + 1.2 TI-VCT</td>\n",
       "      <td>-</td>\n",
       "      <td>Bengaluru</td>\n",
       "      <td>35175</td>\n",
       "      <td>Manual</td>\n",
       "      <td>Petrol</td>\n",
       "      <td>2018</td>\n",
       "      <td>1</td>\n",
       "      <td>614099</td>\n",
       "    </tr>\n",
       "    <tr>\n",
       "      <th>254</th>\n",
       "      <td>FORD</td>\n",
       "      <td>FREESTYLE</td>\n",
       "      <td>TITANIUM 1.2 TI-VCT MT</td>\n",
       "      <td>-</td>\n",
       "      <td>Bengaluru</td>\n",
       "      <td>31061</td>\n",
       "      <td>-</td>\n",
       "      <td>Petrol</td>\n",
       "      <td>2018</td>\n",
       "      <td>1</td>\n",
       "      <td>677799</td>\n",
       "    </tr>\n",
       "    <tr>\n",
       "      <th>262</th>\n",
       "      <td>FORD</td>\n",
       "      <td>FREESTYLE</td>\n",
       "      <td>TITANIUM 1.2 TI-VCT MT</td>\n",
       "      <td>-</td>\n",
       "      <td>Bengaluru</td>\n",
       "      <td>31399</td>\n",
       "      <td>Manual</td>\n",
       "      <td>Petrol</td>\n",
       "      <td>2018</td>\n",
       "      <td>1</td>\n",
       "      <td>654399</td>\n",
       "    </tr>\n",
       "    <tr>\n",
       "      <th>...</th>\n",
       "      <td>...</td>\n",
       "      <td>...</td>\n",
       "      <td>...</td>\n",
       "      <td>...</td>\n",
       "      <td>...</td>\n",
       "      <td>...</td>\n",
       "      <td>...</td>\n",
       "      <td>...</td>\n",
       "      <td>...</td>\n",
       "      <td>...</td>\n",
       "      <td>...</td>\n",
       "    </tr>\n",
       "    <tr>\n",
       "      <th>50325</th>\n",
       "      <td>Kia</td>\n",
       "      <td>Sonet</td>\n",
       "      <td>GTX Plus 1.5 AT [2020-2021]</td>\n",
       "      <td>-</td>\n",
       "      <td>Aurangabad</td>\n",
       "      <td>9300</td>\n",
       "      <td>Automatic</td>\n",
       "      <td>Diesel</td>\n",
       "      <td>2020</td>\n",
       "      <td>First Owner</td>\n",
       "      <td>1500000</td>\n",
       "    </tr>\n",
       "    <tr>\n",
       "      <th>50361</th>\n",
       "      <td>Kia</td>\n",
       "      <td>Sonet</td>\n",
       "      <td>GTX Plus 1.5 AT [2020-2021]</td>\n",
       "      <td>-</td>\n",
       "      <td>Aurangabad</td>\n",
       "      <td>9300</td>\n",
       "      <td>Automatic</td>\n",
       "      <td>Diesel</td>\n",
       "      <td>2020</td>\n",
       "      <td>First Owner</td>\n",
       "      <td>1500000</td>\n",
       "    </tr>\n",
       "    <tr>\n",
       "      <th>50373</th>\n",
       "      <td>Hyundai</td>\n",
       "      <td>Venue</td>\n",
       "      <td>SX Plus 1.0 Turbo DCT</td>\n",
       "      <td>-</td>\n",
       "      <td>Mumbai</td>\n",
       "      <td>22000</td>\n",
       "      <td>Automatic</td>\n",
       "      <td>Petrol</td>\n",
       "      <td>2019</td>\n",
       "      <td>First Owner</td>\n",
       "      <td>1095000</td>\n",
       "    </tr>\n",
       "    <tr>\n",
       "      <th>50374</th>\n",
       "      <td>Ford</td>\n",
       "      <td>EcoSport</td>\n",
       "      <td>Titanium + 1.5L Ti-VCT AT [2019-2020]</td>\n",
       "      <td>-</td>\n",
       "      <td>Kolkata</td>\n",
       "      <td>48476</td>\n",
       "      <td>Automatic</td>\n",
       "      <td>Petrol</td>\n",
       "      <td>2018</td>\n",
       "      <td>Second Owner</td>\n",
       "      <td>699999</td>\n",
       "    </tr>\n",
       "    <tr>\n",
       "      <th>13524</th>\n",
       "      <td>Toyota</td>\n",
       "      <td>Innova</td>\n",
       "      <td>2.5 VX 7 STR</td>\n",
       "      <td>-</td>\n",
       "      <td>Chandigarh</td>\n",
       "      <td>55000</td>\n",
       "      <td>Manual</td>\n",
       "      <td>Diesel</td>\n",
       "      <td>2019</td>\n",
       "      <td>1st</td>\n",
       "      <td>1850000.0</td>\n",
       "    </tr>\n",
       "  </tbody>\n",
       "</table>\n",
       "<p>3163 rows × 11 columns</p>\n",
       "</div>"
      ],
      "text/plain": [
       "         Brand      Model                                Variant Body Type  \\\n",
       "11      MARUTI     OMNI E                                  8 STR         -   \n",
       "31      MARUTI     OMNI E                                  8 STR         -   \n",
       "238       FORD  FREESTYLE                  TITANIUM + 1.2 TI-VCT         -   \n",
       "254       FORD  FREESTYLE                 TITANIUM 1.2 TI-VCT MT         -   \n",
       "262       FORD  FREESTYLE                 TITANIUM 1.2 TI-VCT MT         -   \n",
       "...        ...        ...                                    ...       ...   \n",
       "50325      Kia      Sonet            GTX Plus 1.5 AT [2020-2021]         -   \n",
       "50361      Kia      Sonet            GTX Plus 1.5 AT [2020-2021]         -   \n",
       "50373  Hyundai      Venue                  SX Plus 1.0 Turbo DCT         -   \n",
       "50374     Ford   EcoSport  Titanium + 1.5L Ti-VCT AT [2019-2020]         -   \n",
       "13524   Toyota     Innova                           2.5 VX 7 STR         -   \n",
       "\n",
       "         Location Km Driven Transmission Type Fuel Type Manufacture Year  \\\n",
       "11      Bengaluru     25265            Manual    Petrol             2018   \n",
       "31      Bengaluru     25265            Manual    Petrol             2018   \n",
       "238     Bengaluru     35175            Manual    Petrol             2018   \n",
       "254     Bengaluru     31061                 -    Petrol             2018   \n",
       "262     Bengaluru     31399            Manual    Petrol             2018   \n",
       "...           ...       ...               ...       ...              ...   \n",
       "50325  Aurangabad      9300         Automatic    Diesel             2020   \n",
       "50361  Aurangabad      9300         Automatic    Diesel             2020   \n",
       "50373      Mumbai     22000         Automatic    Petrol             2019   \n",
       "50374     Kolkata     48476         Automatic    Petrol             2018   \n",
       "13524  Chandigarh     55000            Manual    Diesel             2019   \n",
       "\n",
       "        No.Of.Owners      Price  \n",
       "11                 1     355499  \n",
       "31                 1     355499  \n",
       "238                1     614099  \n",
       "254                1     677799  \n",
       "262                1     654399  \n",
       "...              ...        ...  \n",
       "50325   First Owner     1500000  \n",
       "50361   First Owner     1500000  \n",
       "50373   First Owner     1095000  \n",
       "50374  Second Owner      699999  \n",
       "13524            1st  1850000.0  \n",
       "\n",
       "[3163 rows x 11 columns]"
      ]
     },
     "execution_count": 13,
     "metadata": {},
     "output_type": "execute_result"
    }
   ],
   "source": [
    "df[df['Body Type']=='-']"
   ]
  },
  {
   "cell_type": "code",
   "execution_count": 14,
   "id": "99a56b5a",
   "metadata": {},
   "outputs": [
    {
     "data": {
      "text/html": [
       "<div>\n",
       "<style scoped>\n",
       "    .dataframe tbody tr th:only-of-type {\n",
       "        vertical-align: middle;\n",
       "    }\n",
       "\n",
       "    .dataframe tbody tr th {\n",
       "        vertical-align: top;\n",
       "    }\n",
       "\n",
       "    .dataframe thead th {\n",
       "        text-align: right;\n",
       "    }\n",
       "</style>\n",
       "<table border=\"1\" class=\"dataframe\">\n",
       "  <thead>\n",
       "    <tr style=\"text-align: right;\">\n",
       "      <th></th>\n",
       "      <th>Brand</th>\n",
       "      <th>Model</th>\n",
       "      <th>Variant</th>\n",
       "      <th>Body Type</th>\n",
       "      <th>Location</th>\n",
       "      <th>Km Driven</th>\n",
       "      <th>Transmission Type</th>\n",
       "      <th>Fuel Type</th>\n",
       "      <th>Manufacture Year</th>\n",
       "      <th>No.Of.Owners</th>\n",
       "      <th>Price</th>\n",
       "    </tr>\n",
       "  </thead>\n",
       "  <tbody>\n",
       "    <tr>\n",
       "      <th>200</th>\n",
       "      <td>RENAULT</td>\n",
       "      <td>KWID</td>\n",
       "      <td>RXT 1.0 EASY-R  AT</td>\n",
       "      <td>Hatchback</td>\n",
       "      <td>Chennai</td>\n",
       "      <td>17480</td>\n",
       "      <td>-</td>\n",
       "      <td>Petrol</td>\n",
       "      <td>2016</td>\n",
       "      <td>1</td>\n",
       "      <td>385899</td>\n",
       "    </tr>\n",
       "    <tr>\n",
       "      <th>254</th>\n",
       "      <td>FORD</td>\n",
       "      <td>FREESTYLE</td>\n",
       "      <td>TITANIUM 1.2 TI-VCT MT</td>\n",
       "      <td>-</td>\n",
       "      <td>Bengaluru</td>\n",
       "      <td>31061</td>\n",
       "      <td>-</td>\n",
       "      <td>Petrol</td>\n",
       "      <td>2018</td>\n",
       "      <td>1</td>\n",
       "      <td>677799</td>\n",
       "    </tr>\n",
       "    <tr>\n",
       "      <th>260</th>\n",
       "      <td>HYUNDAI</td>\n",
       "      <td>CRETA</td>\n",
       "      <td>1.6 SX CRDI</td>\n",
       "      <td>SUV</td>\n",
       "      <td>Bengaluru</td>\n",
       "      <td>113574</td>\n",
       "      <td>-</td>\n",
       "      <td>Diesel</td>\n",
       "      <td>2016</td>\n",
       "      <td>1</td>\n",
       "      <td>901699</td>\n",
       "    </tr>\n",
       "    <tr>\n",
       "      <th>322</th>\n",
       "      <td>FORD</td>\n",
       "      <td>FREESTYLE</td>\n",
       "      <td>TITANIUM 1.2 TI-VCT MT</td>\n",
       "      <td>-</td>\n",
       "      <td>Bengaluru</td>\n",
       "      <td>15307</td>\n",
       "      <td>-</td>\n",
       "      <td>Petrol</td>\n",
       "      <td>2018</td>\n",
       "      <td>1</td>\n",
       "      <td>711699</td>\n",
       "    </tr>\n",
       "    <tr>\n",
       "      <th>470</th>\n",
       "      <td>HYUNDAI</td>\n",
       "      <td>AURA</td>\n",
       "      <td>SX+ AT</td>\n",
       "      <td>Sedan</td>\n",
       "      <td>Jaipur</td>\n",
       "      <td>7197</td>\n",
       "      <td>-</td>\n",
       "      <td>Petrol</td>\n",
       "      <td>2020</td>\n",
       "      <td>1</td>\n",
       "      <td>745199</td>\n",
       "    </tr>\n",
       "    <tr>\n",
       "      <th>...</th>\n",
       "      <td>...</td>\n",
       "      <td>...</td>\n",
       "      <td>...</td>\n",
       "      <td>...</td>\n",
       "      <td>...</td>\n",
       "      <td>...</td>\n",
       "      <td>...</td>\n",
       "      <td>...</td>\n",
       "      <td>...</td>\n",
       "      <td>...</td>\n",
       "      <td>...</td>\n",
       "    </tr>\n",
       "    <tr>\n",
       "      <th>5673</th>\n",
       "      <td>HONDA</td>\n",
       "      <td>CITY ZX</td>\n",
       "      <td>1.5 EXI</td>\n",
       "      <td>-</td>\n",
       "      <td>Aurangabad</td>\n",
       "      <td>91190</td>\n",
       "      <td>-</td>\n",
       "      <td>Petrol</td>\n",
       "      <td>2006</td>\n",
       "      <td>3</td>\n",
       "      <td>100000</td>\n",
       "    </tr>\n",
       "    <tr>\n",
       "      <th>5677</th>\n",
       "      <td>HYUNDAI</td>\n",
       "      <td>CRETA</td>\n",
       "      <td>1.6 SX (O) CRDI</td>\n",
       "      <td>-</td>\n",
       "      <td>Gurgaon</td>\n",
       "      <td>59167</td>\n",
       "      <td>-</td>\n",
       "      <td>Diesel</td>\n",
       "      <td>2015</td>\n",
       "      <td>1</td>\n",
       "      <td>930000</td>\n",
       "    </tr>\n",
       "    <tr>\n",
       "      <th>5680</th>\n",
       "      <td>HONDA</td>\n",
       "      <td>CITY ZX</td>\n",
       "      <td>1.5 EXI</td>\n",
       "      <td>-</td>\n",
       "      <td>New Delhi</td>\n",
       "      <td>94111</td>\n",
       "      <td>-</td>\n",
       "      <td>Petrol</td>\n",
       "      <td>2007</td>\n",
       "      <td>4</td>\n",
       "      <td>99000</td>\n",
       "    </tr>\n",
       "    <tr>\n",
       "      <th>5681</th>\n",
       "      <td>JAGUAR</td>\n",
       "      <td>XE</td>\n",
       "      <td>PRESTIGE DIESEL</td>\n",
       "      <td>-</td>\n",
       "      <td>Vadodara</td>\n",
       "      <td>9892</td>\n",
       "      <td>-</td>\n",
       "      <td>Diesel</td>\n",
       "      <td>2017</td>\n",
       "      <td>1</td>\n",
       "      <td>3500000</td>\n",
       "    </tr>\n",
       "    <tr>\n",
       "      <th>5779</th>\n",
       "      <td>HYUNDAI</td>\n",
       "      <td>VERNA</td>\n",
       "      <td>1.6 SX (O) AT CRDI</td>\n",
       "      <td>-</td>\n",
       "      <td>Mumbai</td>\n",
       "      <td>34871</td>\n",
       "      <td>-</td>\n",
       "      <td>Diesel</td>\n",
       "      <td>2017</td>\n",
       "      <td>1</td>\n",
       "      <td>1150000</td>\n",
       "    </tr>\n",
       "  </tbody>\n",
       "</table>\n",
       "<p>133 rows × 11 columns</p>\n",
       "</div>"
      ],
      "text/plain": [
       "        Brand      Model                 Variant  Body Type    Location  \\\n",
       "200   RENAULT       KWID      RXT 1.0 EASY-R  AT  Hatchback     Chennai   \n",
       "254      FORD  FREESTYLE  TITANIUM 1.2 TI-VCT MT          -   Bengaluru   \n",
       "260   HYUNDAI      CRETA             1.6 SX CRDI        SUV   Bengaluru   \n",
       "322      FORD  FREESTYLE  TITANIUM 1.2 TI-VCT MT          -   Bengaluru   \n",
       "470   HYUNDAI       AURA                  SX+ AT      Sedan      Jaipur   \n",
       "...       ...        ...                     ...        ...         ...   \n",
       "5673    HONDA    CITY ZX                 1.5 EXI          -  Aurangabad   \n",
       "5677  HYUNDAI      CRETA         1.6 SX (O) CRDI          -     Gurgaon   \n",
       "5680    HONDA    CITY ZX                 1.5 EXI          -   New Delhi   \n",
       "5681   JAGUAR        XE          PRESTIGE DIESEL          -    Vadodara   \n",
       "5779  HYUNDAI      VERNA      1.6 SX (O) AT CRDI          -      Mumbai   \n",
       "\n",
       "     Km Driven Transmission Type Fuel Type Manufacture Year No.Of.Owners  \\\n",
       "200      17480                 -    Petrol             2016            1   \n",
       "254      31061                 -    Petrol             2018            1   \n",
       "260     113574                 -    Diesel             2016            1   \n",
       "322      15307                 -    Petrol             2018            1   \n",
       "470       7197                 -    Petrol             2020            1   \n",
       "...        ...               ...       ...              ...          ...   \n",
       "5673     91190                 -    Petrol             2006            3   \n",
       "5677     59167                 -    Diesel             2015            1   \n",
       "5680     94111                 -    Petrol             2007            4   \n",
       "5681      9892                 -    Diesel             2017            1   \n",
       "5779     34871                 -    Diesel             2017            1   \n",
       "\n",
       "        Price  \n",
       "200    385899  \n",
       "254    677799  \n",
       "260    901699  \n",
       "322    711699  \n",
       "470    745199  \n",
       "...       ...  \n",
       "5673   100000  \n",
       "5677   930000  \n",
       "5680    99000  \n",
       "5681  3500000  \n",
       "5779  1150000  \n",
       "\n",
       "[133 rows x 11 columns]"
      ]
     },
     "execution_count": 14,
     "metadata": {},
     "output_type": "execute_result"
    }
   ],
   "source": [
    "df[df['Transmission Type']=='-']"
   ]
  },
  {
   "cell_type": "markdown",
   "id": "bc201b23",
   "metadata": {},
   "source": [
    "I will drop the rows with missing values as it will not be appropriate data if we try filling the missing values using mode."
   ]
  },
  {
   "cell_type": "code",
   "execution_count": null,
   "id": "503eed66",
   "metadata": {},
   "outputs": [],
   "source": []
  },
  {
   "cell_type": "code",
   "execution_count": 15,
   "id": "8f95793b",
   "metadata": {},
   "outputs": [],
   "source": [
    "df.loc[df['Body Type']=='-','Body Type']=np.nan"
   ]
  },
  {
   "cell_type": "code",
   "execution_count": 16,
   "id": "f2b949d7",
   "metadata": {},
   "outputs": [
    {
     "data": {
      "text/plain": [
       "Brand                   0\n",
       "Model                   0\n",
       "Variant                 0\n",
       "Body Type            3163\n",
       "Location                0\n",
       "Km Driven               0\n",
       "Transmission Type       0\n",
       "Fuel Type               0\n",
       "Manufacture Year        0\n",
       "No.Of.Owners            0\n",
       "Price                   0\n",
       "dtype: int64"
      ]
     },
     "execution_count": 16,
     "metadata": {},
     "output_type": "execute_result"
    }
   ],
   "source": [
    "df.isna().sum()"
   ]
  },
  {
   "cell_type": "code",
   "execution_count": 17,
   "id": "fb3f69ad",
   "metadata": {},
   "outputs": [],
   "source": [
    "df.loc[df['Transmission Type']=='-','Transmission Type']=np.nan"
   ]
  },
  {
   "cell_type": "code",
   "execution_count": 18,
   "id": "667057af",
   "metadata": {},
   "outputs": [
    {
     "data": {
      "text/plain": [
       "Brand                   0\n",
       "Model                   0\n",
       "Variant                 0\n",
       "Body Type            3163\n",
       "Location                0\n",
       "Km Driven               0\n",
       "Transmission Type     133\n",
       "Fuel Type               0\n",
       "Manufacture Year        0\n",
       "No.Of.Owners            0\n",
       "Price                   0\n",
       "dtype: int64"
      ]
     },
     "execution_count": 18,
     "metadata": {},
     "output_type": "execute_result"
    }
   ],
   "source": [
    "df.isna().sum()"
   ]
  },
  {
   "cell_type": "code",
   "execution_count": 19,
   "id": "70de2fb0",
   "metadata": {},
   "outputs": [],
   "source": [
    "df.dropna(inplace=True)"
   ]
  },
  {
   "cell_type": "code",
   "execution_count": 20,
   "id": "56989077",
   "metadata": {},
   "outputs": [
    {
     "data": {
      "text/plain": [
       "Brand                0\n",
       "Model                0\n",
       "Variant              0\n",
       "Body Type            0\n",
       "Location             0\n",
       "Km Driven            0\n",
       "Transmission Type    0\n",
       "Fuel Type            0\n",
       "Manufacture Year     0\n",
       "No.Of.Owners         0\n",
       "Price                0\n",
       "dtype: int64"
      ]
     },
     "execution_count": 20,
     "metadata": {},
     "output_type": "execute_result"
    }
   ],
   "source": [
    "df.isna().sum()"
   ]
  },
  {
   "cell_type": "code",
   "execution_count": 21,
   "id": "0f91cd68",
   "metadata": {},
   "outputs": [
    {
     "data": {
      "text/plain": [
       "(86063, 11)"
      ]
     },
     "execution_count": 21,
     "metadata": {},
     "output_type": "execute_result"
    }
   ],
   "source": [
    "df.shape"
   ]
  },
  {
   "cell_type": "code",
   "execution_count": 22,
   "id": "efba3bf2",
   "metadata": {},
   "outputs": [
    {
     "data": {
      "text/plain": [
       "array(['Maruti', 'Toyota', 'Honda', 'Hyundai', 'MG', 'Datsun', 'Renault',\n",
       "       'Mahindra', 'Volkswagen', 'Skoda', 'Tata', 'Jeep', 'Kia', 'Nissan',\n",
       "       'Volvo', 'Ford', 'Audi', 'Mercedes-Benz', 'BMW', 'Fiat',\n",
       "       'Land Rover', 'Porsche', 'Chevrolet', 'HYUNDAI', 'MARUTI', 'TATA',\n",
       "       'FORD', 'RENAULT', 'NISSAN', 'TOYOTA', 'SSANGYONG', 'DATSUN',\n",
       "       'VOLKSWAGEN', 'MAHINDRA', 'HONDA', 'KIA', 'MERCEDES BENZ', 'AUDI',\n",
       "       'SKODA', 'FIAT', 'JAGUAR', 'CHEVROLET', 'MAHINDRA RENAULT',\n",
       "       'LANDROVER', 'OPEL', 'VOLVO', 'Maruti Suzuki', 'Mitsubishi',\n",
       "       'Ssangyong', 'Hindustan Motors', 'Isuzu', 'Mahindra-Renault', 'DC',\n",
       "       'Premier', 'Opel', 'MINI', 'Jaguar', 'Lexus', 'Rolls-Royce',\n",
       "       'Aston Martin', 'Bentley', 'Hummer', 'Lamborghini', 'Maserati',\n",
       "       'Chrysler', 'Ferrari', 'Mercedes Benz', 'Bajaj', '2015',\n",
       "       'Other Brands', 'Force Motors', '2012', 'Mahindra Renault', 'Mini',\n",
       "       'Ambassador', 'Daewoo', 'San', 'Maybach', 'Eicher Polaris', '2011',\n",
       "       '2014', 'Ashok Leyland', 'Hindustan', 'Peugeot', 'Ashok', 'Dc',\n",
       "       'Aston', 'Caterham'], dtype=object)"
      ]
     },
     "execution_count": 22,
     "metadata": {},
     "output_type": "execute_result"
    }
   ],
   "source": [
    "df['Brand'].unique()"
   ]
  },
  {
   "cell_type": "code",
   "execution_count": 23,
   "id": "77250e2c",
   "metadata": {},
   "outputs": [],
   "source": [
    "df['Brand']=[x.lower() for x in df['Brand']]"
   ]
  },
  {
   "cell_type": "code",
   "execution_count": 24,
   "id": "c7ae7750",
   "metadata": {},
   "outputs": [
    {
     "data": {
      "text/plain": [
       "array(['maruti', 'toyota', 'honda', 'hyundai', 'mg', 'datsun', 'renault',\n",
       "       'mahindra', 'volkswagen', 'skoda', 'tata', 'jeep', 'kia', 'nissan',\n",
       "       'volvo', 'ford', 'audi', 'mercedes-benz', 'bmw', 'fiat',\n",
       "       'land rover', 'porsche', 'chevrolet', 'ssangyong', 'mercedes benz',\n",
       "       'jaguar', 'mahindra renault', 'landrover', 'opel', 'maruti suzuki',\n",
       "       'mitsubishi', 'hindustan motors', 'isuzu', 'mahindra-renault',\n",
       "       'dc', 'premier', 'mini', 'lexus', 'rolls-royce', 'aston martin',\n",
       "       'bentley', 'hummer', 'lamborghini', 'maserati', 'chrysler',\n",
       "       'ferrari', 'bajaj', '2015', 'other brands', 'force motors', '2012',\n",
       "       'ambassador', 'daewoo', 'san', 'maybach', 'eicher polaris', '2011',\n",
       "       '2014', 'ashok leyland', 'hindustan', 'peugeot', 'ashok', 'aston',\n",
       "       'caterham'], dtype=object)"
      ]
     },
     "execution_count": 24,
     "metadata": {},
     "output_type": "execute_result"
    }
   ],
   "source": [
    "df['Brand'].unique()"
   ]
  },
  {
   "cell_type": "code",
   "execution_count": 25,
   "id": "7bc927f9",
   "metadata": {},
   "outputs": [],
   "source": [
    "df['Brand']=df['Brand'].replace({'maruti suzuki':'maruti','mahindra-renault':'mahindra renault','mercedes-benz':'mercedes benz',\n",
    "                                'hindustan motors':'hindustan','aston':'aston martin','ashok':'ashok leyland'})"
   ]
  },
  {
   "cell_type": "code",
   "execution_count": 26,
   "id": "b0764792",
   "metadata": {},
   "outputs": [
    {
     "data": {
      "text/plain": [
       "array(['maruti', 'toyota', 'honda', 'hyundai', 'mg', 'datsun', 'renault',\n",
       "       'mahindra', 'volkswagen', 'skoda', 'tata', 'jeep', 'kia', 'nissan',\n",
       "       'volvo', 'ford', 'audi', 'mercedes benz', 'bmw', 'fiat',\n",
       "       'land rover', 'porsche', 'chevrolet', 'ssangyong', 'jaguar',\n",
       "       'mahindra renault', 'landrover', 'opel', 'mitsubishi', 'hindustan',\n",
       "       'isuzu', 'dc', 'premier', 'mini', 'lexus', 'rolls-royce',\n",
       "       'aston martin', 'bentley', 'hummer', 'lamborghini', 'maserati',\n",
       "       'chrysler', 'ferrari', 'bajaj', '2015', 'other brands',\n",
       "       'force motors', '2012', 'ambassador', 'daewoo', 'san', 'maybach',\n",
       "       'eicher polaris', '2011', '2014', 'ashok leyland', 'peugeot',\n",
       "       'caterham'], dtype=object)"
      ]
     },
     "execution_count": 26,
     "metadata": {},
     "output_type": "execute_result"
    }
   ],
   "source": [
    "df['Brand'].unique()"
   ]
  },
  {
   "cell_type": "code",
   "execution_count": 27,
   "id": "b73fd4a2",
   "metadata": {},
   "outputs": [
    {
     "data": {
      "text/plain": [
       "2015    1\n",
       "Name: Brand, dtype: int64"
      ]
     },
     "execution_count": 27,
     "metadata": {},
     "output_type": "execute_result"
    }
   ],
   "source": [
    "df[df['Brand']=='2015'].Brand.value_counts()"
   ]
  },
  {
   "cell_type": "code",
   "execution_count": 28,
   "id": "c48a841a",
   "metadata": {},
   "outputs": [],
   "source": [
    "df.loc[df['Brand']=='2015','Brand']=np.nan"
   ]
  },
  {
   "cell_type": "code",
   "execution_count": 29,
   "id": "3c1cf29c",
   "metadata": {},
   "outputs": [
    {
     "data": {
      "text/plain": [
       "2012    2\n",
       "Name: Brand, dtype: int64"
      ]
     },
     "execution_count": 29,
     "metadata": {},
     "output_type": "execute_result"
    }
   ],
   "source": [
    "df[df['Brand']=='2012'].Brand.value_counts()"
   ]
  },
  {
   "cell_type": "code",
   "execution_count": 30,
   "id": "21a330ae",
   "metadata": {},
   "outputs": [],
   "source": [
    "df.loc[df['Brand']=='2012','Brand']=np.nan"
   ]
  },
  {
   "cell_type": "code",
   "execution_count": 31,
   "id": "6cc9fb2c",
   "metadata": {},
   "outputs": [
    {
     "data": {
      "text/plain": [
       "2011    2\n",
       "Name: Brand, dtype: int64"
      ]
     },
     "execution_count": 31,
     "metadata": {},
     "output_type": "execute_result"
    }
   ],
   "source": [
    "df[df['Brand']=='2011'].Brand.value_counts()"
   ]
  },
  {
   "cell_type": "code",
   "execution_count": 32,
   "id": "0e634a17",
   "metadata": {},
   "outputs": [],
   "source": [
    "df.loc[df['Brand']=='2011','Brand']=np.nan"
   ]
  },
  {
   "cell_type": "code",
   "execution_count": 33,
   "id": "51c670bb",
   "metadata": {},
   "outputs": [
    {
     "data": {
      "text/plain": [
       "2014    1\n",
       "Name: Brand, dtype: int64"
      ]
     },
     "execution_count": 33,
     "metadata": {},
     "output_type": "execute_result"
    }
   ],
   "source": [
    "df[df['Brand']=='2014'].Brand.value_counts()"
   ]
  },
  {
   "cell_type": "code",
   "execution_count": 34,
   "id": "8a881df2",
   "metadata": {},
   "outputs": [],
   "source": [
    "df.loc[df['Brand']=='2014','Brand']=np.nan"
   ]
  },
  {
   "cell_type": "code",
   "execution_count": 35,
   "id": "d017ddfb",
   "metadata": {},
   "outputs": [
    {
     "data": {
      "text/plain": [
       "Brand                6\n",
       "Model                0\n",
       "Variant              0\n",
       "Body Type            0\n",
       "Location             0\n",
       "Km Driven            0\n",
       "Transmission Type    0\n",
       "Fuel Type            0\n",
       "Manufacture Year     0\n",
       "No.Of.Owners         0\n",
       "Price                0\n",
       "dtype: int64"
      ]
     },
     "execution_count": 35,
     "metadata": {},
     "output_type": "execute_result"
    }
   ],
   "source": [
    "df.isna().sum()"
   ]
  },
  {
   "cell_type": "code",
   "execution_count": 36,
   "id": "1a5691af",
   "metadata": {},
   "outputs": [],
   "source": [
    "df.dropna(inplace=True)"
   ]
  },
  {
   "cell_type": "code",
   "execution_count": 37,
   "id": "3571a282",
   "metadata": {},
   "outputs": [
    {
     "data": {
      "text/plain": [
       "array(['Maruti Baleno', 'Maruti S-Presso', 'Toyota Urban cruiser',\n",
       "       'Honda City', 'Hyundai Grand i10', 'Maruti SX4 S Cross',\n",
       "       'Maruti Wagon R', 'Maruti XL6', 'MG Hector', 'Datsun RediGO',\n",
       "       'Maruti Alto K10', 'Renault Duster', 'Mahindra Thar',\n",
       "       'Volkswagen Polo', 'Maruti Celerio', 'Volkswagen Ameo',\n",
       "       'Maruti Swift', 'Mahindra XUV500', 'Hyundai i20', 'Renault Triber',\n",
       "       'Renault KWID', 'Volkswagen Jetta', 'Maruti Swift Dzire',\n",
       "       'Skoda Rapid', 'Renault Kiger', 'Tata Tiago', 'Honda Amaze',\n",
       "       'Jeep Compass', 'Hyundai Santro', 'Hyundai Creta', 'Tata Harrier',\n",
       "       'Mahindra XUV300', 'Maruti Alto 800', 'Honda BR-V', 'Maruti Ignis',\n",
       "       'Kia Sonet', 'Mahindra Bolero', 'Hyundai i10',\n",
       "       'Hyundai Grand i10 Nios', 'Toyota Yaris', 'Maruti Ciaz',\n",
       "       'Honda Jazz', 'Hyundai EON', 'Maruti Ritz', 'Honda WR-V',\n",
       "       'Mahindra KUV 100', 'Mahindra Marazzo', 'Maruti Vitara Brezza',\n",
       "       'Volkswagen Vento', 'Hyundai Venue', 'Honda Brio',\n",
       "       'Nissan Terrano', 'Nissan Kicks', 'Hyundai Xcent',\n",
       "       'Toyota Innova Crysta', 'Tata Nexon', 'Hyundai Verna',\n",
       "       'MG Hector Plus', 'Toyota Etios', 'Toyota Corolla Altis',\n",
       "       'Toyota Glanza', 'Maruti Ertiga', 'Mahindra TUV 300',\n",
       "       'Hyundai i20 Active', 'Maruti Celerio X', 'Hyundai Aura',\n",
       "       'Tata Altroz', 'Nissan Micra Active', 'Volvo S60 Cross Country',\n",
       "       'Ford Figo', 'Maruti Eeco', 'Audi A6', 'Audi A4', 'Datsun GO',\n",
       "       'Tata Tigor', 'Honda CR-V', 'Maruti Alto', 'Mercedes-Benz E-Class',\n",
       "       'Toyota Innova', 'Maruti Baleno RS', 'Toyota Fortuner',\n",
       "       'BMW 3 Series', 'Mercedes-Benz G', 'Audi Q3',\n",
       "       'Hyundai Santro Xing', 'Audi Q5', 'Fiat Grande Punto',\n",
       "       'Land Rover Range Rover Sport', 'Maruti Zen Estilo',\n",
       "       'BMW 3 Series GT', 'Porsche Cayenne', 'Mahindra Quanto',\n",
       "       'Mercedes-Benz New C-Class', 'Toyota Corolla', 'Skoda Superb',\n",
       "       'Chevrolet Sail Hatchback', 'Ford Fiesta', 'Maruti A-Star',\n",
       "       'Volkswagen Passat', 'Mahindra NuvoSport', 'Maruti Omni',\n",
       "       'Mahindra Xylo', 'Skoda New Laura', 'Ford Ikon',\n",
       "       'Mahindra Scorpio', 'Hyundai Kona', 'Ford Figo Aspire',\n",
       "       'Tata Aria', 'GRAND I10', 'ALTO 800', 'ALTO K10', 'EON',\n",
       "       'SWIFT DZIRE', 'NEW SANTRO', 'WAGON R 1.0', 'CELERIO', 'SWIFT',\n",
       "       'SANTRO XING', 'S CROSS', 'DZIRE', 'SAFARI STORME', 'RITZ', 'ZEST',\n",
       "       'ZEN ESTILO', 'VITARA BREZZA', 'I10', 'BALENO', 'ECOSPORT', 'KWID',\n",
       "       'I20 ACTIVE', 'TERRANO', 'A STAR', 'ETIOS', 'VERNA', 'NEW FIGO',\n",
       "       'EECO', 'FIGO ASPIRE', 'REXTON', 'I20', 'REDI GO', 'IGNIS', 'AMEO',\n",
       "       'OMNI E', 'CRETA', 'ELITE I20', 'ERTIGA', 'CIAZ', 'TUV300', 'ALTO',\n",
       "       'X1', 'XCENT', 'TIAGO', 'FORTUNER', 'CITY', 'POLO', 'XUV 3OO',\n",
       "       'XUV500', 'AMAZE', 'NEXON ', 'ENDEAVOUR', 'TIGOR', 'DUSTER',\n",
       "       'COROLLA ALTIS', 'New  Wagon-R', 'SCORPIO', 'SELTOS', 'SUNNY',\n",
       "       'FIGO', 'E CLASS', '3 SERIES', 'A4', 'GRAND I10 NIOS', 'VENUE',\n",
       "       'INNOVA CRYSTA', 'MOBILIO', 'Harrier', 'VENTO', 'TUCSON NEW',\n",
       "       'KUV100', 'GLA CLASS', 'WR-V', 'BR-V', 'YARIS', 'A3', 'HEXA',\n",
       "       'RAPID', 'OCTAVIA', 'CRV', 'MICRA ACTIVE', 'BRIO', 'NEW ELANTRA',\n",
       "       '5 SERIES', 'INNOVA', 'Compass', 'HECTOR', 'JAZZ', 'TRIBER',\n",
       "       'ALTROZ ', 'SUPERB', 'BOLERO', 'Glanza', 'CAPTUR', 'GO PLUS',\n",
       "       'S PRESSO', 'AURA', 'XL6', 'ETIOS LIVA', 'CAMRY', 'CIVIC',\n",
       "       'CELERIO X', 'WAGON R', 'MICRA', 'THAR', 'WAGON R STINGRAY',\n",
       "       'JETTA', 'NANO', 'A6', 'Q3', 'XYLO', 'PASSAT', 'FIESTA',\n",
       "       'PUNTO EVO', 'LODGY', 'XF', 'Kicks', 'GLC CLASS', 'SX4', 'QUANTO',\n",
       "       'BEAT', 'INDIGO ECS', 'ZEN', 'GRAND PUNTO', 'INDIGO', 'LOGAN',\n",
       "       'XJ L', 'CITY ZX', 'FABIA', 'BOLT', 'SAFARI', 'ACCORD', 'EVALIA',\n",
       "       'ESTEEM', 'PULSE', '800', 'SANTRO', 'COROLLA', 'FREELANDER 2',\n",
       "       'CRUZE', 'ACCENT', 'VERITO', 'Xenon XT', 'SPARK', 'ENJOY', 'ASTRA',\n",
       "       'SANTA FE', 'VISTA', 'SONATA TRANSFORM', 'FIESTA CLASSIC', 'YETI',\n",
       "       'KUV 100 NXT', 'X TRAIL', 'INDICA V2', 'FLUENCE', 'E 20',\n",
       "       'INDICA V2 XETA', 'S60', 'SCALA', 'SUMO GOLD', 'AVEO U VA',\n",
       "       'OPTRA MAGNUM', 'C CLASS', 'LAURA', 'INDIGO CS', 'Maxximo ',\n",
       "       'INDICA VISTA', 'MANZA', 'IKON', 'INDICA EV2', 'VERITO VIBE CS',\n",
       "       'GYPSY', 'PALIO', 'Ciaz [2017-2018]', 'Grand i10 [2013-2017]',\n",
       "       'Verna [2011-2015]', 'Elite i20 [2014-2015]', 'City [2014-2017]',\n",
       "       'Fiesta [2008-2011]', 'Wagon R [2006-2010]', 'Verna [2015-2017]',\n",
       "       'Duster [2015-2016]', 'Compass [2017-2021]', 'Elantra [2016-2019]',\n",
       "       'Grand i10', 'Vento [2012-2014]', 'Cross Polo', 'Santro',\n",
       "       'Baleno [2015-2019]', 'Hector [2019-2021]', 'Yaris',\n",
       "       'Polo [2016-2019]', 'Brio [2011-2013]', 'Amaze [2013-2016]',\n",
       "       'Jazz [2015-2018]', 'City [2008-2011]', 'Swift [2011-2014]',\n",
       "       'Figo [2010-2012]', 'Alto 800 [2012-2016]', 'Innova [2005-2009]',\n",
       "       'Corolla Altis [2011-2014]', 'Creta [2017-2018]',\n",
       "       'Vento [2014-2015]', 'Etios Liva [2011-2013]',\n",
       "       'Elite i20 [2017-2018]', 'S-Presso', 'Creta [2018-2019]',\n",
       "       'Swift DZire [2011-2015]', 'i20 [2012-2014]',\n",
       "       'Alto K10 [2010-2014]', 'Eon [2011-2019]', 'S-Cross [2014-2017]',\n",
       "       'Beat [2009-2011]', 'Polo [2010-2012]', 'Terrano [2013-2017]',\n",
       "       'EcoSport [2015-2017]', 'Micra [2010-2013]', 'Civic [2010-2013]',\n",
       "       'Brio [2013-2016]', 'Tiago [2016-2020]', 'Innova [2009-2012]',\n",
       "       'i10 [2010-2017]', 'Fortuner [2009-2012]', 'City ZX [2005-2008]',\n",
       "       'Sunny', 'Indica Vista [2008-2011]', 'i10 [2007-2010]', 'Jeep',\n",
       "       'Santro Xing [2003-2008]', 'TUV300 [2015-2019]',\n",
       "       'redi-GO [2016-2020]', 'Estilo [2009-2014]', 'Polo [2014-2015]',\n",
       "       'Wagon R 1.0 [2010-2013]', 'Swift  [2005-2010]',\n",
       "       'EcoSport [2017-2019]', 'i20 Active [2015-2018]',\n",
       "       'Vitara Brezza [2016-2020]', 'S-Cross [2017-2020]',\n",
       "       'i20 [2008-2010]', 'Elite i20 [2018-2019]', 'Eeco',\n",
       "       'Pulse [2015-2017]', 'Triber', 'Fabia [2010-2015]',\n",
       "       'Ritz [2013-2017]', 'Ertiga [2015-2018]', 'Scorpio [2009-2014]',\n",
       "       'Wagon R 1.0 [2014-2019]', 'Thar', 'Swift [2014-2018]',\n",
       "       'Celerio [2014-2017]', 'Innova Crysta [2016-2020]',\n",
       "       'Scala [2012-2017]', 'XUV500 [2015-2018]', 'WR-V [2017-2020]',\n",
       "       'Wagon R', 'Pulse [2012-2015]', 'Hector', 'Etios [2010-2013]',\n",
       "       'Ritz [2009-2012]', 'Manza [2009-2011]', 'Celerio [2017-2021]',\n",
       "       'Verna', 'Thar [2014-2020]', 'Nano', 'Elite i20 [2019-2020]',\n",
       "       'Ertiga', 'Swift Dzire [2008-2010]', 'Rapid [2014-2015]',\n",
       "       'EcoSport [2013-2015]', 'Corolla Altis [2008-2011]',\n",
       "       'Ciaz [2014-2017]', 'Santro Xing [2008-2015]',\n",
       "       'XUV500 [2011-2015]', 'Etios [2014-2016]', 'Bolero [2011-2020]',\n",
       "       'Scorpio', 'Duster [2012-2015]', 'Figo [2012-2015]',\n",
       "       'Scorpio [2014-2017]', 'Cross Polo [2013-2015]',\n",
       "       'Figo [2015-2019]', 'Swift  [2010-2011]', 'City',\n",
       "       'City [2011-2014]', 'Creta [2015-2017]', 'Elantra [2012-2015]',\n",
       "       'Alto 800 [2016-2019]', 'Safari Storme [2012-2015]',\n",
       "       'E-Class [1998-2002]', 'Omni', 'Innova [2012-2013]',\n",
       "       'i20 [2010-2012]', 'E-Class [2013-2015]', 'Kwid [2015-2019]',\n",
       "       'Innova [2013-2014]', 'Alto K10', 'GO [2014-2018]',\n",
       "       'Polo [2012-2014]', 'Beat [2011-2014]', 'Fortuner [2016-2021]',\n",
       "       'Etios Liva [2014-2016]', 'Marazzo [2018-2020]',\n",
       "       'Jetta [2013-2015]', 'Xylo [2009-2012]', 'Duster [2016-2019]',\n",
       "       'Ertiga [2012-2015]', 'Etios Cross', 'Pajero',\n",
       "       'Indigo CS [2008-2011]', 'Qualis [2002-2004]', 'Mobilio', 'Venue',\n",
       "       'Xylo [2012-2014]', 'Sunny [2011-2014]', 'SX4 [2007-2013]',\n",
       "       'Fiesta [2011-2014]', 'Hexa [2017-2019]', 'Rapid [2011-2014]',\n",
       "       'Octavia [2013-2015]', 'Passat [2007-2014]', 'Sail [2012-2014]',\n",
       "       'Swift [2018-2021]', 'Cruze [2009-2012]', 'Punto [2011-2014]',\n",
       "       'Vento [2010-2012]', 'Fortuner [2012-2016]', 'Verna [2006-2010]',\n",
       "       'Jazz [2011-2013]', 'Rexton', 'Brio', 'Micra Active [2013-2018]',\n",
       "       'Sumo Gold', 'Lancer [2004-2012]', 'Alto', 'Baleno', 'Freestyle',\n",
       "       'Bolt', 'Verna [2017-2020]', 'Estilo [2006-2009]', 'i20 Active',\n",
       "       '800 [2000-2008]', 'Laura [2009-2013]', 'Kwid [2019]',\n",
       "       'Nexon [2017-2020]', 'Elite i20 [2016-2017]', 'Captur [2017-2019]',\n",
       "       'Rapid', 'Corolla Altis [2014-2017]', 'Punto Evo',\n",
       "       'Fluidic Verna 4S [2015-2016]', 'Jetta [2008-2011]',\n",
       "       'Scorpio [2006-2009]', 'Ignis [2017-2019]', 'Quanto [2012-2016]',\n",
       "       'Octavia [2001-2010]', 'Ignis', 'A-Star [2008-2012]',\n",
       "       'Bolero [2007-2011]', 'Ambassador', 'Innova [2015-2016]',\n",
       "       'Rapid TSI', 'Ciaz', 'Getz [2004-2007]', 'KUV100 [2016-2017]',\n",
       "       'i20', 'Aria [2010-2014]', 'Fluence [2011-2014]', 'Linea',\n",
       "       'GO Plus [2015-2018]', 'Alto [2005-2010]', 'Corolla Altis',\n",
       "       'Indica Vista [2012-2014]', 'Beat [2014-2016]',\n",
       "       'Civic [2006-2010]', 'Kushaq', 'Spark [2013-2017]', 'Etios Liva',\n",
       "       'City [2000-2003]', 'Abarth Punto', 'Santro [2000-2003]',\n",
       "       'Creta [2019-2020]', 'Spark [2007-2012]', 'Jetta [2011-2013]',\n",
       "       'Accent [2009-2013]', 'Octavia [2017-2021]', 'CR-V [2007-2009]',\n",
       "       'Enjoy', 'Getz Prime [2007-2010]', 'Accord [2003-2007]',\n",
       "       'Wagon R [1999-2006]'], dtype=object)"
      ]
     },
     "execution_count": 37,
     "metadata": {},
     "output_type": "execute_result"
    }
   ],
   "source": [
    "df['Model'].unique()[:500]"
   ]
  },
  {
   "cell_type": "code",
   "execution_count": 38,
   "id": "2d675c91",
   "metadata": {},
   "outputs": [],
   "source": [
    "df['Model']=[x[:x.rindex(\"[\")].strip()  if '[' in x else x for x in df['Model']]"
   ]
  },
  {
   "cell_type": "code",
   "execution_count": 39,
   "id": "e8c40b97",
   "metadata": {},
   "outputs": [
    {
     "data": {
      "text/plain": [
       "772"
      ]
     },
     "execution_count": 39,
     "metadata": {},
     "output_type": "execute_result"
    }
   ],
   "source": [
    "len(df['Model'].unique())"
   ]
  },
  {
   "cell_type": "code",
   "execution_count": 40,
   "id": "332e9903",
   "metadata": {},
   "outputs": [],
   "source": [
    "df['Model']=[x.lower() for x in df['Model']]"
   ]
  },
  {
   "cell_type": "code",
   "execution_count": 41,
   "id": "215588a6",
   "metadata": {},
   "outputs": [
    {
     "data": {
      "text/plain": [
       "632"
      ]
     },
     "execution_count": 41,
     "metadata": {},
     "output_type": "execute_result"
    }
   ],
   "source": [
    "len(df['Model'].unique())"
   ]
  },
  {
   "cell_type": "code",
   "execution_count": 42,
   "id": "8306c0b9",
   "metadata": {},
   "outputs": [
    {
     "data": {
      "text/plain": [
       "array(['maruti baleno', 'maruti s-presso', 'toyota urban cruiser',\n",
       "       'honda city', 'hyundai grand i10', 'maruti sx4 s cross',\n",
       "       'maruti wagon r', 'maruti xl6', 'mg hector', 'datsun redigo',\n",
       "       'maruti alto k10', 'renault duster', 'mahindra thar',\n",
       "       'volkswagen polo', 'maruti celerio', 'volkswagen ameo',\n",
       "       'maruti swift', 'mahindra xuv500', 'hyundai i20', 'renault triber',\n",
       "       'renault kwid', 'volkswagen jetta', 'maruti swift dzire',\n",
       "       'skoda rapid', 'renault kiger', 'tata tiago', 'honda amaze',\n",
       "       'jeep compass', 'hyundai santro', 'hyundai creta', 'tata harrier',\n",
       "       'mahindra xuv300', 'maruti alto 800', 'honda br-v', 'maruti ignis',\n",
       "       'kia sonet', 'mahindra bolero', 'hyundai i10',\n",
       "       'hyundai grand i10 nios', 'toyota yaris', 'maruti ciaz',\n",
       "       'honda jazz', 'hyundai eon', 'maruti ritz', 'honda wr-v',\n",
       "       'mahindra kuv 100', 'mahindra marazzo', 'maruti vitara brezza',\n",
       "       'volkswagen vento', 'hyundai venue', 'honda brio',\n",
       "       'nissan terrano', 'nissan kicks', 'hyundai xcent',\n",
       "       'toyota innova crysta', 'tata nexon', 'hyundai verna',\n",
       "       'mg hector plus', 'toyota etios', 'toyota corolla altis',\n",
       "       'toyota glanza', 'maruti ertiga', 'mahindra tuv 300',\n",
       "       'hyundai i20 active', 'maruti celerio x', 'hyundai aura',\n",
       "       'tata altroz', 'nissan micra active', 'volvo s60 cross country',\n",
       "       'ford figo', 'maruti eeco', 'audi a6', 'audi a4', 'datsun go',\n",
       "       'tata tigor', 'honda cr-v', 'maruti alto', 'mercedes-benz e-class',\n",
       "       'toyota innova', 'maruti baleno rs', 'toyota fortuner',\n",
       "       'bmw 3 series', 'mercedes-benz g', 'audi q3',\n",
       "       'hyundai santro xing', 'audi q5', 'fiat grande punto',\n",
       "       'land rover range rover sport', 'maruti zen estilo',\n",
       "       'bmw 3 series gt', 'porsche cayenne', 'mahindra quanto',\n",
       "       'mercedes-benz new c-class', 'toyota corolla', 'skoda superb',\n",
       "       'chevrolet sail hatchback', 'ford fiesta', 'maruti a-star',\n",
       "       'volkswagen passat', 'mahindra nuvosport', 'maruti omni',\n",
       "       'mahindra xylo', 'skoda new laura', 'ford ikon',\n",
       "       'mahindra scorpio', 'hyundai kona', 'ford figo aspire',\n",
       "       'tata aria', 'grand i10', 'alto 800', 'alto k10', 'eon',\n",
       "       'swift dzire', 'new santro', 'wagon r 1.0', 'celerio', 'swift',\n",
       "       'santro xing', 's cross', 'dzire', 'safari storme', 'ritz', 'zest',\n",
       "       'zen estilo', 'vitara brezza', 'i10', 'baleno', 'ecosport', 'kwid',\n",
       "       'i20 active', 'terrano', 'a star', 'etios', 'verna', 'new figo',\n",
       "       'eeco', 'figo aspire', 'rexton', 'i20', 'redi go', 'ignis', 'ameo',\n",
       "       'omni e', 'creta', 'elite i20', 'ertiga', 'ciaz', 'tuv300', 'alto',\n",
       "       'x1', 'xcent', 'tiago', 'fortuner', 'city', 'polo', 'xuv 3oo',\n",
       "       'xuv500', 'amaze', 'nexon ', 'endeavour', 'tigor', 'duster',\n",
       "       'corolla altis', 'new  wagon-r', 'scorpio', 'seltos', 'sunny',\n",
       "       'figo', 'e class', '3 series', 'a4', 'grand i10 nios', 'venue',\n",
       "       'innova crysta', 'mobilio', 'harrier', 'vento', 'tucson new',\n",
       "       'kuv100', 'gla class', 'wr-v', 'br-v', 'yaris', 'a3', 'hexa',\n",
       "       'rapid', 'octavia', 'crv', 'micra active', 'brio', 'new elantra',\n",
       "       '5 series', 'innova', 'compass', 'hector', 'jazz', 'triber',\n",
       "       'altroz ', 'superb', 'bolero', 'glanza', 'captur', 'go plus',\n",
       "       's presso', 'aura', 'xl6', 'etios liva', 'camry', 'civic',\n",
       "       'celerio x', 'wagon r', 'micra', 'thar', 'wagon r stingray',\n",
       "       'jetta', 'nano', 'a6', 'q3', 'xylo', 'passat', 'fiesta',\n",
       "       'punto evo', 'lodgy', 'xf', 'kicks', 'glc class', 'sx4', 'quanto',\n",
       "       'beat', 'indigo ecs', 'zen', 'grand punto', 'indigo', 'logan',\n",
       "       'xj l', 'city zx', 'fabia', 'bolt', 'safari', 'accord', 'evalia',\n",
       "       'esteem', 'pulse', '800', 'santro', 'corolla', 'freelander 2',\n",
       "       'cruze', 'accent', 'verito', 'xenon xt', 'spark', 'enjoy', 'astra',\n",
       "       'santa fe', 'vista', 'sonata transform', 'fiesta classic', 'yeti',\n",
       "       'kuv 100 nxt', 'x trail', 'indica v2', 'fluence', 'e 20',\n",
       "       'indica v2 xeta', 's60', 'scala', 'sumo gold', 'aveo u va',\n",
       "       'optra magnum', 'c class', 'laura', 'indigo cs', 'maxximo ',\n",
       "       'indica vista', 'manza', 'ikon', 'indica ev2', 'verito vibe cs',\n",
       "       'gypsy', 'palio', 'elantra', 'cross polo', 's-presso', 's-cross',\n",
       "       'jeep', 'redi-go', 'estilo', 'e-class', 'omni', 'go', 'marazzo',\n",
       "       'etios cross', 'pajero', 'qualis', 'sail', 'punto', 'lancer',\n",
       "       'freestyle', 'nexon', 'fluidic verna 4s', 'a-star', 'ambassador',\n",
       "       'rapid tsi', 'getz', 'aria', 'linea', 'kushaq', 'abarth punto',\n",
       "       'cr-v', 'getz prime', 'safari storme 2019', 'range rover',\n",
       "       'venture', '1100', 'd-max v-cross', 'montero', 'c-class', 'tucson',\n",
       "       'taigun', 'pajero sport', 'indica', 'altroz', 'captiva',\n",
       "       'sonata embera', 'hector plus', 'verna transform', 'accent viva',\n",
       "       'tiago jtp', 'stingray', 'tavera', 'sail u-va', 'nuvosport',\n",
       "       'all new city', 'avanti', 'r8', 'prius', 'alcazar', 'classic',\n",
       "       'aveo', 'mb-class', 'cedia', 'sonata', 'rio', 'sail hatchback',\n",
       "       'avventura', 'aveo u-va', 'linea classic', 'optra', 'punto pure',\n",
       "       'cayenne', 'wrangler', 'winger', 'marshal', 'corsa', '190',\n",
       "       'land cruiser', 'e2o plus', 'cooper countryman', 'x3', 'q5',\n",
       "       '3 series gt', 'gle', 'gls', 's-class', 'a8 l', 'q7', 'b-class',\n",
       "       'gla', '7 series', 'x5', 'v40 cross country', 'cla', 'm-class',\n",
       "       '3 series gran limousine', 's90', '6 series gt', 'outlander',\n",
       "       'f-pace', 'range rover evoque', 'xe', 'z4', 'v40', 'nx',\n",
       "       '5 series gt', 'range rover sport', 'gl', 'a-class',\n",
       "       'a-class limousine', '2 series gran coupe', 'xc90', 'cls',\n",
       "       'cooper convertible', '718', 'discovery sport', 'e2o', 'cooper',\n",
       "       'land cruiser prado', 'tt', 'glc', 'gti', 'amg a35', 'x4', 'viano',\n",
       "       'xc40', 'xc60', 'grand vitara', 'tiguan', 's-class (w222)', 'x6',\n",
       "       'gle coupe', 'mu-x', 'panamera', 'glc coupe', 'zs ev', 'nano genx',\n",
       "       'kodiaq', '1 series', 'g-class', 'tiguan allspace',\n",
       "       'c-class cabriolet', 'gloster', 'alturas g4', 'slc', 'countryman',\n",
       "       '6 series', 'phantom', 'rapide', 'karoq', 'kona electric', '911',\n",
       "       'clubman', 'a3 cabriolet', 'range rover velar', 's80', 'macan',\n",
       "       'mustang', 'v90 cross country', 'discovery',\n",
       "       'continental flying spur', 's5 sportback', 'h3', 'q2', 'x7', 'a5',\n",
       "       'slk', 'e-class cabriolet', 'beetle', 'gallardo', 'a7', 'q8',\n",
       "       'commuter', 'slk-class', 'ghost series ii', 'e-tron', 's4',\n",
       "       'discovery 4', 'rx', 'levante', 'cooper s', 'm4', 'boxster',\n",
       "       '6 series gran coupe', 'ls 460', 'rs5', 'xuv700', 'f-type',\n",
       "       'koleos', 'rs7 sportback', 'v-class', 'continental gt', 'h2',\n",
       "       'alphard', 'i8', 'continental gtc', 'safari granroad', 'kizashi',\n",
       "       'cayman', 'nexon ev', 't-roc', 'v8 vantage', 'ghibli', 'teana',\n",
       "       'sl', 'cresta', 'tiguan - 2020', '1000', 'tercel', 'murano',\n",
       "       'cullinan', 'quattroporte', 'tiago nrg', 'r-class',\n",
       "       'grand cherokee', 'trailblazer', 'phaeton', 'dawn', 'i20 n line',\n",
       "       'defender', '300', '612', 's8', 'discovery 3', 'fj cruiser',\n",
       "       'corolla levin', 'others', 'fluidic verna', 'zest ', 'tuv 300',\n",
       "       'redigo', 'cls-class', 'sonet', 's-coupe', 'crosspolo',\n",
       "       'indigo xl', 'bolero pik-up', 'gle class', 'trax cruiser',\n",
       "       'swift dzire tour', 'carnival', 'b class', 'tavera neo',\n",
       "       'e verito', 'abarth avventura', 'kuv 100', 'punto abarth',\n",
       "       'sumo victa', 'ciaz s', 'vista tech', 'a class', 'xuv300',\n",
       "       'polo gti', 'cl-class', 'new c-class', 'ekuv100', 'wagon r duo',\n",
       "       'aspire', 'gl-class', 'wagon r electric', 'premier padmini',\n",
       "       're60', 'ezs', 'supro', 'grand i 10', '3 door', 'es', '458 italia',\n",
       "       's5', 'rs 7', 'm2', 'sumo', 'spacio', 'kwid ev', 'mu 7', 'cielo',\n",
       "       'estate', 'padmini', 'ingenio', 'bolero power plus', 'ml class',\n",
       "       'sumo grande', 'storm', 'indica e v2', 'datsun redi go',\n",
       "       'scorpio getaway', 'kiger', 'xj', 'new accord', 'grande punto',\n",
       "       'v 90', '500', 'petra', 'willys', 'versa', 'fusion', 'terracan',\n",
       "       'sdl', 's60 cross country', 'avenger', 'platinum etios', 'prado',\n",
       "       'indica v2 turbo', 'civic hybrid', 'palio d', 'xuv aero', 'd-max',\n",
       "       'urban cruiser', 'stile', 'xc 90', 'a8', 'baleno rs', 'g class',\n",
       "       'cooper 3 door', 's 80', 'compass trailhawk', 'evision electric',\n",
       "       'tuv 300 plus', 'gurkha', 'h2x', 'force one', 'verito vibe',\n",
       "       'contessa', 'matiz', 'indicab', '309', 'armada', 'avante',\n",
       "       'sumo spacio', 'x6 m', 'ghost', 'leyland stile', 'range rover lwb',\n",
       "       'lx', 'indigo marina', 'movus', 'tigor ev', 'sumo grande mk ii',\n",
       "       'xuv300 electric', 'escort', 'tl', 'siena', 'grande dicor',\n",
       "       'martin virage', 'h7x', 'h1', '5 door', 'touareg', 'palio nv', '7',\n",
       "       'ssangyong rexton', 'small car', 'hr-v'], dtype=object)"
      ]
     },
     "execution_count": 42,
     "metadata": {},
     "output_type": "execute_result"
    }
   ],
   "source": [
    "df['Model'].unique()[:]"
   ]
  },
  {
   "cell_type": "code",
   "execution_count": 43,
   "id": "e14dac50",
   "metadata": {},
   "outputs": [
    {
     "data": {
      "text/plain": [
       "pandas.core.series.Series"
      ]
     },
     "execution_count": 43,
     "metadata": {},
     "output_type": "execute_result"
    }
   ],
   "source": [
    "type(df['Model'])"
   ]
  },
  {
   "cell_type": "code",
   "execution_count": 44,
   "id": "7d479bdf",
   "metadata": {},
   "outputs": [],
   "source": [
    "df['Model']=[x.replace('maruti ','').replace('toyota ','').replace('honda ','').replace('hyundai ','').replace('datsun ','').replace('renault ','').replace('mahindra ','') \n",
    "             .replace('volkswagen ','').replace('skoda ','').replace('tata ','').replace('jeep ','').replace('kia ','').replace('nissan ','').replace('mg ','').replace('volvo ','').replace('ford ','').replace('audi ','')\n",
    "             .replace('mercedes-benz ','').replace('bmw ','').replace('porsche ','').replace('chevrolet ','') for x in df['Model']]"
   ]
  },
  {
   "cell_type": "code",
   "execution_count": 45,
   "id": "7f8bde94",
   "metadata": {},
   "outputs": [
    {
     "data": {
      "text/plain": [
       "529"
      ]
     },
     "execution_count": 45,
     "metadata": {},
     "output_type": "execute_result"
    }
   ],
   "source": [
    "len(df['Model'].unique())"
   ]
  },
  {
   "cell_type": "code",
   "execution_count": 46,
   "id": "c3c66d03",
   "metadata": {},
   "outputs": [
    {
     "data": {
      "text/plain": [
       "array(['baleno', 's-presso', 'urban cruiser', 'city', 'grand i10',\n",
       "       'sx4 s cross', 'wagon r', 'xl6', 'hector', 'redigo', 'alto k10',\n",
       "       'duster', 'thar', 'polo', 'celerio', 'ameo', 'swift', 'xuv500',\n",
       "       'i20', 'triber', 'kwid', 'jetta', 'swift dzire', 'rapid', 'kiger',\n",
       "       'tiago', 'amaze', 'compass', 'santro', 'creta', 'harrier',\n",
       "       'xuv300', 'alto 800', 'br-v', 'ignis', 'sonet', 'bolero', 'i10',\n",
       "       'grand i10 nios', 'yaris', 'ciaz', 'jazz', 'eon', 'ritz', 'wr-v',\n",
       "       'kuv 100', 'marazzo', 'vitara brezza', 'vento', 'venue', 'brio',\n",
       "       'terrano', 'kicks', 'xcent', 'innova crysta', 'nexon', 'verna',\n",
       "       'hector plus', 'etios', 'corolla altis', 'glanza', 'ertiga',\n",
       "       'tuv 300', 'i20 active', 'celerio x', 'aura', 'altroz',\n",
       "       'micra active', 's60 cross country', 'figo', 'eeco', 'a6', 'a4',\n",
       "       'go', 'tigor', 'cr-v', 'alto', 'e-class', 'innova', 'baleno rs',\n",
       "       'fortuner', '3 series', 'g', 'q3', 'santro xing', 'q5',\n",
       "       'fiat grande punto', 'land rover range rover sport', 'zen estilo',\n",
       "       '3 series gt', 'cayenne', 'quanto', 'new c-class', 'corolla',\n",
       "       'superb', 'sail hatchback', 'fiesta', 'a-star', 'passat',\n",
       "       'nuvosport', 'omni', 'xylo', 'new laura', 'ikon', 'scorpio',\n",
       "       'kona', 'figo aspire', 'aria', 'new santro', 'wagon r 1.0',\n",
       "       's cross', 'dzire', 'safari storme', 'zest', 'ecosport', 'a star',\n",
       "       'new figo', 'rexton', 'redi go', 'omni e', 'elite i20', 'tuv300',\n",
       "       'x1', 'xuv 3oo', 'nexon ', 'endeavour', 'new  wagon-r', 'seltos',\n",
       "       'sunny', 'e class', 'mobilio', 'tucson new', 'kuv100', 'gla class',\n",
       "       'a3', 'hexa', 'octavia', 'crv', 'new elantra', '5 series',\n",
       "       'altroz ', 'captur', 'go plus', 's presso', 'etios liva', 'camry',\n",
       "       'civic', 'micra', 'wagon r stingray', 'nano', 'punto evo', 'lodgy',\n",
       "       'xf', 'glc class', 'sx4', 'beat', 'indigo ecs', 'zen',\n",
       "       'grand punto', 'indigo', 'logan', 'xj l', 'city zx', 'fabia',\n",
       "       'bolt', 'safari', 'accord', 'evalia', 'esteem', 'pulse', '800',\n",
       "       'freelander 2', 'cruze', 'accent', 'verito', 'xenon xt', 'spark',\n",
       "       'enjoy', 'astra', 'santa fe', 'vista', 'sonata transform',\n",
       "       'fiesta classic', 'yeti', 'kuv 100 nxt', 'x trail', 'indica v2',\n",
       "       'fluence', 'e 20', 'indica v2 xeta', 's60', 'scala', 'sumo gold',\n",
       "       'aveo u va', 'optra magnum', 'c class', 'laura', 'indigo cs',\n",
       "       'maxximo ', 'indica vista', 'manza', 'indica ev2',\n",
       "       'verito vibe cs', 'gypsy', 'palio', 'elantra', 'cross polo',\n",
       "       's-cross', 'jeep', 'redi-go', 'estilo', 'etios cross', 'pajero',\n",
       "       'qualis', 'sail', 'punto', 'lancer', 'freestyle',\n",
       "       'fluidic verna 4s', 'ambassador', 'rapid tsi', 'getz', 'linea',\n",
       "       'kushaq', 'abarth punto', 'getz prime', 'safari storme 2019',\n",
       "       'range rover', 'venture', '1100', 'd-max v-cross', 'montero',\n",
       "       'c-class', 'tucson', 'taigun', 'pajero sport', 'indica', 'captiva',\n",
       "       'sonata embera', 'verna transform', 'accent viva', 'tiago jtp',\n",
       "       'stingray', 'tavera', 'sail u-va', 'all new city', 'avanti', 'r8',\n",
       "       'prius', 'alcazar', 'classic', 'aveo', 'mb-class', 'cedia',\n",
       "       'sonata', 'rio', 'avventura', 'aveo u-va', 'linea classic',\n",
       "       'optra', 'punto pure', 'wrangler', 'winger', 'marshal', 'corsa',\n",
       "       '190', 'land cruiser', 'e2o plus', 'cooper countryman', 'x3',\n",
       "       'gle', 'gls', 's-class', 'a8 l', 'q7', 'b-class', 'gla',\n",
       "       '7 series', 'x5', 'v40 cross country', 'cla', 'm-class',\n",
       "       '3 series gran limousine', 's90', '6 series gt', 'outlander',\n",
       "       'f-pace', 'range rover evoque', 'xe', 'z4', 'v40', 'nx',\n",
       "       '5 series gt', 'range rover sport', 'gl', 'a-class',\n",
       "       'a-class limousine', '2 series gran coupe', 'xc90', 'cls',\n",
       "       'cooper convertible', '718', 'discovery sport', 'e2o', 'cooper',\n",
       "       'land cruiser prado', 'tt', 'glc', 'gti', 'aa35', 'x4', 'viano',\n",
       "       'xc40', 'xc60', 'grand vitara', 'tiguan', 's-class (w222)', 'x6',\n",
       "       'gle coupe', 'mu-x', 'panamera', 'glc coupe', 'zs ev', 'nano genx',\n",
       "       'kodiaq', '1 series', 'g-class', 'tiguan allspace',\n",
       "       'c-class cabriolet', 'gloster', 'alturas g4', 'slc', 'countryman',\n",
       "       '6 series', 'phantom', 'rapide', 'karoq', 'kona electric', '911',\n",
       "       'clubman', 'a3 cabriolet', 'range rover velar', 's80', 'macan',\n",
       "       'mustang', 'v90 cross country', 'discovery',\n",
       "       'continental flying spur', 's5 sportback', 'h3', 'q2', 'x7', 'a5',\n",
       "       'slk', 'e-class cabriolet', 'beetle', 'gallardo', 'a7', 'q8',\n",
       "       'commuter', 'slk-class', 'ghost series ii', 'e-tron', 's4',\n",
       "       'discovery 4', 'rx', 'levante', 'cooper s', 'm4', 'boxster',\n",
       "       '6 series gran coupe', 'ls 460', 'rs5', 'xuv700', 'f-type',\n",
       "       'koleos', 'rs7 sportback', 'v-class', 'continental gt', 'h2',\n",
       "       'alphard', 'i8', 'continental gtc', 'safari granroad', 'kizashi',\n",
       "       'cayman', 'nexon ev', 't-roc', 'v8 vantage', 'ghibli', 'teana',\n",
       "       'sl', 'cresta', 'tiguan - 2020', '1000', 'tercel', 'murano',\n",
       "       'cullinan', 'quattroporte', 'tiago nrg', 'r-class',\n",
       "       'grand cherokee', 'trailblazer', 'phaeton', 'dawn', 'i20 n line',\n",
       "       'defender', '300', '612', 's8', 'discovery 3', 'fj cruiser',\n",
       "       'corolla levin', 'others', 'fluidic verna', 'zest ', 'cls-class',\n",
       "       's-coupe', 'crosspolo', 'indigo xl', 'bolero pik-up', 'gle class',\n",
       "       'trax cruiser', 'swift dzire tour', 'carnival', 'b class',\n",
       "       'tavera neo', 'e verito', 'abarth avventura', 'punto abarth',\n",
       "       'sumo victa', 'ciaz s', 'vista tech', 'a class', 'polo gti',\n",
       "       'cl-class', 'ekuv100', 'wagon r duo', 'aspire', 'gl-class',\n",
       "       'wagon r electric', 'premier padmini', 're60', 'ezs', 'supro',\n",
       "       'grand i 10', '3 door', 'es', '458 italia', 's5', 'rs 7', 'm2',\n",
       "       'sumo', 'spacio', 'kwid ev', 'mu 7', 'cielo', 'estate', 'padmini',\n",
       "       'ingenio', 'bolero power plus', 'ml class', 'sumo grande', 'storm',\n",
       "       'indica e v2', 'scorpio getaway', 'xj', 'new accord',\n",
       "       'grande punto', 'v 90', '500', 'petra', 'willys', 'versa',\n",
       "       'fusion', 'terracan', 'sdl', 'avenger', 'platinum etios', 'prado',\n",
       "       'indica v2 turbo', 'civic hybrid', 'palio d', 'xuv aero', 'd-max',\n",
       "       'stile', 'xc 90', 'a8', 'g class', 'cooper 3 door', 's 80',\n",
       "       'compass trailhawk', 'evision electric', 'tuv 300 plus', 'gurkha',\n",
       "       'h2x', 'force one', 'verito vibe', 'contessa', 'matiz', 'indicab',\n",
       "       '309', 'armada', 'avante', 'sumo spacio', 'x6 m', 'ghost',\n",
       "       'leyland stile', 'range rover lwb', 'lx', 'indigo marina', 'movus',\n",
       "       'tigor ev', 'sumo grande mk ii', 'xuv300 electric', 'escort', 'tl',\n",
       "       'siena', 'grande dicor', 'martin virage', 'h7x', 'h1', '5 door',\n",
       "       'touareg', 'palio nv', '7', 'ssangyong rexton', 'small car',\n",
       "       'hr-v'], dtype=object)"
      ]
     },
     "execution_count": 46,
     "metadata": {},
     "output_type": "execute_result"
    }
   ],
   "source": [
    "df['Model'].unique()"
   ]
  },
  {
   "cell_type": "code",
   "execution_count": 47,
   "id": "5f954211",
   "metadata": {},
   "outputs": [],
   "source": [
    "df['Model']=[re.sub('[^A-Za-z0-9]+', '', x) for x in df['Model']]"
   ]
  },
  {
   "cell_type": "code",
   "execution_count": 48,
   "id": "095e9481",
   "metadata": {},
   "outputs": [
    {
     "data": {
      "text/plain": [
       "507"
      ]
     },
     "execution_count": 48,
     "metadata": {},
     "output_type": "execute_result"
    }
   ],
   "source": [
    "len(df['Model'].unique())"
   ]
  },
  {
   "cell_type": "code",
   "execution_count": 49,
   "id": "87f8cca6",
   "metadata": {},
   "outputs": [
    {
     "data": {
      "text/plain": [
       "array(['baleno', 'spresso', 'urbancruiser', 'city', 'grandi10',\n",
       "       'sx4scross', 'wagonr', 'xl6', 'hector', 'redigo', 'altok10',\n",
       "       'duster', 'thar', 'polo', 'celerio', 'ameo', 'swift', 'xuv500',\n",
       "       'i20', 'triber', 'kwid', 'jetta', 'swiftdzire', 'rapid', 'kiger',\n",
       "       'tiago', 'amaze', 'compass', 'santro', 'creta', 'harrier',\n",
       "       'xuv300', 'alto800', 'brv', 'ignis', 'sonet', 'bolero', 'i10',\n",
       "       'grandi10nios', 'yaris', 'ciaz', 'jazz', 'eon', 'ritz', 'wrv',\n",
       "       'kuv100', 'marazzo', 'vitarabrezza', 'vento', 'venue', 'brio',\n",
       "       'terrano', 'kicks', 'xcent', 'innovacrysta', 'nexon', 'verna',\n",
       "       'hectorplus', 'etios', 'corollaaltis', 'glanza', 'ertiga',\n",
       "       'tuv300', 'i20active', 'celeriox', 'aura', 'altroz', 'micraactive',\n",
       "       's60crosscountry', 'figo', 'eeco', 'a6', 'a4', 'go', 'tigor',\n",
       "       'crv', 'alto', 'eclass', 'innova', 'balenors', 'fortuner',\n",
       "       '3series', 'g', 'q3', 'santroxing', 'q5', 'fiatgrandepunto',\n",
       "       'landroverrangeroversport', 'zenestilo', '3seriesgt', 'cayenne',\n",
       "       'quanto', 'newcclass', 'corolla', 'superb', 'sailhatchback',\n",
       "       'fiesta', 'astar', 'passat', 'nuvosport', 'omni', 'xylo',\n",
       "       'newlaura', 'ikon', 'scorpio', 'kona', 'figoaspire', 'aria',\n",
       "       'newsantro', 'wagonr10', 'scross', 'dzire', 'safaristorme', 'zest',\n",
       "       'ecosport', 'newfigo', 'rexton', 'omnie', 'elitei20', 'x1',\n",
       "       'xuv3oo', 'endeavour', 'newwagonr', 'seltos', 'sunny', 'mobilio',\n",
       "       'tucsonnew', 'glaclass', 'a3', 'hexa', 'octavia', 'newelantra',\n",
       "       '5series', 'captur', 'goplus', 'etiosliva', 'camry', 'civic',\n",
       "       'micra', 'wagonrstingray', 'nano', 'puntoevo', 'lodgy', 'xf',\n",
       "       'glcclass', 'sx4', 'beat', 'indigoecs', 'zen', 'grandpunto',\n",
       "       'indigo', 'logan', 'xjl', 'cityzx', 'fabia', 'bolt', 'safari',\n",
       "       'accord', 'evalia', 'esteem', 'pulse', '800', 'freelander2',\n",
       "       'cruze', 'accent', 'verito', 'xenonxt', 'spark', 'enjoy', 'astra',\n",
       "       'santafe', 'vista', 'sonatatransform', 'fiestaclassic', 'yeti',\n",
       "       'kuv100nxt', 'xtrail', 'indicav2', 'fluence', 'e20',\n",
       "       'indicav2xeta', 's60', 'scala', 'sumogold', 'aveouva',\n",
       "       'optramagnum', 'cclass', 'laura', 'indigocs', 'maxximo',\n",
       "       'indicavista', 'manza', 'indicaev2', 'veritovibecs', 'gypsy',\n",
       "       'palio', 'elantra', 'crosspolo', 'jeep', 'estilo', 'etioscross',\n",
       "       'pajero', 'qualis', 'sail', 'punto', 'lancer', 'freestyle',\n",
       "       'fluidicverna4s', 'ambassador', 'rapidtsi', 'getz', 'linea',\n",
       "       'kushaq', 'abarthpunto', 'getzprime', 'safaristorme2019',\n",
       "       'rangerover', 'venture', '1100', 'dmaxvcross', 'montero', 'tucson',\n",
       "       'taigun', 'pajerosport', 'indica', 'captiva', 'sonataembera',\n",
       "       'vernatransform', 'accentviva', 'tiagojtp', 'stingray', 'tavera',\n",
       "       'sailuva', 'allnewcity', 'avanti', 'r8', 'prius', 'alcazar',\n",
       "       'classic', 'aveo', 'mbclass', 'cedia', 'sonata', 'rio',\n",
       "       'avventura', 'lineaclassic', 'optra', 'puntopure', 'wrangler',\n",
       "       'winger', 'marshal', 'corsa', '190', 'landcruiser', 'e2oplus',\n",
       "       'coopercountryman', 'x3', 'gle', 'gls', 'sclass', 'a8l', 'q7',\n",
       "       'bclass', 'gla', '7series', 'x5', 'v40crosscountry', 'cla',\n",
       "       'mclass', '3seriesgranlimousine', 's90', '6seriesgt', 'outlander',\n",
       "       'fpace', 'rangeroverevoque', 'xe', 'z4', 'v40', 'nx', '5seriesgt',\n",
       "       'rangeroversport', 'gl', 'aclass', 'aclasslimousine',\n",
       "       '2seriesgrancoupe', 'xc90', 'cls', 'cooperconvertible', '718',\n",
       "       'discoverysport', 'e2o', 'cooper', 'landcruiserprado', 'tt', 'glc',\n",
       "       'gti', 'aa35', 'x4', 'viano', 'xc40', 'xc60', 'grandvitara',\n",
       "       'tiguan', 'sclassw222', 'x6', 'glecoupe', 'mux', 'panamera',\n",
       "       'glccoupe', 'zsev', 'nanogenx', 'kodiaq', '1series', 'gclass',\n",
       "       'tiguanallspace', 'cclasscabriolet', 'gloster', 'alturasg4', 'slc',\n",
       "       'countryman', '6series', 'phantom', 'rapide', 'karoq',\n",
       "       'konaelectric', '911', 'clubman', 'a3cabriolet', 'rangerovervelar',\n",
       "       's80', 'macan', 'mustang', 'v90crosscountry', 'discovery',\n",
       "       'continentalflyingspur', 's5sportback', 'h3', 'q2', 'x7', 'a5',\n",
       "       'slk', 'eclasscabriolet', 'beetle', 'gallardo', 'a7', 'q8',\n",
       "       'commuter', 'slkclass', 'ghostseriesii', 'etron', 's4',\n",
       "       'discovery4', 'rx', 'levante', 'coopers', 'm4', 'boxster',\n",
       "       '6seriesgrancoupe', 'ls460', 'rs5', 'xuv700', 'ftype', 'koleos',\n",
       "       'rs7sportback', 'vclass', 'continentalgt', 'h2', 'alphard', 'i8',\n",
       "       'continentalgtc', 'safarigranroad', 'kizashi', 'cayman', 'nexonev',\n",
       "       'troc', 'v8vantage', 'ghibli', 'teana', 'sl', 'cresta',\n",
       "       'tiguan2020', '1000', 'tercel', 'murano', 'cullinan',\n",
       "       'quattroporte', 'tiagonrg', 'rclass', 'grandcherokee',\n",
       "       'trailblazer', 'phaeton', 'dawn', 'i20nline', 'defender', '300',\n",
       "       '612', 's8', 'discovery3', 'fjcruiser', 'corollalevin', 'others',\n",
       "       'fluidicverna', 'clsclass', 'scoupe', 'indigoxl', 'boleropikup',\n",
       "       'gleclass', 'traxcruiser', 'swiftdziretour', 'carnival',\n",
       "       'taveraneo', 'everito', 'abarthavventura', 'puntoabarth',\n",
       "       'sumovicta', 'ciazs', 'vistatech', 'pologti', 'clclass', 'ekuv100',\n",
       "       'wagonrduo', 'aspire', 'glclass', 'wagonrelectric',\n",
       "       'premierpadmini', 're60', 'ezs', 'supro', '3door', 'es',\n",
       "       '458italia', 's5', 'rs7', 'm2', 'sumo', 'spacio', 'kwidev', 'mu7',\n",
       "       'cielo', 'estate', 'padmini', 'ingenio', 'boleropowerplus',\n",
       "       'mlclass', 'sumogrande', 'storm', 'scorpiogetaway', 'xj',\n",
       "       'newaccord', 'grandepunto', 'v90', '500', 'petra', 'willys',\n",
       "       'versa', 'fusion', 'terracan', 'sdl', 'avenger', 'platinumetios',\n",
       "       'prado', 'indicav2turbo', 'civichybrid', 'paliod', 'xuvaero',\n",
       "       'dmax', 'stile', 'a8', 'cooper3door', 'compasstrailhawk',\n",
       "       'evisionelectric', 'tuv300plus', 'gurkha', 'h2x', 'forceone',\n",
       "       'veritovibe', 'contessa', 'matiz', 'indicab', '309', 'armada',\n",
       "       'avante', 'sumospacio', 'x6m', 'ghost', 'leylandstile',\n",
       "       'rangeroverlwb', 'lx', 'indigomarina', 'movus', 'tigorev',\n",
       "       'sumograndemkii', 'xuv300electric', 'escort', 'tl', 'siena',\n",
       "       'grandedicor', 'martinvirage', 'h7x', 'h1', '5door', 'touareg',\n",
       "       'palionv', '7', 'ssangyongrexton', 'smallcar', 'hrv'], dtype=object)"
      ]
     },
     "execution_count": 49,
     "metadata": {},
     "output_type": "execute_result"
    }
   ],
   "source": [
    "df['Model'].unique()"
   ]
  },
  {
   "cell_type": "code",
   "execution_count": 50,
   "id": "2b326211",
   "metadata": {},
   "outputs": [],
   "source": [
    "df['Brand']=[re.sub('[^A-Za-z0-9]+', '', x) for x in df['Brand']]"
   ]
  },
  {
   "cell_type": "code",
   "execution_count": 51,
   "id": "cb258694",
   "metadata": {},
   "outputs": [
    {
     "data": {
      "text/plain": [
       "53"
      ]
     },
     "execution_count": 51,
     "metadata": {},
     "output_type": "execute_result"
    }
   ],
   "source": [
    "len(df['Brand'].unique())"
   ]
  },
  {
   "cell_type": "code",
   "execution_count": 52,
   "id": "99a0813d",
   "metadata": {},
   "outputs": [
    {
     "data": {
      "text/plain": [
       "array(['maruti', 'toyota', 'honda', 'hyundai', 'mg', 'datsun', 'renault',\n",
       "       'mahindra', 'volkswagen', 'skoda', 'tata', 'jeep', 'kia', 'nissan',\n",
       "       'volvo', 'ford', 'audi', 'mercedesbenz', 'bmw', 'fiat',\n",
       "       'landrover', 'porsche', 'chevrolet', 'ssangyong', 'jaguar',\n",
       "       'mahindrarenault', 'opel', 'mitsubishi', 'hindustan', 'isuzu',\n",
       "       'dc', 'premier', 'mini', 'lexus', 'rollsroyce', 'astonmartin',\n",
       "       'bentley', 'hummer', 'lamborghini', 'maserati', 'chrysler',\n",
       "       'ferrari', 'bajaj', 'otherbrands', 'forcemotors', 'ambassador',\n",
       "       'daewoo', 'san', 'maybach', 'eicherpolaris', 'ashokleyland',\n",
       "       'peugeot', 'caterham'], dtype=object)"
      ]
     },
     "execution_count": 52,
     "metadata": {},
     "output_type": "execute_result"
    }
   ],
   "source": [
    "df['Brand'].unique()"
   ]
  },
  {
   "cell_type": "code",
   "execution_count": 53,
   "id": "dc0c5a8e",
   "metadata": {},
   "outputs": [
    {
     "data": {
      "text/plain": [
       "array(['1.2 CVT Zeta', 'VXI Plus', 'High', 'i VTEC CVT VX',\n",
       "       '1.2 Kappa Asta', 'DDiS 200 Zeta', 'CNG LXI', '1.2 Kappa Era',\n",
       "       'Zeta', 'Sharp DCT', 'AMT 1.0 T Option', 'VXI', 'RXZ',\n",
       "       'LX 4-Str Hard Top AT', '1.2 MPI Comfortline', 'Zeta CVT',\n",
       "       'VXI Optional', '1.5 TDI Highline', 'W8 2WD', 'VXI BSIV',\n",
       "       '1.2 Asta Option', 'RXT', 'VXI Plus AT', 'AMT VXI',\n",
       "       'Asta Opt Diesel', 'i VTEC VX', 'R W10 FWD', 'V MT', '1.0 RXT Opt',\n",
       "       'i-VTEC CVT ZX', 'ZXI Optional', 'RXT Optional',\n",
       "       '1.4 TSI Comfortline', 'VXI 1.2 BS IV', '1.5 TDI AT Style BSIV',\n",
       "       'RXT AMT DT', '1.2 Delta', 'LXI', '1.2 Revotron XZ Plus',\n",
       "       'E Diesel BSIV', '1.2 Zeta', '1.4 Longitude Option BSIV', 'Sportz',\n",
       "       'Asta Opt', '110PS Diesel RxZ', 'SX', 'XT plus',\n",
       "       'W8 AMT Optional Diesel', 'i-VTEC V CVT', '1.2 AMT Zeta BSIV',\n",
       "       'Alpha', 'VDI Optional', 'i VTEC V', 'STD', 'Sportz Option 1.2',\n",
       "       'VXI BS IV', 'Sharp CVT', '1.0 MPI Trendline', 'HTX Turbo iMT',\n",
       "       'Alpha AT', 'B6 Opt', 'Sportz 1.1L', 'i-VTEC V',\n",
       "       '1.0 RXT 02 Anniversary Edition', 'RXT EASY-R AMT', 'Magna',\n",
       "       'XZ Plus', '1.4 Limited Option', 'XZA Plus Dual Tone', '1.3 Delta',\n",
       "       'Magna 1.1L', '1.6 SX Automatic', 'Asta 1.2', 'G', '1.4 AT Zeta',\n",
       "       '1.2 MPI Highline', '1.6 VTVT AT SX Plus', '1.2 Kappa Sportz BSIV',\n",
       "       'Delta', '1.2 CVT Alpha', 'V', 'ZXI AT Optional',\n",
       "       '1.2 Kappa Magna BSIV', '1.2 Revotron XE', 'ZXi Plus', '1.2 Alpha',\n",
       "       'Sportz BSIV', 'Era Plus', 'Climber 1.0 MT', 'VXi', 'SV',\n",
       "       'Smart AT BSIV', '1.6 VTVT E Plus', 'AMT Sportz',\n",
       "       'mFALCON G80 K6 Plus', 'S i-Vtech', 'VDi Plus', 'M2 BSIV',\n",
       "       'HTK Plus Turbo iMT', '1.5 SV i DTEC'], dtype=object)"
      ]
     },
     "execution_count": 53,
     "metadata": {},
     "output_type": "execute_result"
    }
   ],
   "source": [
    "df['Variant'].unique()[:100]"
   ]
  },
  {
   "cell_type": "code",
   "execution_count": 54,
   "id": "6e5df989",
   "metadata": {},
   "outputs": [],
   "source": [
    "df['Variant']=[x.lower() for x in df['Variant']]"
   ]
  },
  {
   "cell_type": "code",
   "execution_count": 55,
   "id": "114533b1",
   "metadata": {},
   "outputs": [
    {
     "data": {
      "text/plain": [
       "5597"
      ]
     },
     "execution_count": 55,
     "metadata": {},
     "output_type": "execute_result"
    }
   ],
   "source": [
    "len(df['Variant'].unique())"
   ]
  },
  {
   "cell_type": "code",
   "execution_count": 56,
   "id": "4e5e342a",
   "metadata": {},
   "outputs": [],
   "source": [
    "df['Variant']=[re.sub('[^A-Za-z0-9]+', '', x) for x in df['Variant']]"
   ]
  },
  {
   "cell_type": "code",
   "execution_count": 57,
   "id": "e226dffe",
   "metadata": {},
   "outputs": [
    {
     "data": {
      "text/plain": [
       "5365"
      ]
     },
     "execution_count": 57,
     "metadata": {},
     "output_type": "execute_result"
    }
   ],
   "source": [
    "len(df['Variant'].unique())"
   ]
  },
  {
   "cell_type": "code",
   "execution_count": 58,
   "id": "7806fba8",
   "metadata": {},
   "outputs": [
    {
     "data": {
      "text/plain": [
       "array(['12cvtzeta', 'vxiplus', 'high', 'ivteccvtvx', '12kappaasta',\n",
       "       'ddis200zeta', 'cnglxi', '12kappaera', 'zeta', 'sharpdct',\n",
       "       'amt10toption', 'vxi', 'rxz', 'lx4strhardtopat',\n",
       "       '12mpicomfortline', 'zetacvt', 'vxioptional', '15tdihighline',\n",
       "       'w82wd', 'vxibsiv', '12astaoption', 'rxt', 'vxiplusat', 'amtvxi',\n",
       "       'astaoptdiesel', 'ivtecvx', 'rw10fwd', 'vmt', '10rxtopt',\n",
       "       'ivteccvtzx', 'zxioptional', 'rxtoptional', '14tsicomfortline',\n",
       "       'vxi12bsiv', '15tdiatstylebsiv', 'rxtamtdt', '12delta', 'lxi',\n",
       "       '12revotronxzplus', 'edieselbsiv', '12zeta',\n",
       "       '14longitudeoptionbsiv', 'sportz', 'astaopt', '110psdieselrxz',\n",
       "       'sx', 'xtplus', 'w8amtoptionaldiesel', 'ivtecvcvt',\n",
       "       '12amtzetabsiv', 'alpha', 'vdioptional', 'ivtecv', 'std',\n",
       "       'sportzoption12', 'sharpcvt', '10mpitrendline', 'htxturboimt',\n",
       "       'alphaat', 'b6opt', 'sportz11l', '10rxt02anniversaryedition',\n",
       "       'rxteasyramt', 'magna', 'xzplus', '14limitedoption',\n",
       "       'xzaplusdualtone', '13delta', 'magna11l', '16sxautomatic',\n",
       "       'asta12', 'g', '14atzeta', '12mpihighline', '16vtvtatsxplus',\n",
       "       '12kappasportzbsiv', 'delta', '12cvtalpha', 'v', 'zxiatoptional',\n",
       "       '12kappamagnabsiv', '12revotronxe', 'zxiplus', '12alpha',\n",
       "       'sportzbsiv', 'eraplus', 'climber10mt', 'sv', 'smartatbsiv',\n",
       "       '16vtvteplus', 'amtsportz', 'mfalcong80k6plus', 'sivtech',\n",
       "       'vdiplus', 'm2bsiv', 'htkplusturboimt', '15svidtec', 'ivtecs',\n",
       "       'zdiplus', 'gttsi'], dtype=object)"
      ]
     },
     "execution_count": 58,
     "metadata": {},
     "output_type": "execute_result"
    }
   ],
   "source": [
    "df['Variant'].unique()[:100]"
   ]
  },
  {
   "cell_type": "code",
   "execution_count": 59,
   "id": "ce04f9f0",
   "metadata": {},
   "outputs": [
    {
     "data": {
      "text/plain": [
       "array(['Hatchback', 'SUV', 'Sedan', 'MUV', 'Minivans', 'Luxury Vehicles',\n",
       "       'Luxury SUV', 'Luxury Sedan', 'Suv', 'Minivan', 'Truck', 'Coupe',\n",
       "       'Convertible', 'StationWagon', 'HATCHBACK', 'HYBRID_SEDAN',\n",
       "       'LUXURY_SEDAN', 'SEDAN', 'OTHERS', 'LUXURY_SUV', 'MINIVAN',\n",
       "       'LUXURY', 'LUXURY_HATCHBACK'], dtype=object)"
      ]
     },
     "execution_count": 59,
     "metadata": {},
     "output_type": "execute_result"
    }
   ],
   "source": [
    "df['Body Type'].unique()"
   ]
  },
  {
   "cell_type": "code",
   "execution_count": 60,
   "id": "f630df3a",
   "metadata": {},
   "outputs": [],
   "source": [
    "df['Body Type']=df['Body Type'].replace('Minivans','Minivan')"
   ]
  },
  {
   "cell_type": "code",
   "execution_count": 61,
   "id": "71ae8ee6",
   "metadata": {},
   "outputs": [
    {
     "data": {
      "text/plain": [
       "22"
      ]
     },
     "execution_count": 61,
     "metadata": {},
     "output_type": "execute_result"
    }
   ],
   "source": [
    "len(df['Body Type'].unique())"
   ]
  },
  {
   "cell_type": "code",
   "execution_count": 62,
   "id": "3130d9f8",
   "metadata": {},
   "outputs": [],
   "source": [
    "df['Body Type']=[x.lower() for x in df['Body Type']]"
   ]
  },
  {
   "cell_type": "code",
   "execution_count": 63,
   "id": "044efe5b",
   "metadata": {},
   "outputs": [
    {
     "data": {
      "text/plain": [
       "18"
      ]
     },
     "execution_count": 63,
     "metadata": {},
     "output_type": "execute_result"
    }
   ],
   "source": [
    "len(df['Body Type'].unique())"
   ]
  },
  {
   "cell_type": "code",
   "execution_count": 64,
   "id": "c3339a74",
   "metadata": {},
   "outputs": [],
   "source": [
    "df['Body Type']=[re.sub('[^A-Za-z0-9]+', '', x) for x in df['Body Type']]"
   ]
  },
  {
   "cell_type": "code",
   "execution_count": 65,
   "id": "5da820e8",
   "metadata": {},
   "outputs": [
    {
     "data": {
      "text/plain": [
       "16"
      ]
     },
     "execution_count": 65,
     "metadata": {},
     "output_type": "execute_result"
    }
   ],
   "source": [
    "len(df['Body Type'].unique())"
   ]
  },
  {
   "cell_type": "code",
   "execution_count": 66,
   "id": "1c9874f3",
   "metadata": {},
   "outputs": [
    {
     "data": {
      "text/plain": [
       "array(['Pune', 'Bangalore', 'Hyderabad', ..., 'Chamba', 'Pauri',\n",
       "       'Devaprayag'], dtype=object)"
      ]
     },
     "execution_count": 66,
     "metadata": {},
     "output_type": "execute_result"
    }
   ],
   "source": [
    "df['Location'].unique()"
   ]
  },
  {
   "cell_type": "code",
   "execution_count": 67,
   "id": "82f3afd2",
   "metadata": {},
   "outputs": [
    {
     "data": {
      "text/plain": [
       "1875"
      ]
     },
     "execution_count": 67,
     "metadata": {},
     "output_type": "execute_result"
    }
   ],
   "source": [
    "len(df['Location'].unique())"
   ]
  },
  {
   "cell_type": "code",
   "execution_count": 68,
   "id": "8b3243b6",
   "metadata": {},
   "outputs": [],
   "source": [
    "df['Location']=[x.lower() for x in df['Location']]"
   ]
  },
  {
   "cell_type": "code",
   "execution_count": 69,
   "id": "4577d562",
   "metadata": {},
   "outputs": [
    {
     "data": {
      "text/plain": [
       "1872"
      ]
     },
     "execution_count": 69,
     "metadata": {},
     "output_type": "execute_result"
    }
   ],
   "source": [
    "len(df['Location'].unique())"
   ]
  },
  {
   "cell_type": "code",
   "execution_count": 70,
   "id": "d1612542",
   "metadata": {},
   "outputs": [
    {
     "data": {
      "text/plain": [
       "array(['pune', 'bangalore', 'hyderabad', 'new delhi', 'jaipur', 'mumbai',\n",
       "       'noida', 'gurgaon', 'ghaziabad', 'ahmedabad', 'chandigarh',\n",
       "       'bhubaneswar', 'jalore', 'arrah', 'washim', 'kolkata', 'ranchi',\n",
       "       'rewari', 'karimnagar', 'palanpur', 'nashik', 'rajahmundry',\n",
       "       'varanasi', 'patna', 'leh', 'indore', 'allahabad', 'port blair',\n",
       "       'chennai', 'kaithal', 'moodabidri', 'gaya', 'vadodara', 'barnala',\n",
       "       'dhanbad', 'jalandhar', 'gondia', 'shimoga', 'amravati',\n",
       "       'dharuhera', 'bhopal', 'charkhi dadri', 'phagwara', 'katni',\n",
       "       'belgaum', 'kanpur', 'kochi', 'panipat', 'bengaluru', 'lucknow',\n",
       "       'nagpur', 'faridabad', 'nasik', 'surat', 'rohtak', 'rajkot',\n",
       "       'ludhiana', 'zirakpur', 'panchkula', 'amritsar', 'gandhinagar',\n",
       "       'mohali', 'aurangabad', 'guwahati', 'goa', 'hisar', 'tiruppur',\n",
       "       'coimbatore', 'muvattupuzha', 'udaipur', 'jabalpur', 'alwar',\n",
       "       'mysore', 'guntur', 'jodhpur', 'kota', 'dehradun', 'sonipat',\n",
       "       'hubli', 'vijayawada', 'bareilly', 'agra', 'ajmer', 'anand',\n",
       "       'gwalior', 'madurai', 'kolhapur', 'jamshedpur', 'thane', 'salem',\n",
       "       'delhi', 'meerut', 'navi mumbai', 'mangalore', 'dak. kannada',\n",
       "       'haldwani', 'mirzapur', 'rudrapur', 'jaunpur', 'raipur'],\n",
       "      dtype=object)"
      ]
     },
     "execution_count": 70,
     "metadata": {},
     "output_type": "execute_result"
    }
   ],
   "source": [
    "df['Location'].unique()[:100]"
   ]
  },
  {
   "cell_type": "code",
   "execution_count": 71,
   "id": "79454930",
   "metadata": {},
   "outputs": [
    {
     "data": {
      "text/plain": [
       "array(['hansi', 'ladwa', 'yamunanagar', 'bhiwani', 'pinjore', 'narnaund',\n",
       "       'kalayat', 'tohana', 'kalanwali', 'gharaunda', 'bhakali',\n",
       "       'bawani khera', 'ismailabad', 'mandi dabwali', 'sadaura', 'palwal',\n",
       "       'barara', 'industrial estate barwala', 'maham', 'mahendragarh',\n",
       "       'rania', 'cheeka', 'ganaur', 'ratia', 'haileymandi',\n",
       "       'garhi harsaru', 'sampla', 'raipur rani', 'kundli',\n",
       "       'roz ka meo industrial area', 'uklanamandi', 'loharu', 'kanina',\n",
       "       'narwana', 'nilokheri', 'pataudi', 'bawal', 'ateli', 'kalanaur',\n",
       "       'beri', 'narnaul', 'samalkha', 'naraingarh', 'gangwa', 'majra',\n",
       "       'safidon', 'ellenabad', 'julana', 'ongole', 'gurzala', 'pamidi',\n",
       "       'eluru', 'jangareddigudem', 'kadapa', 'anantapur',\n",
       "       ' east godavari district', 'nandigama', 'pulivendula',\n",
       "       'mamidalapadu', 'jaggaiahpet', 'vijayanagaram district',\n",
       "       'sattenapalle', 'vinukonda', 'narasapur', 'tuni',\n",
       "       'india cement factory chilamakuru', 'amalapuram', 'bhimavaram',\n",
       "       'banumukkala', 'adoni', 'machilipatnam', 'vuyyuru', 'chittoor',\n",
       "       'mylavaram', 'kallur anantapur district', 'madhurawada',\n",
       "       'indukurpet', 'pentapadu', 'nidadavole', 'kaikaram', 'achanta',\n",
       "       'tadpatri', 'thatipaka', 'cumbum', 'badvel', 'kondapalle',\n",
       "       'tadepalligudem', 'moragudi', 'nagari', 'srikalahasti',\n",
       "       'narsipatnam', 'mummidivaram', 'bhimadole', 'samalkot', 'nandyal',\n",
       "       'palamaner', 'chilakalurupet', 'narasaraopet', 'tenali', 'dhone',\n",
       "       'yenugonda', 'atchutapuram apsez', 'ponnur', 'palacole', 'kavali',\n",
       "       'pileru', 'podalakur', 'pithapuram', 'atmakur sri potti sriramulu',\n",
       "       'gudur', 'parvathipuram', 'nayudupeta', 'rajampet', 'mandapeta',\n",
       "       'kudithipalem', 'tadepalle', 'markapur', 'rayachoti', 'kovurpalle',\n",
       "       'macherla', 'giddaluru', 'anaparthy', 'nuzvid', 'ramapuram',\n",
       "       'vizayanagaram', 'yerraguntla', 'narasapuram', 'tanuku',\n",
       "       'kathipudi', 'anakapalle', 'koikuntla', 'paderu', 'annavaram',\n",
       "       'madanapalle', 'gopalapuram', 'srikakulam', 'podili', 'atmakur',\n",
       "       'dharmavaram', 'ramachandrapuram', 'markapur rural', 'gudivada',\n",
       "       'vissannapet', 'gundugolanu', 'mydukur', 'somandepalle',\n",
       "       'nadim tiruvuru', 'denduluru', 'allur', 'palasa kasibugga',\n",
       "       'pedana', 'perecherla', 'ramabhadrapuram', 'jammalamadugu',\n",
       "       'sompeta', 'cuddapah', 'nallajerla', 'rampachodavaram',\n",
       "       'prattipadu', 'palakonda', 'ichchapuram', 'bapatla', 'dowleswaram',\n",
       "       'sulluru', 'kadiri', 'kotabammal', 'sanawad', 'anjad', 'mandsaur',\n",
       "       'timarni', 'guna', 'narsinghgarh', 'damoh', 'bank', 'jaora',\n",
       "       'chaurai khas', 'panagar', 'chichli', 'balaghat', 'hoshangabad',\n",
       "       'shivpuri', 'vindhya nagar ntpc township', 'mhow', 'depalpur',\n",
       "       'jirapur', 'katangi balaghat district', 'manpur', 'barwani',\n",
       "       'nagod', 'chandla', 'beohari', 'shujalpur', 'dongar parasia',\n",
       "       'vidisha', 'jamai', 'bina-etawa', 'ghuwara', 'barghat', 'narwar',\n",
       "       'damua', 'mandai ryt', 'barman kalan', 'pipariya', 'shajapur',\n",
       "       'sihora', 'jawad', 'seoni', 'hatod', 'sehore', 'machalpur',\n",
       "       'lanji', 'rehti', 'dhar', 'betma', 'basoda', 'indergarh', 'sanchi',\n",
       "       'tikamgarh', 'murwara katni', 'datia', 'rajpur', 'sironj',\n",
       "       'itarsi', 'namli', 'manawar', 'raisen', 'mandla', 'seoni malwa',\n",
       "       'keolari', 'jhabua', 'polaykalan', 'nanpur', 'mehgaon',\n",
       "       'pithampur', 'alampur', 'sarangpur', 'prithvipur', 'betul',\n",
       "       'harda', 'vijaypur sheopur district', 'malajkhand', 'rau',\n",
       "       'kasrawad', 'gandhi sagar haidel', 'sirmaur', 'pandhurna',\n",
       "       'kukdeshwar', 'bareli', 'badi', 'phuphkalan',\n",
       "       'maihar cement factory sarlanagar',\n",
       "       'riico industrial area rupangarh', 'bhadra', 'jhunjhunun',\n",
       "       'sri ganganagar', 'guhala', 'karauli', 'bhinmal', 'dhorimanna',\n",
       "       'pokaran', 'viratnagar', 'makrana', 'deoli', 'nagaur', 'delwara',\n",
       "       'churu', 'tijara', 'tapookra', 'bari', 'didwana',\n",
       "       'riico industrial area palsana', 'khajuwala', 'ahore',\n",
       "       'merta city', 'nagar', 'riico industrial area khushkhera',\n",
       "       'gharsana', 'ramgarh sikar district', 'jalor', 'pushkar', 'falna',\n",
       "       'nohar', 'balotra', 'mandawar', 'abu road', 'samdari', 'tonk',\n",
       "       'kishangarh ajmer district', 'kuchera',\n",
       "       'riico industrial area neemrana', 'pilibanga', 'khetri',\n",
       "       'pilani town', 'kaprain', 'bagru', 'padampur', 'rawatsar', 'bay',\n",
       "       'bandikui', 'nokha', 'kelwa', 'sawai madhopur', 'mukandgarh',\n",
       "       'chomun', 'dhaulpur', 'banswara', 'shahpura jaipur district',\n",
       "       'gothan', 'bassi', 'salumbar', 'chirawa', 'antah', 'pratapgarh',\n",
       "       'chhapar', 'pali', 'goyli', 'kuchaman city', 'behror', 'sangaria',\n",
       "       'jhalawar', 'gogunda', 'malsisar', 'chhoti sadri', 'ratangarh',\n",
       "       'jalore industrial area', 'kapasan', 'sirohi',\n",
       "       'riico industrial area sanchore', 'sadri', 'dudu', 'kinchan',\n",
       "       'bari sadri', 'bhiwadi', 'lalsot', 'takhatgarh', 'singhana',\n",
       "       'industrial area kaladera', 'bundi', 'phalodi industrial area',\n",
       "       'mangrol', 'taranagar', 'nasirabad', 'rajsamand',\n",
       "       'industrial area gegal', 'marwar junction', 'kesrisinghpur',\n",
       "       'anupgarh', 'nimbahera', 'phalodi', 'bhinder', 'losal',\n",
       "       'udaipurwati', 'sadulshahar', 'karanpur', 'aklera', 'habra',\n",
       "       'barasat', 'serampore', 'baharampore', 'mirik',\n",
       "       'ashokenagar-kalyangarh', 'bagnan', 'itahar', 'santipur',\n",
       "       'kalyani', 'salap', 'jangipur', 'raghunathpur hugli district',\n",
       "       'odlabari', 'murulia', 'asansol mc', 'jetia', 'chaltia',\n",
       "       'ilambazar', 'nabagram colony', 'puruliya', 'dalkhola', 'sahebpur',\n",
       "       'krishnanagar', 'beldanga', 'bardhaman', 'rajpur sonarpur',\n",
       "       'behrampore', 'birpara tea garden', 'harharia chak', 'tarakeswar',\n",
       "       'chhota laukuthi', 'birnagar', 'malda', 'guskara', 'bally',\n",
       "       'haldia', 'bhasaipaikar', 'kalimpong', 'minakhan',\n",
       "       'karari chandpur', 'dubrajpur', 'kulti', 'dharmapur', 'chakdah',\n",
       "       'mira', 'jiaganj azimganj', 'sankrail', 'bankra', 'phulia',\n",
       "       'jalpaiguri', 'chaspara', 'chittaranjan', 'contai', 'balurghat',\n",
       "       'ahmadpur', 'chalsa mahabari', 'nabadwip', 'bara jumla',\n",
       "       'mejia thermal power township', 'kalara', 'garbeta',\n",
       "       'tehatta nadia district', 'koch bihar', 'nagdaha', 'chanchal',\n",
       "       'rampurhat', 'basanti', 'kaliaganj', 'raniganj',\n",
       "       'jaykrishnapur murshidabad district', 'bolpur', 'new town',\n",
       "       'alipurduar', 'bidhannagar', 'krishnapur hugli district',\n",
       "       'bansberia', 'raninagar industrial growth centre',\n",
       "       'uttar bagdogra', 'kankuria', 'gangarampur', 'karimpur',\n",
       "       'farakka barrage township', 'chandannagar m.c.',\n",
       "       'bhangar raghunathpur', 'maner', 'ara', 'sugauli', 'bhagalpur',\n",
       "       'muzaffarpur', 'janakpur road', 'barauli', 'marhaura',\n",
       "       'bahadurganj', 'nabinagar', 'raxaul bazar', 'hajipur', 'bihar',\n",
       "       'barbigha', 'maharajganj', 'anwari', 'begusarai', 'sonepur',\n",
       "       'sherghati', 'narkatiaganj', 'hathua', 'purnia', 'motihari',\n",
       "       'tikari', 'bakhri', 'pakri dayal', 'sheohar', 'rajauli',\n",
       "       'jehanabad', 'areraj', 'bagaha', 'jagdishpur', 'rajgir',\n",
       "       'kahalgaon', 'madhubani', 'jhanjharpur', 'bettiah', 'chapra',\n",
       "       'forbesganj', 'bhabua', 'siwan', 'mehsi', 'araria', 'piro',\n",
       "       'mirganj', 'dhaka', 'ghoghardiha', 'jamui', 'kumarbagh', 'munger',\n",
       "       'tola mansaraut', 'gopalganj', 'warisaliganj', 'padri', 'buxar',\n",
       "       'islampur', 'kargahia purab', 'gogri jamalpur', 'bodh gaya',\n",
       "       'banka', 'kishanganj', 'saharsa', 'dehri', 'baruni',\n",
       "       'mahnar bazar', 'motipur', 'bikramganj', 'masaurhi', 'sheikhpura',\n",
       "       'behea', 'revelganj', 'ramnagar', 'madhepura', 'fatwah',\n",
       "       'nasrigagnj', 'dumraon', 'sanrha', 'mokameh', 'rosera', 'bikram',\n",
       "       'saraiya', 'chakia', 'dalsinghsarai', 'jainagar', 'bihta',\n",
       "       'teghra', 'naubatpur', 'kataiya', 'vaishali', 'arwal', 'kesaria',\n",
       "       'barh', 'daudnagar', 'mairwa', 'singhesar asthan', 'naugachhia',\n",
       "       'murliganj', 'ekangar sarai', 'hisua', 'belsand', 'pandual',\n",
       "       'benipur', 'hilsa', 'lakhisarai', 'silao', 'lalganj', 'bara',\n",
       "       'jhajha', 'chanpatia', 'sahebganj', 'mornoi industrial area',\n",
       "       'karimganj', 'nagaon', 'mariani', 'moranhat', 'niz hajo',\n",
       "       'dibrugarh', 'sepon', 'mangaldoi', 'lumding', 'dudhpatil pt v',\n",
       "       'golaghat', 'bijni', 'sibsagar', 'titabor town', 'duliajan',\n",
       "       'barpathar', 'laharijan natun bosti', 'howraghat', 'dergaon',\n",
       "       'bongaigaon', 'mankachar', 'biswanath chariali', 'rangia', 'hojai',\n",
       "       'silchar', 'asudubi', 'rangapara', 'nalbari', 'sonari',\n",
       "       'hindustan paper corporation ltd township panchgram', 'majgaon',\n",
       "       'sarupathar bengali', 'chabua', 'tinsukia', 'north guwahati',\n",
       "       'lanka', 'howli', 'nazira', 'diphu', 'marigaon', 'doboka',\n",
       "       'moran town', 'kochpara', 'silapathar', 'durga nagar part v',\n",
       "       'lala', 'bongaigaon rpcl township', 'marowa', 'digboi',\n",
       "       'north lakhimpur', 'pub dhaniram pather', 'niz katigorah pt iii',\n",
       "       'chapar', 'jamunamukh', 'sanpara', 'barpeta road',\n",
       "       'lakhipur cachar district', 'udalguri', 'kampur town', 'tangla',\n",
       "       'thekashu pt i', 'numaligarh refinery township', 'kharupatia',\n",
       "       'jagiroad', 'makum', 'kharijapikon', 'teok', 'sarupathar',\n",
       "       'naharkatiya', 'dhemaji', 'haflong', 'sarthebari', 'doom dooma',\n",
       "       'goalpara', 'chekonidhara', 'azara', 'bhomoraguri aidc', 'bohari',\n",
       "       'golokganj', 'bangaon', 'damara patpara', 'gauripur',\n",
       "       'makum tinsukia district', 'kamalabaria nc', 'badarpur',\n",
       "       'dhekiajuli', 'dhing', 'kokrajhar', 'chapakhowa town', 'amguri',\n",
       "       'bilasipara', 'nahira', 'gohpur', 'bhuragaon', 'barpeta',\n",
       "       'basugaon', 'bokakhat', 'sualkuchi', 'kanisail pt i', 'abhayapuri',\n",
       "       'surajpur', 'nawagarh janjgir', 'korba', 'akaltara', 'baloda',\n",
       "       'bhatapara', 'bilaigarh', 'kunkuri', 'gurur', 'bade bacheli',\n",
       "       'pakhanjur', 'bhilai charoda', 'gariaband', 'gaurela', 'takhatpur',\n",
       "       'kharora', 'kusmi', 'rahaud', 'rajnandgaon', 'dhamdha', 'bastar',\n",
       "       'vishrampur', 'saraipali', 'borai csidc', 'khamharia', 'bodri',\n",
       "       'kharsia', 'phunderdihari', 'mungeli',\n",
       "       'lafarge cement factory arasmeta', 'mahasamund', 'hirmi',\n",
       "       'sirgitti', 'kondagaon', 'abhanpur', 'baikunthpur', 'jaijepur',\n",
       "       'sakti', 'dabhra', 'banki mongra', 'bemetra', 'dornapal',\n",
       "       'gobra nawapara', 'charama', 'adawal', 'janjgir', 'bhanupratappur',\n",
       "       'chhurikala', 'century cement baikunth', 'gharghoda', 'bagbahara',\n",
       "       'kanker', 'jarhi', 'pusaur', 'sheorinarayan', 'basna', 'sarangarh',\n",
       "       'ambagarh chowki', 'chirmiri', 'naya baradwar', 'dalli-rajhara',\n",
       "       'banarsi', 'kurasia', 'dipka', 'durg-bhilainagar', 'balod',\n",
       "       'chhuikhadan', 'utai', 'tilda', 'mandhar industrial area',\n",
       "       'basantpur', 'wadrafnagar', 'chhura', 'baloda bazar', 'arjunda',\n",
       "       'ultratech cement plant rawan', 'paratappur', 'saja', 'lawan',\n",
       "       'pathalgaon', 'pendra road', 'jashpurnagar', 'champa', 'kurud',\n",
       "       'kawardha', 'bilha', 'gunderdehi', 'bagicha', 'lakhnapur',\n",
       "       'new raipur', 'simga', 'koni', 'kral pora kupwara district',\n",
       "       'reasi', 'hiranagar', 'samba', 'ramgarh', 'sopore', 'nowgam',\n",
       "       'sumbal ganderbal district', 'choglamsar', 'naka majiari',\n",
       "       'bijbehara', 'bhalwal', 'jourian', 'arnia', 'trehgam', 'pulwama',\n",
       "       'akhnoor', 'kathua', 'dachigam', 'chadura', 'udhampur', 'tral',\n",
       "       'anantnag', 'bhaderwah', 'doda', 'achabal', 'khour', 'baramula',\n",
       "       'ranbirsinghpora', 'rajauri',\n",
       "       'bari brahmana epip industrial estate', 'duru verinag',\n",
       "       'charari sharief', 'aishmuquam', 'nihalpur simbal', 'maralia',\n",
       "       'magam', 'bashohli', 'ganderbal', 'pattan', 'banihal', 'punch',\n",
       "       'shopian', 'lethipora', 'chak ratnu', 'mattan', 'bishna',\n",
       "       'rathian', 'yari pora', 'parole', 'ramban', 'handwara',\n",
       "       'nowshehra', 'sunderbani', 'safa pora', 'badgam', 'surankote',\n",
       "       'arwani', 'kishtwar', 'mohmmad pora', 'kulgam', 'kukernag',\n",
       "       'qazigund', 'dara pora', 'vijay pore', 'shangus', 'pampora',\n",
       "       'kral pora badgam district', 'bandipore', 'awantipora', 'nagam',\n",
       "       'durg mulla', 'uri', 'dras', 'thanamandi', 'batote', 'soolkoot',\n",
       "       'pahalgam', 'kunzer', 'rehambal', 'talwara', 'qaimoh',\n",
       "       'khan sahib', 'gorah salathian', 'lakhanpur', 'tangdhar',\n",
       "       'bhimtaal', 'herbertpur', 'bahadarabad', 'sidcul haridwar',\n",
       "       'mahua dabra haripura', 'almora', 'kichha', 'laksar',\n",
       "       'sidcul kotadwara', 'bageshwar', 'selaqui', 'kachnal gosain',\n",
       "       'vikasnagar', 'karnaprayag', 'lalkuan', 'mahua kheraganj',\n",
       "       'doiwala', 'landhaura', 'bhagwanpur', 'kotdwara', 'kathgodam',\n",
       "       'champawat', 'pithoragarh', 'jaspur', 'bhowali', 'sitarganj',\n",
       "       'ranikhet', 'manglaur', 'jhabrera', 'khatima', 'corbett',\n",
       "       'gadarpur', 'uttarkashi', 'new tehri', 'bazpur', 'mussoorie',\n",
       "       'bajpur', 'shaktigarh', 'begumpur', 'lansdowne', 'chamba', 'pauri',\n",
       "       'devaprayag'], dtype=object)"
      ]
     },
     "execution_count": 71,
     "metadata": {},
     "output_type": "execute_result"
    }
   ],
   "source": [
    "df['Location'].unique()[1000:]"
   ]
  },
  {
   "cell_type": "code",
   "execution_count": 72,
   "id": "2001adee",
   "metadata": {},
   "outputs": [],
   "source": [
    "df['Location']=[re.sub('[^A-Za-z0-9]+', '', x) for x in df['Location']]"
   ]
  },
  {
   "cell_type": "code",
   "execution_count": 73,
   "id": "fa4e08c0",
   "metadata": {},
   "outputs": [
    {
     "data": {
      "text/plain": [
       "1870"
      ]
     },
     "execution_count": 73,
     "metadata": {},
     "output_type": "execute_result"
    }
   ],
   "source": [
    "len(df['Location'].unique())"
   ]
  },
  {
   "cell_type": "code",
   "execution_count": 74,
   "id": "4a4306f7",
   "metadata": {},
   "outputs": [
    {
     "data": {
      "text/plain": [
       "14273"
      ]
     },
     "execution_count": 74,
     "metadata": {},
     "output_type": "execute_result"
    }
   ],
   "source": [
    "len(df['Km Driven'].unique())"
   ]
  },
  {
   "cell_type": "code",
   "execution_count": 75,
   "id": "bb3642a4",
   "metadata": {},
   "outputs": [
    {
     "data": {
      "text/plain": [
       "array(['23,825', '1,670', '5,178', '58,761', '42,754', '70,068', '34,486',\n",
       "       '67,498', '11,410', '9,014', '3,294', '24,692', '9,703', '5,959',\n",
       "       '19,373', '48,359', '19,595', '75,671', '5,442', '50,000',\n",
       "       '14,385', '6,307', '54,611', '306', '10,004', '49,990', '17,058',\n",
       "       '13,926', '20,203', '1,24,852', '8,649', '1,306', '18,941',\n",
       "       '33,539', '7,099', '76,608', '56,471', '26,041', '28,419', '2,407',\n",
       "       '73,151', '11,228', '19,314', '62,677', '40,348', '12,879',\n",
       "       '5,045', '17,564', '5,604', '83,078', '47,886', '9,571', '8,730',\n",
       "       '43,433', '31,918', '13,837', '26,075', '73,055', '46,401',\n",
       "       '61,310', '38,897', '54,686', '18,251', '9,519', '13,990', '4,543',\n",
       "       '79,168', '3,874', '35,534', '22,215', '28,660', '13,019',\n",
       "       '14,161', '7,819', '4,456', '4,630', '23,432', '68,348', '13,479',\n",
       "       '47,588', '48,480', '31,021', '21,478', '65,896', '42,925',\n",
       "       '42,575', '20,471', '27,288', '58,614', '21,632', '58,557',\n",
       "       '64,047', '22,129', '42,131', '5,488', '56,341', '86,504',\n",
       "       '28,003', '16,722', '53,391'], dtype=object)"
      ]
     },
     "execution_count": 75,
     "metadata": {},
     "output_type": "execute_result"
    }
   ],
   "source": [
    "df['Km Driven'].unique()[:100]"
   ]
  },
  {
   "cell_type": "code",
   "execution_count": 76,
   "id": "2bc9c78c",
   "metadata": {},
   "outputs": [],
   "source": [
    "df['Km Driven']=[str(x).replace(',','') for x in df['Km Driven']]"
   ]
  },
  {
   "cell_type": "code",
   "execution_count": 77,
   "id": "af9bbe07",
   "metadata": {},
   "outputs": [
    {
     "data": {
      "text/plain": [
       "array(['49002', '8498', '107236', '132100', '78809', '56333', '32655',\n",
       "       '46853', '27095', '30785', '7927', '88925', '52038', '114500',\n",
       "       '72673', '70700', '83615', '57331', '102193', '65942', '40954',\n",
       "       '91500', '19900', '42850', '49822', '90370', '100700', '29728',\n",
       "       '45100', '126521', '194260', '80805', '56200', '21973', '69700',\n",
       "       '37382', '38226', '41094', '49823', '109093', '81510', '34521',\n",
       "       '87005', '89200', '191267', '70521', '44696', '33971', '7900',\n",
       "       '10950', '97593', '24919', '45944', '16543', '86200', '54398',\n",
       "       '56232', '103846', '260000', '30643', '11090', '124500', '77002',\n",
       "       '31643', '41321', '57643', '128005', '18765', '87654', '77654',\n",
       "       '128765', '137338', '37834', '84789', '70606', '113950', '76195',\n",
       "       '21603', '126305', '85349', '37082', '78451', '164734', '27800',\n",
       "       '22900', '35010', '50667', '61010', '74600', '68721', '32101',\n",
       "       '37456', '44600', '35080', '24147', '31620', '41538', '20981',\n",
       "       '27402', '27124'], dtype=object)"
      ]
     },
     "execution_count": 77,
     "metadata": {},
     "output_type": "execute_result"
    }
   ],
   "source": [
    "df['Km Driven'].unique()[10000:10100]"
   ]
  },
  {
   "cell_type": "code",
   "execution_count": 78,
   "id": "a5a8af50",
   "metadata": {},
   "outputs": [
    {
     "name": "stdout",
     "output_type": "stream",
     "text": [
      "object\n"
     ]
    }
   ],
   "source": [
    "print(df['Km Driven'].dtype)"
   ]
  },
  {
   "cell_type": "code",
   "execution_count": 79,
   "id": "b4442a8a",
   "metadata": {},
   "outputs": [],
   "source": [
    "df['Km Driven']=[round(float(x)) for x in df['Km Driven']]"
   ]
  },
  {
   "cell_type": "code",
   "execution_count": 80,
   "id": "72156610",
   "metadata": {},
   "outputs": [
    {
     "data": {
      "text/plain": [
       "13038"
      ]
     },
     "execution_count": 80,
     "metadata": {},
     "output_type": "execute_result"
    }
   ],
   "source": [
    "len(df['Km Driven'].unique())"
   ]
  },
  {
   "cell_type": "code",
   "execution_count": 81,
   "id": "ca700a84",
   "metadata": {},
   "outputs": [],
   "source": [
    "df['Km Driven']=df['Km Driven'].astype(int)"
   ]
  },
  {
   "cell_type": "code",
   "execution_count": 82,
   "id": "0e097a3b",
   "metadata": {},
   "outputs": [
    {
     "name": "stdout",
     "output_type": "stream",
     "text": [
      "int32\n"
     ]
    }
   ],
   "source": [
    "print(df['Km Driven'].dtype)"
   ]
  },
  {
   "cell_type": "code",
   "execution_count": 83,
   "id": "6bbf62b1",
   "metadata": {},
   "outputs": [
    {
     "data": {
      "text/plain": [
       "2"
      ]
     },
     "execution_count": 83,
     "metadata": {},
     "output_type": "execute_result"
    }
   ],
   "source": [
    "len(df['Transmission Type'].unique())"
   ]
  },
  {
   "cell_type": "code",
   "execution_count": 84,
   "id": "7c467625",
   "metadata": {},
   "outputs": [
    {
     "data": {
      "text/plain": [
       "array(['Petrol', 'Diesel', 'CNG', 'LPG', 'Electric(Battery)',\n",
       "       'Petrol + CNG', 'Petrol + LPG', 'Electric', 'Hybrid',\n",
       "       'CNG & Hybrids'], dtype=object)"
      ]
     },
     "execution_count": 84,
     "metadata": {},
     "output_type": "execute_result"
    }
   ],
   "source": [
    "df['Fuel Type'].unique()"
   ]
  },
  {
   "cell_type": "code",
   "execution_count": 85,
   "id": "872c18f8",
   "metadata": {},
   "outputs": [],
   "source": [
    "df['Fuel Type']=df['Fuel Type'].replace('Electric(Battery)','Electric')"
   ]
  },
  {
   "cell_type": "code",
   "execution_count": 86,
   "id": "84e89689",
   "metadata": {},
   "outputs": [
    {
     "data": {
      "text/plain": [
       "array(['Petrol', 'Diesel', 'CNG', 'LPG', 'Electric', 'Petrol + CNG',\n",
       "       'Petrol + LPG', 'Hybrid', 'CNG & Hybrids'], dtype=object)"
      ]
     },
     "execution_count": 86,
     "metadata": {},
     "output_type": "execute_result"
    }
   ],
   "source": [
    "df['Fuel Type'].unique()"
   ]
  },
  {
   "cell_type": "code",
   "execution_count": 87,
   "id": "afec0bb3",
   "metadata": {},
   "outputs": [
    {
     "data": {
      "text/plain": [
       "array([2016, 2019, 2021, 2017, 2020, 2013, 2018, 2015, 2014, 2011, 2012,\n",
       "       2010, 2009, 2004, 2008, 2007, 2005, 2006, 2022, 1997, 1996, 1999,\n",
       "       2002, 2000, 2001, 1998, 2003, 1992, 1991, 1995, 1988, 1993, 1994,\n",
       "       '2011', '2009', '2007', '2014', '2017', '2012', '2013', '2015',\n",
       "       '2016', '2019', '2010', '2018', '2021', '2005', '2022', '2004',\n",
       "       '2020', '2003', '2008', '1998', '2001', '2006', '2002', '1985',\n",
       "       '1996', '2000', '1999', '2015.0', '1990', '1997', '2014.0', '1987',\n",
       "       '1995', '1993', '1900', '1989', '2013.0', '1991', '1972', '1992',\n",
       "       '1986', '1994', '2012.0', '1988', '1976', '1973', '2011.0',\n",
       "       '2019.0', '2016.0', '1974', '1923', '1945', '1979'], dtype=object)"
      ]
     },
     "execution_count": 87,
     "metadata": {},
     "output_type": "execute_result"
    }
   ],
   "source": [
    "df['Manufacture Year'].unique()"
   ]
  },
  {
   "cell_type": "code",
   "execution_count": 88,
   "id": "7a98bc0f",
   "metadata": {},
   "outputs": [],
   "source": [
    "df['Manufacture Year']=[round(float(x)) for x in df['Manufacture Year']]"
   ]
  },
  {
   "cell_type": "code",
   "execution_count": 89,
   "id": "51998fa3",
   "metadata": {},
   "outputs": [
    {
     "data": {
      "text/plain": [
       "array([2016, 2019, 2021, 2017, 2020, 2013, 2018, 2015, 2014, 2011, 2012,\n",
       "       2010, 2009, 2004, 2008, 2007, 2005, 2006, 2022, 1997, 1996, 1999,\n",
       "       2002, 2000, 2001, 1998, 2003, 1992, 1991, 1995, 1988, 1993, 1994,\n",
       "       1985, 1990, 1987, 1900, 1989, 1972, 1986, 1976, 1973, 1974, 1923,\n",
       "       1945, 1979], dtype=int64)"
      ]
     },
     "execution_count": 89,
     "metadata": {},
     "output_type": "execute_result"
    }
   ],
   "source": [
    "df['Manufacture Year'].unique()"
   ]
  },
  {
   "cell_type": "code",
   "execution_count": 90,
   "id": "b0096664",
   "metadata": {},
   "outputs": [
    {
     "data": {
      "text/plain": [
       "dtype('int64')"
      ]
     },
     "execution_count": 90,
     "metadata": {},
     "output_type": "execute_result"
    }
   ],
   "source": [
    "df['Manufacture Year'].dtype"
   ]
  },
  {
   "cell_type": "code",
   "execution_count": 91,
   "id": "9b7c3352",
   "metadata": {},
   "outputs": [
    {
     "data": {
      "text/plain": [
       "array(['1st Owner', '2nd Owner', 1, 2, 3, 4, 5, 8, 6, 'First Owner ',\n",
       "       'Second Owner ', 'First Owner', 'More Than 4 Owners',\n",
       "       'Second Owner', 'Third Owner ', 'Fourth Owner', 'Third Owner',\n",
       "       'UnRegistered Car', '4 or More Owners', '2nd', '1st', '3rd', '4+',\n",
       "       '4th'], dtype=object)"
      ]
     },
     "execution_count": 91,
     "metadata": {},
     "output_type": "execute_result"
    }
   ],
   "source": [
    "df['No.Of.Owners'].unique()"
   ]
  },
  {
   "cell_type": "code",
   "execution_count": 92,
   "id": "ecea317b",
   "metadata": {},
   "outputs": [],
   "source": [
    "df['No.Of.Owners']=[str(x).strip().lower() for x in df['No.Of.Owners']]"
   ]
  },
  {
   "cell_type": "code",
   "execution_count": 93,
   "id": "a5c3aebb",
   "metadata": {},
   "outputs": [
    {
     "data": {
      "text/plain": [
       "array(['1st owner', '2nd owner', '1', '2', '3', '4', '5', '8', '6',\n",
       "       'first owner', 'second owner', 'more than 4 owners', 'third owner',\n",
       "       'fourth owner', 'unregistered car', '4 or more owners', '2nd',\n",
       "       '1st', '3rd', '4+', '4th'], dtype=object)"
      ]
     },
     "execution_count": 93,
     "metadata": {},
     "output_type": "execute_result"
    }
   ],
   "source": [
    "df['No.Of.Owners'].unique()"
   ]
  },
  {
   "cell_type": "code",
   "execution_count": 94,
   "id": "2d23f2e0",
   "metadata": {},
   "outputs": [],
   "source": [
    "df['No.Of.Owners']=df['No.Of.Owners'].replace({'1st owner':'1','2nd owner':'2','first owner':'1','second owner':'2',\n",
    "                                              'more than 4 owners':'4+','third owner':'3',\n",
    "                                              'fourth owner':'4','4 or more owners':'4+','2nd':'2','1st':'1','3rd':'3','4th':'4'})"
   ]
  },
  {
   "cell_type": "code",
   "execution_count": 95,
   "id": "1835d7b4",
   "metadata": {},
   "outputs": [
    {
     "data": {
      "text/plain": [
       "array(['1', '2', '3', '4', '5', '8', '6', '4+', 'unregistered car'],\n",
       "      dtype=object)"
      ]
     },
     "execution_count": 95,
     "metadata": {},
     "output_type": "execute_result"
    }
   ],
   "source": [
    "df['No.Of.Owners'].unique()"
   ]
  },
  {
   "cell_type": "code",
   "execution_count": 96,
   "id": "cbf304ca",
   "metadata": {},
   "outputs": [
    {
     "data": {
      "text/plain": [
       "6233"
      ]
     },
     "execution_count": 96,
     "metadata": {},
     "output_type": "execute_result"
    }
   ],
   "source": [
    "len(df['Price'].unique())"
   ]
  },
  {
   "cell_type": "code",
   "execution_count": 97,
   "id": "8ea6bb2a",
   "metadata": {},
   "outputs": [],
   "source": [
    "df['Price']=[str(x).replace(',','') for x in df['Price']]"
   ]
  },
  {
   "cell_type": "code",
   "execution_count": 98,
   "id": "41026d06",
   "metadata": {},
   "outputs": [
    {
     "data": {
      "text/plain": [
       "6856"
      ]
     },
     "execution_count": 98,
     "metadata": {},
     "output_type": "execute_result"
    }
   ],
   "source": [
    "len(df['Price'].unique())"
   ]
  },
  {
   "cell_type": "code",
   "execution_count": 99,
   "id": "aeb941cd",
   "metadata": {},
   "outputs": [
    {
     "data": {
      "text/plain": [
       "array(['725000', '470000', '1136000', ..., '534999.0', '199990.0',\n",
       "       '699900.0'], dtype=object)"
      ]
     },
     "execution_count": 99,
     "metadata": {},
     "output_type": "execute_result"
    }
   ],
   "source": [
    "df['Price'].unique()"
   ]
  },
  {
   "cell_type": "code",
   "execution_count": 100,
   "id": "d71cc074",
   "metadata": {},
   "outputs": [],
   "source": [
    "df['Price']=[round(float(x)) for x in df['Price']]"
   ]
  },
  {
   "cell_type": "code",
   "execution_count": 101,
   "id": "d96cf4b0",
   "metadata": {},
   "outputs": [
    {
     "data": {
      "text/plain": [
       "5923"
      ]
     },
     "execution_count": 101,
     "metadata": {},
     "output_type": "execute_result"
    }
   ],
   "source": [
    "len(df['Price'].unique())"
   ]
  },
  {
   "cell_type": "code",
   "execution_count": 102,
   "id": "9f42f9b3",
   "metadata": {},
   "outputs": [
    {
     "data": {
      "text/plain": [
       "array([ 344099,  880399,  552299, 1539699,  571999,  752699,  629399,\n",
       "        858899,  789499,  707799,  520199,  376299,  406499, 1388699,\n",
       "        871699,  661999,  503599,  906899,  541499,  636499,  718399,\n",
       "        349899,  393199,  403899,  608099,  763799,  323799,  304699,\n",
       "        875399,  522799,  454199,  463799,  528399, 2120299,  824399,\n",
       "        794399,  991499,  547399,  508399,  965999,  261599,  495299,\n",
       "        655599,  685699,  312799, 1082299,  430999,  345699, 1288899,\n",
       "        438399, 1055199,  481699,  693299,  236999,  806299, 1271999,\n",
       "        467399,  275999,  262499,  549199, 1376799,  912499,  255099,\n",
       "       1517399, 1133499, 1587999, 1038199,  317299,  628099,  567899,\n",
       "        348999, 1781199,  431699,  748199,  818399,  975899,  855399,\n",
       "        956599,  480399, 1725899, 1617199, 1149399,  568299,  268299,\n",
       "        460199, 1605099,  628699, 1445399,  902499,  628299,  543999,\n",
       "        477399,  613499,  800299,  397399, 1013899,  424599,  269899,\n",
       "        395899,  354899,  664599,  299199,  289099,  501899, 1330899,\n",
       "        365699, 1290199, 1932899,  845099, 1431799,  577699,  247099,\n",
       "        618199,  325299,  873999,  595499, 1375799, 1073799,  308299,\n",
       "        511699,  606299,  901999,  551399,  809199,  374199, 1474999,\n",
       "        664199,  674099,  522699,  670699, 1031599, 1317799, 1118999,\n",
       "        294599, 1410499,  502399,  832499,  308599,  726499,  717799,\n",
       "        613299, 1233199, 1182799, 1862899,  734299,  304499,  640199,\n",
       "        631599,  240099, 1034999,  634999,  559199,  369699,  381799,\n",
       "        631699, 1190099,  333499,  914899,  475399, 1460899,  750599,\n",
       "        772099,  429199, 1569699,  975299,  326699,  793099, 1601299,\n",
       "       1192699,  248499,  397099,  581699,  862199, 1196399,  340899,\n",
       "        335799,  814799,  807099,  282499,  769799,  593399, 1174999,\n",
       "        793699,  916199,  579899, 1077299,  621499,  241399,  517499,\n",
       "        550299,  797699, 1063799,  145799,  771399,  475699,  708499,\n",
       "        750299,  349699,  309099,  762299], dtype=int64)"
      ]
     },
     "execution_count": 102,
     "metadata": {},
     "output_type": "execute_result"
    }
   ],
   "source": [
    "df['Price'].unique()[1000:1200]"
   ]
  },
  {
   "cell_type": "code",
   "execution_count": 103,
   "id": "3c6f2c0a",
   "metadata": {},
   "outputs": [
    {
     "data": {
      "text/plain": [
       "dtype('int64')"
      ]
     },
     "execution_count": 103,
     "metadata": {},
     "output_type": "execute_result"
    }
   ],
   "source": [
    "df['Price'].dtype"
   ]
  },
  {
   "cell_type": "code",
   "execution_count": 104,
   "id": "c21f0660",
   "metadata": {},
   "outputs": [
    {
     "data": {
      "text/html": [
       "<div>\n",
       "<style scoped>\n",
       "    .dataframe tbody tr th:only-of-type {\n",
       "        vertical-align: middle;\n",
       "    }\n",
       "\n",
       "    .dataframe tbody tr th {\n",
       "        vertical-align: top;\n",
       "    }\n",
       "\n",
       "    .dataframe thead th {\n",
       "        text-align: right;\n",
       "    }\n",
       "</style>\n",
       "<table border=\"1\" class=\"dataframe\">\n",
       "  <thead>\n",
       "    <tr style=\"text-align: right;\">\n",
       "      <th></th>\n",
       "      <th>Brand</th>\n",
       "      <th>Model</th>\n",
       "      <th>Variant</th>\n",
       "      <th>Body Type</th>\n",
       "      <th>Location</th>\n",
       "      <th>Km Driven</th>\n",
       "      <th>Transmission Type</th>\n",
       "      <th>Fuel Type</th>\n",
       "      <th>Manufacture Year</th>\n",
       "      <th>No.Of.Owners</th>\n",
       "      <th>Price</th>\n",
       "    </tr>\n",
       "  </thead>\n",
       "  <tbody>\n",
       "    <tr>\n",
       "      <th>39508</th>\n",
       "      <td>rollsroyce</td>\n",
       "      <td>ghostseriesii</td>\n",
       "      <td>6620142020</td>\n",
       "      <td>sedan</td>\n",
       "      <td>kolkata</td>\n",
       "      <td>5500</td>\n",
       "      <td>Automatic</td>\n",
       "      <td>Petrol</td>\n",
       "      <td>2017</td>\n",
       "      <td>1</td>\n",
       "      <td>42500000</td>\n",
       "    </tr>\n",
       "  </tbody>\n",
       "</table>\n",
       "</div>"
      ],
      "text/plain": [
       "            Brand          Model     Variant Body Type Location  Km Driven  \\\n",
       "39508  rollsroyce  ghostseriesii  6620142020     sedan  kolkata       5500   \n",
       "\n",
       "      Transmission Type Fuel Type  Manufacture Year No.Of.Owners     Price  \n",
       "39508         Automatic    Petrol              2017            1  42500000  "
      ]
     },
     "execution_count": 104,
     "metadata": {},
     "output_type": "execute_result"
    }
   ],
   "source": [
    "df[df['Price'].astype(float)==float(df['Price'].max())]"
   ]
  },
  {
   "cell_type": "code",
   "execution_count": 105,
   "id": "6549ec4b",
   "metadata": {},
   "outputs": [
    {
     "data": {
      "text/plain": [
       "count    8.605700e+04\n",
       "mean     8.176802e+05\n",
       "std      1.113057e+06\n",
       "min      0.000000e+00\n",
       "25%      3.500000e+05\n",
       "50%      5.250000e+05\n",
       "75%      8.400000e+05\n",
       "max      4.250000e+07\n",
       "Name: Price, dtype: float64"
      ]
     },
     "execution_count": 105,
     "metadata": {},
     "output_type": "execute_result"
    }
   ],
   "source": [
    "df['Price'].describe()"
   ]
  },
  {
   "cell_type": "code",
   "execution_count": 106,
   "id": "a4ef19c4",
   "metadata": {},
   "outputs": [
    {
     "data": {
      "text/html": [
       "<div>\n",
       "<style scoped>\n",
       "    .dataframe tbody tr th:only-of-type {\n",
       "        vertical-align: middle;\n",
       "    }\n",
       "\n",
       "    .dataframe tbody tr th {\n",
       "        vertical-align: top;\n",
       "    }\n",
       "\n",
       "    .dataframe thead th {\n",
       "        text-align: right;\n",
       "    }\n",
       "</style>\n",
       "<table border=\"1\" class=\"dataframe\">\n",
       "  <thead>\n",
       "    <tr style=\"text-align: right;\">\n",
       "      <th></th>\n",
       "      <th>Brand</th>\n",
       "      <th>Model</th>\n",
       "      <th>Variant</th>\n",
       "      <th>Body Type</th>\n",
       "      <th>Location</th>\n",
       "      <th>Km Driven</th>\n",
       "      <th>Transmission Type</th>\n",
       "      <th>Fuel Type</th>\n",
       "      <th>Manufacture Year</th>\n",
       "      <th>No.Of.Owners</th>\n",
       "      <th>Price</th>\n",
       "    </tr>\n",
       "  </thead>\n",
       "  <tbody>\n",
       "    <tr>\n",
       "      <th>5101</th>\n",
       "      <td>maruti</td>\n",
       "      <td>swiftdzire</td>\n",
       "      <td>vxi12bsiv</td>\n",
       "      <td>sedan</td>\n",
       "      <td>newdelhi</td>\n",
       "      <td>39695</td>\n",
       "      <td>Manual</td>\n",
       "      <td>Petrol</td>\n",
       "      <td>2013</td>\n",
       "      <td>1</td>\n",
       "      <td>0</td>\n",
       "    </tr>\n",
       "    <tr>\n",
       "      <th>5104</th>\n",
       "      <td>maruti</td>\n",
       "      <td>swiftdzire</td>\n",
       "      <td>vxi12bsiv</td>\n",
       "      <td>sedan</td>\n",
       "      <td>newdelhi</td>\n",
       "      <td>39696</td>\n",
       "      <td>Manual</td>\n",
       "      <td>Petrol</td>\n",
       "      <td>2013</td>\n",
       "      <td>1</td>\n",
       "      <td>0</td>\n",
       "    </tr>\n",
       "    <tr>\n",
       "      <th>5149</th>\n",
       "      <td>hyundai</td>\n",
       "      <td>grandi10</td>\n",
       "      <td>magna12vtvt</td>\n",
       "      <td>hatchback</td>\n",
       "      <td>newdelhi</td>\n",
       "      <td>55192</td>\n",
       "      <td>Manual</td>\n",
       "      <td>Petrol</td>\n",
       "      <td>2015</td>\n",
       "      <td>2</td>\n",
       "      <td>0</td>\n",
       "    </tr>\n",
       "  </tbody>\n",
       "</table>\n",
       "</div>"
      ],
      "text/plain": [
       "        Brand       Model      Variant  Body Type  Location  Km Driven  \\\n",
       "5101   maruti  swiftdzire    vxi12bsiv      sedan  newdelhi      39695   \n",
       "5104   maruti  swiftdzire    vxi12bsiv      sedan  newdelhi      39696   \n",
       "5149  hyundai    grandi10  magna12vtvt  hatchback  newdelhi      55192   \n",
       "\n",
       "     Transmission Type Fuel Type  Manufacture Year No.Of.Owners  Price  \n",
       "5101            Manual    Petrol              2013            1      0  \n",
       "5104            Manual    Petrol              2013            1      0  \n",
       "5149            Manual    Petrol              2015            2      0  "
      ]
     },
     "execution_count": 106,
     "metadata": {},
     "output_type": "execute_result"
    }
   ],
   "source": [
    "df[df['Price'].astype(float)==float(df['Price'].min())]"
   ]
  },
  {
   "cell_type": "markdown",
   "id": "830fd88a",
   "metadata": {},
   "source": [
    "Car price with 0 does not make sence to the data. Hence will remove these data from dataset."
   ]
  },
  {
   "cell_type": "code",
   "execution_count": 107,
   "id": "2c3650fe",
   "metadata": {},
   "outputs": [],
   "source": [
    "df.loc[df['Price'].astype(float)==float(df['Price'].min()),'Price']=np.nan"
   ]
  },
  {
   "cell_type": "code",
   "execution_count": 108,
   "id": "6c18140b",
   "metadata": {},
   "outputs": [
    {
     "data": {
      "text/plain": [
       "Brand                0\n",
       "Model                0\n",
       "Variant              0\n",
       "Body Type            0\n",
       "Location             0\n",
       "Km Driven            0\n",
       "Transmission Type    0\n",
       "Fuel Type            0\n",
       "Manufacture Year     0\n",
       "No.Of.Owners         0\n",
       "Price                3\n",
       "dtype: int64"
      ]
     },
     "execution_count": 108,
     "metadata": {},
     "output_type": "execute_result"
    }
   ],
   "source": [
    "df.isna().sum()"
   ]
  },
  {
   "cell_type": "code",
   "execution_count": 109,
   "id": "efe88533",
   "metadata": {},
   "outputs": [],
   "source": [
    "df.dropna(inplace=True)"
   ]
  },
  {
   "cell_type": "code",
   "execution_count": 110,
   "id": "7027cf39",
   "metadata": {},
   "outputs": [
    {
     "data": {
      "text/plain": [
       "(86054, 11)"
      ]
     },
     "execution_count": 110,
     "metadata": {},
     "output_type": "execute_result"
    }
   ],
   "source": [
    "df.shape"
   ]
  },
  {
   "cell_type": "code",
   "execution_count": 111,
   "id": "f66d6717",
   "metadata": {},
   "outputs": [
    {
     "name": "stdout",
     "output_type": "stream",
     "text": [
      "<class 'pandas.core.frame.DataFrame'>\n",
      "Int64Index: 86054 entries, 0 to 18030\n",
      "Data columns (total 11 columns):\n",
      " #   Column             Non-Null Count  Dtype  \n",
      "---  ------             --------------  -----  \n",
      " 0   Brand              86054 non-null  object \n",
      " 1   Model              86054 non-null  object \n",
      " 2   Variant            86054 non-null  object \n",
      " 3   Body Type          86054 non-null  object \n",
      " 4   Location           86054 non-null  object \n",
      " 5   Km Driven          86054 non-null  int32  \n",
      " 6   Transmission Type  86054 non-null  object \n",
      " 7   Fuel Type          86054 non-null  object \n",
      " 8   Manufacture Year   86054 non-null  int64  \n",
      " 9   No.Of.Owners       86054 non-null  object \n",
      " 10  Price              86054 non-null  float64\n",
      "dtypes: float64(1), int32(1), int64(1), object(8)\n",
      "memory usage: 7.6+ MB\n"
     ]
    }
   ],
   "source": [
    "df.info()"
   ]
  },
  {
   "cell_type": "code",
   "execution_count": 112,
   "id": "9f58719c",
   "metadata": {},
   "outputs": [
    {
     "data": {
      "text/plain": [
       "array([[<AxesSubplot:title={'center':'Km Driven'}>,\n",
       "        <AxesSubplot:title={'center':'Manufacture Year'}>],\n",
       "       [<AxesSubplot:title={'center':'Price'}>, <AxesSubplot:>]],\n",
       "      dtype=object)"
      ]
     },
     "execution_count": 112,
     "metadata": {},
     "output_type": "execute_result"
    },
    {
     "data": {
      "image/png": "[encoded data removed]",
      "text/plain": [
       "<Figure size 1296x1152 with 4 Axes>"
      ]
     },
     "metadata": {
      "needs_background": "light"
     },
     "output_type": "display_data"
    }
   ],
   "source": [
    "df.hist(figsize=(18,16))"
   ]
  },
  {
   "cell_type": "code",
   "execution_count": 113,
   "id": "4ada71a0",
   "metadata": {},
   "outputs": [],
   "source": [
    "catg_col=[]\n",
    "cont_col=[]\n",
    "for col in df.columns:\n",
    "    if df[col].dtype=='object':\n",
    "        catg_col.append(col)\n",
    "    else:\n",
    "        cont_col.append(col)\n",
    "        "
   ]
  },
  {
   "cell_type": "code",
   "execution_count": 114,
   "id": "cd964fa1",
   "metadata": {},
   "outputs": [
    {
     "data": {
      "image/png": "[encoded data removed]",
      "text/plain": [
       "<Figure size 720x576 with 1 Axes>"
      ]
     },
     "metadata": {
      "needs_background": "light"
     },
     "output_type": "display_data"
    }
   ],
   "source": [
    "plt.figure(figsize=(10,8))\n",
    "sns.distplot(df['Price'])\n",
    "plt.show()"
   ]
  },
  {
   "cell_type": "markdown",
   "id": "8889320b",
   "metadata": {},
   "source": [
    "The target variable price is highly right skewed."
   ]
  },
  {
   "cell_type": "code",
   "execution_count": 115,
   "id": "bf0773e7",
   "metadata": {},
   "outputs": [
    {
     "data": {
      "image/png": "[encoded data removed]",
      "text/plain": [
       "<Figure size 1296x576 with 1 Axes>"
      ]
     },
     "metadata": {
      "needs_background": "light"
     },
     "output_type": "display_data"
    }
   ],
   "source": [
    "plt.figure(figsize=(18,8))\n",
    "sns.countplot(df['Brand'])\n",
    "plt.xticks(rotation=90)\n",
    "plt.show()\n"
   ]
  },
  {
   "cell_type": "markdown",
   "id": "d87e2d4d",
   "metadata": {},
   "source": [
    "Observatios:\n",
    "We have more maruthi brand cars than other brands and followed by hyndai."
   ]
  },
  {
   "cell_type": "code",
   "execution_count": 116,
   "id": "a1c5e303",
   "metadata": {},
   "outputs": [
    {
     "data": {
      "image/png": "[encoded data removed]",
      "text/plain": [
       "<Figure size 1296x576 with 1 Axes>"
      ]
     },
     "metadata": {
      "needs_background": "light"
     },
     "output_type": "display_data"
    }
   ],
   "source": [
    "plt.figure(figsize=(18,8))\n",
    "sns.barplot(df['Brand'],df['Price'])\n",
    "plt.xticks(rotation=90)\n",
    "plt.show()"
   ]
  },
  {
   "cell_type": "markdown",
   "id": "6e8a384f",
   "metadata": {},
   "source": [
    "Observations:\n",
    "    1. Price of Rolls royce cars are higher than other brand cars"
   ]
  },
  {
   "cell_type": "code",
   "execution_count": 117,
   "id": "cba87c9a",
   "metadata": {},
   "outputs": [
    {
     "data": {
      "image/png": "[encoded data removed]",
      "text/plain": [
       "<Figure size 1296x576 with 1 Axes>"
      ]
     },
     "metadata": {
      "needs_background": "light"
     },
     "output_type": "display_data"
    }
   ],
   "source": [
    "plt.figure(figsize=(18,8))\n",
    "sns.barplot(df['No.Of.Owners'],df['Price'])\n",
    "plt.xticks(rotation=90)\n",
    "plt.show()"
   ]
  },
  {
   "cell_type": "markdown",
   "id": "c50c6b4d",
   "metadata": {},
   "source": [
    "Observations:\n",
    "    1. Price of Unregistered cars and 1st owner cars are higher than others.\n",
    "    2. When the number of owners increase, the price of the car is less."
   ]
  },
  {
   "cell_type": "code",
   "execution_count": 667,
   "id": "aef2c95a",
   "metadata": {},
   "outputs": [
    {
     "data": {
      "image/png": "[encoded data removed]",
      "text/plain": [
       "<Figure size 1296x576 with 1 Axes>"
      ]
     },
     "metadata": {
      "needs_background": "light"
     },
     "output_type": "display_data"
    }
   ],
   "source": [
    "plt.figure(figsize=(18,8))\n",
    "sns.barplot(df['Manufacture Year'],df['Price'])\n",
    "plt.xticks(rotation=90)\n",
    "plt.show()"
   ]
  },
  {
   "cell_type": "code",
   "execution_count": 668,
   "id": "33a50556",
   "metadata": {},
   "outputs": [
    {
     "data": {
      "image/png": "[encoded data removed]",
      "text/plain": [
       "<Figure size 1296x576 with 1 Axes>"
      ]
     },
     "metadata": {
      "needs_background": "light"
     },
     "output_type": "display_data"
    }
   ],
   "source": [
    "plt.figure(figsize=(18,8))\n",
    "sns.barplot(df['Body Type'],df['Price'])\n",
    "plt.xticks(rotation=90)\n",
    "plt.show()"
   ]
  },
  {
   "cell_type": "markdown",
   "id": "16598132",
   "metadata": {},
   "source": [
    "Observations:\n",
    "    1. The price of convertible body type cars are higher than other body types and followed by coupe."
   ]
  },
  {
   "cell_type": "code",
   "execution_count": 669,
   "id": "4f9eec9f",
   "metadata": {},
   "outputs": [
    {
     "data": {
      "image/png": "[encoded data removed]",
      "text/plain": [
       "<Figure size 1296x576 with 1 Axes>"
      ]
     },
     "metadata": {
      "needs_background": "light"
     },
     "output_type": "display_data"
    }
   ],
   "source": [
    "plt.figure(figsize=(18,8))\n",
    "sns.scatterplot(df['Km Driven'],df['Price'])\n",
    "plt.xticks(rotation=90)\n",
    "plt.show()"
   ]
  },
  {
   "cell_type": "markdown",
   "id": "5e3d29ff",
   "metadata": {},
   "source": [
    "Observations:\n",
    "    1. When the Km driven is less, the car price is more."
   ]
  },
  {
   "cell_type": "code",
   "execution_count": 670,
   "id": "ac214d8b",
   "metadata": {},
   "outputs": [
    {
     "data": {
      "image/png": "[encoded data removed]",
      "text/plain": [
       "<Figure size 1296x576 with 1 Axes>"
      ]
     },
     "metadata": {
      "needs_background": "light"
     },
     "output_type": "display_data"
    }
   ],
   "source": [
    "plt.figure(figsize=(18,8))\n",
    "sns.barplot(df['Transmission Type'],df['Price'])\n",
    "plt.xticks(rotation=90)\n",
    "plt.show()"
   ]
  },
  {
   "cell_type": "markdown",
   "id": "f9577fd6",
   "metadata": {},
   "source": [
    "Observations: 1. The price of automatic transmission type cars are higher than manual cars."
   ]
  },
  {
   "cell_type": "code",
   "execution_count": 671,
   "id": "76590280",
   "metadata": {},
   "outputs": [
    {
     "data": {
      "image/png": "[encoded data removed]",
      "text/plain": [
       "<Figure size 1296x576 with 1 Axes>"
      ]
     },
     "metadata": {
      "needs_background": "light"
     },
     "output_type": "display_data"
    }
   ],
   "source": [
    "plt.figure(figsize=(18,8))\n",
    "sns.barplot(df['Fuel Type'],df['Price'])\n",
    "plt.xticks(rotation=90)\n",
    "plt.show()"
   ]
  },
  {
   "cell_type": "markdown",
   "id": "bf7e39eb",
   "metadata": {},
   "source": [
    "Observations:\n",
    "   1. The price of Hybrid fuel type cars are higher than other fuel type cars and followed by Electric cars and diesel cars."
   ]
  },
  {
   "cell_type": "code",
   "execution_count": 672,
   "id": "8b9d7775",
   "metadata": {},
   "outputs": [
    {
     "data": {
      "text/plain": [
       "<Figure size 720x864 with 0 Axes>"
      ]
     },
     "metadata": {},
     "output_type": "display_data"
    },
    {
     "data": {
      "image/png": "[encoded data removed]",
      "text/plain": [
       "<Figure size 720x360 with 2 Axes>"
      ]
     },
     "metadata": {
      "needs_background": "light"
     },
     "output_type": "display_data"
    }
   ],
   "source": [
    "plt.figure(figsize=(10,12))\n",
    "cat=sns.catplot(x='Brand',y='Price',data=df,kind='bar',col='Transmission Type',)\n",
    "cat.set_xticklabels(rotation=90)\n",
    "plt.show()"
   ]
  },
  {
   "cell_type": "markdown",
   "id": "4f3c29f6",
   "metadata": {},
   "source": [
    "Observations:\n",
    "1. RollsRoyce brand cars with automatic transmission type are costlier than other type of cars."
   ]
  },
  {
   "cell_type": "markdown",
   "id": "f1cc2834",
   "metadata": {},
   "source": [
    "EDA Conclusion Points:\n",
    "1. We have more maruthi brand cars than other brands and followed by hyndai.\n",
    "2. Price of Rolls royce cars are higher than other brand cars\n",
    "3. Price of Unregistered cars and 1st owner cars are higher than others.\n",
    "4. When the number of owners increase, the price of the car is less.\n",
    "5. The price of convertible body type cars are higher than other body types and followed by coupe.\n",
    "6. When the Km driven is less, the car price is more.\n",
    "7. The price of automatic transmission type cars are higher than manual cars.\n",
    "8. The price of Hybrid fuel type cars are higher than other fuel type cars and followed by Electric cars and diesel cars.\n",
    "9. RollsRoyce brand cars with automatic transmission type are costlier than other type of cars."
   ]
  },
  {
   "cell_type": "markdown",
   "id": "35702b8f",
   "metadata": {},
   "source": [
    "#### Encoding the non numeric features"
   ]
  },
  {
   "cell_type": "code",
   "execution_count": 673,
   "id": "33d655e0",
   "metadata": {},
   "outputs": [
    {
     "data": {
      "text/plain": [
       "['Brand',\n",
       " 'Model',\n",
       " 'Variant',\n",
       " 'Body Type',\n",
       " 'Location',\n",
       " 'Transmission Type',\n",
       " 'Fuel Type',\n",
       " 'No.Of.Owners']"
      ]
     },
     "execution_count": 673,
     "metadata": {},
     "output_type": "execute_result"
    }
   ],
   "source": [
    "catg_col"
   ]
  },
  {
   "cell_type": "code",
   "execution_count": 674,
   "id": "29b890b6",
   "metadata": {},
   "outputs": [],
   "source": [
    "from sklearn.preprocessing import LabelEncoder"
   ]
  },
  {
   "cell_type": "code",
   "execution_count": 675,
   "id": "f2081d07",
   "metadata": {},
   "outputs": [
    {
     "data": {
      "text/html": [
       "<div>\n",
       "<style scoped>\n",
       "    .dataframe tbody tr th:only-of-type {\n",
       "        vertical-align: middle;\n",
       "    }\n",
       "\n",
       "    .dataframe tbody tr th {\n",
       "        vertical-align: top;\n",
       "    }\n",
       "\n",
       "    .dataframe thead th {\n",
       "        text-align: right;\n",
       "    }\n",
       "</style>\n",
       "<table border=\"1\" class=\"dataframe\">\n",
       "  <thead>\n",
       "    <tr style=\"text-align: right;\">\n",
       "      <th></th>\n",
       "      <th>Brand</th>\n",
       "      <th>Model</th>\n",
       "      <th>Variant</th>\n",
       "      <th>Body Type</th>\n",
       "      <th>Location</th>\n",
       "      <th>Km Driven</th>\n",
       "      <th>Transmission Type</th>\n",
       "      <th>Fuel Type</th>\n",
       "      <th>Manufacture Year</th>\n",
       "      <th>No.Of.Owners</th>\n",
       "      <th>Price</th>\n",
       "    </tr>\n",
       "  </thead>\n",
       "  <tbody>\n",
       "    <tr>\n",
       "      <th>0</th>\n",
       "      <td>31</td>\n",
       "      <td>64</td>\n",
       "      <td>136</td>\n",
       "      <td>2</td>\n",
       "      <td>1435</td>\n",
       "      <td>23825</td>\n",
       "      <td>0</td>\n",
       "      <td>6</td>\n",
       "      <td>2016</td>\n",
       "      <td>0</td>\n",
       "      <td>725000.0</td>\n",
       "    </tr>\n",
       "    <tr>\n",
       "      <th>1</th>\n",
       "      <td>31</td>\n",
       "      <td>400</td>\n",
       "      <td>4944</td>\n",
       "      <td>2</td>\n",
       "      <td>1435</td>\n",
       "      <td>1670</td>\n",
       "      <td>1</td>\n",
       "      <td>6</td>\n",
       "      <td>2019</td>\n",
       "      <td>0</td>\n",
       "      <td>470000.0</td>\n",
       "    </tr>\n",
       "    <tr>\n",
       "      <th>2</th>\n",
       "      <td>50</td>\n",
       "      <td>446</td>\n",
       "      <td>3426</td>\n",
       "      <td>14</td>\n",
       "      <td>162</td>\n",
       "      <td>5178</td>\n",
       "      <td>1</td>\n",
       "      <td>6</td>\n",
       "      <td>2021</td>\n",
       "      <td>0</td>\n",
       "      <td>1136000.0</td>\n",
       "    </tr>\n",
       "    <tr>\n",
       "      <th>3</th>\n",
       "      <td>19</td>\n",
       "      <td>90</td>\n",
       "      <td>3527</td>\n",
       "      <td>12</td>\n",
       "      <td>704</td>\n",
       "      <td>58761</td>\n",
       "      <td>0</td>\n",
       "      <td>6</td>\n",
       "      <td>2016</td>\n",
       "      <td>0</td>\n",
       "      <td>871000.0</td>\n",
       "    </tr>\n",
       "    <tr>\n",
       "      <th>4</th>\n",
       "      <td>21</td>\n",
       "      <td>203</td>\n",
       "      <td>156</td>\n",
       "      <td>2</td>\n",
       "      <td>704</td>\n",
       "      <td>42754</td>\n",
       "      <td>1</td>\n",
       "      <td>6</td>\n",
       "      <td>2016</td>\n",
       "      <td>0</td>\n",
       "      <td>504000.0</td>\n",
       "    </tr>\n",
       "  </tbody>\n",
       "</table>\n",
       "</div>"
      ],
      "text/plain": [
       "   Brand  Model  Variant  Body Type  Location  Km Driven  Transmission Type  \\\n",
       "0     31     64      136          2      1435      23825                  0   \n",
       "1     31    400     4944          2      1435       1670                  1   \n",
       "2     50    446     3426         14       162       5178                  1   \n",
       "3     19     90     3527         12       704      58761                  0   \n",
       "4     21    203      156          2       704      42754                  1   \n",
       "\n",
       "   Fuel Type  Manufacture Year  No.Of.Owners      Price  \n",
       "0          6              2016             0   725000.0  \n",
       "1          6              2019             0   470000.0  \n",
       "2          6              2021             0  1136000.0  \n",
       "3          6              2016             0   871000.0  \n",
       "4          6              2016             0   504000.0  "
      ]
     },
     "execution_count": 675,
     "metadata": {},
     "output_type": "execute_result"
    }
   ],
   "source": [
    "lbl_enc=LabelEncoder()\n",
    "for col in catg_col:\n",
    "    df[col]=lbl_enc.fit_transform(df[col])\n",
    "df.head()"
   ]
  },
  {
   "cell_type": "markdown",
   "id": "f161b551",
   "metadata": {},
   "source": [
    "### Checking Multi-colliearity "
   ]
  },
  {
   "cell_type": "code",
   "execution_count": 676,
   "id": "3617fd3a",
   "metadata": {},
   "outputs": [
    {
     "data": {
      "image/png": "[encoded data removed]",
      "text/plain": [
       "<Figure size 1296x1152 with 2 Axes>"
      ]
     },
     "metadata": {
      "needs_background": "light"
     },
     "output_type": "display_data"
    }
   ],
   "source": [
    "plt.figure(figsize=(18,16))\n",
    "sns.heatmap(df.corr().abs(),annot=True)\n",
    "plt.show()"
   ]
  },
  {
   "cell_type": "markdown",
   "id": "0dd899a9",
   "metadata": {},
   "source": [
    "Observation:\n",
    "   1. Could not find strong relationship with the features with target variable and within the other features.\n",
    "   2. Transmission type is 43% correlated with target variable price\n",
    "   3. Body type is 31% correlated with target variable price.\n",
    "   4. Fuel type and body type are 44% correlated with each other.\n",
    "   5. Manufacturing year and Km driven are 36% correlated with each other."
   ]
  },
  {
   "cell_type": "markdown",
   "id": "ce54c5ac",
   "metadata": {},
   "source": [
    "### Checking outliers"
   ]
  },
  {
   "cell_type": "code",
   "execution_count": 677,
   "id": "26abc32a",
   "metadata": {},
   "outputs": [
    {
     "data": {
      "image/png": "[encoded data removed]",
      "text/plain": [
       "<Figure size 432x288 with 1 Axes>"
      ]
     },
     "metadata": {
      "needs_background": "light"
     },
     "output_type": "display_data"
    },
    {
     "data": {
      "image/png": "[encoded data removed]",
      "text/plain": [
       "<Figure size 432x288 with 1 Axes>"
      ]
     },
     "metadata": {
      "needs_background": "light"
     },
     "output_type": "display_data"
    },
    {
     "data": {
      "image/png": "[encoded data removed]",
      "text/plain": [
       "<Figure size 432x288 with 1 Axes>"
      ]
     },
     "metadata": {
      "needs_background": "light"
     },
     "output_type": "display_data"
    },
    {
     "data": {
      "image/png": "[encoded data removed]",
      "text/plain": [
       "<Figure size 432x288 with 1 Axes>"
      ]
     },
     "metadata": {
      "needs_background": "light"
     },
     "output_type": "display_data"
    },
    {
     "data": {
      "image/png": "[encoded data removed]",
      "text/plain": [
       "<Figure size 432x288 with 1 Axes>"
      ]
     },
     "metadata": {
      "needs_background": "light"
     },
     "output_type": "display_data"
    },
    {
     "data": {
      "image/png": "[encoded data removed]",
      "text/plain": [
       "<Figure size 432x288 with 1 Axes>"
      ]
     },
     "metadata": {
      "needs_background": "light"
     },
     "output_type": "display_data"
    },
    {
     "data": {
      "image/png": "[encoded data removed]",
      "text/plain": [
       "<Figure size 432x288 with 1 Axes>"
      ]
     },
     "metadata": {
      "needs_background": "light"
     },
     "output_type": "display_data"
    },
    {
     "data": {
      "image/png": "[encoded data removed]",
      "text/plain": [
       "<Figure size 432x288 with 1 Axes>"
      ]
     },
     "metadata": {
      "needs_background": "light"
     },
     "output_type": "display_data"
    },
    {
     "data": {
      "image/png": "[encoded data removed]",
      "text/plain": [
       "<Figure size 432x288 with 1 Axes>"
      ]
     },
     "metadata": {
      "needs_background": "light"
     },
     "output_type": "display_data"
    },
    {
     "data": {
      "image/png": "[encoded data removed]",
      "text/plain": [
       "<Figure size 432x288 with 1 Axes>"
      ]
     },
     "metadata": {
      "needs_background": "light"
     },
     "output_type": "display_data"
    },
    {
     "data": {
      "image/png": "[encoded data removed]",
      "text/plain": [
       "<Figure size 432x288 with 1 Axes>"
      ]
     },
     "metadata": {
      "needs_background": "light"
     },
     "output_type": "display_data"
    }
   ],
   "source": [
    "for col in df.columns:\n",
    "    sns.boxplot(df[col])\n",
    "    plt.show()"
   ]
  },
  {
   "cell_type": "markdown",
   "id": "18f3cf58",
   "metadata": {},
   "source": [
    "Observations:\n",
    "1. We have outliers in Brand, Km Driven,Manufacturing year,No.Of.Owners and price.\n",
    "2. Brand,Manufacturing year,No.of.Owners are categorical variables.Hence we will not remove outliers for these features.\n",
    "3. Lets remove outliers for Km Driven.\n",
    "4. Price is target variable, hence we will not remove outliers.\n",
    "    "
   ]
  },
  {
   "cell_type": "code",
   "execution_count": 678,
   "id": "6786a698",
   "metadata": {},
   "outputs": [],
   "source": [
    "from scipy.stats import zscore"
   ]
  },
  {
   "cell_type": "code",
   "execution_count": 679,
   "id": "0f3094c0",
   "metadata": {},
   "outputs": [
    {
     "name": "stdout",
     "output_type": "stream",
     "text": [
      "(86054, 11) (85643, 11)\n"
     ]
    }
   ],
   "source": [
    "score=zscore(df[['Km Driven','Manufacture Year']])\n",
    "filtering=(score<3).all(axis=1)\n",
    "new_df=df[filtering]\n",
    "print(df.shape,new_df.shape)"
   ]
  },
  {
   "cell_type": "code",
   "execution_count": 680,
   "id": "7b25d269",
   "metadata": {},
   "outputs": [
    {
     "data": {
      "text/plain": [
       "<AxesSubplot:xlabel='Km Driven'>"
      ]
     },
     "execution_count": 680,
     "metadata": {},
     "output_type": "execute_result"
    },
    {
     "data": {
      "image/png": "[encoded data removed]",
      "text/plain": [
       "<Figure size 432x288 with 1 Axes>"
      ]
     },
     "metadata": {
      "needs_background": "light"
     },
     "output_type": "display_data"
    }
   ],
   "source": [
    "sns.boxplot(new_df['Km Driven'])"
   ]
  },
  {
   "cell_type": "code",
   "execution_count": 681,
   "id": "04bad3f0",
   "metadata": {},
   "outputs": [
    {
     "data": {
      "text/plain": [
       "<AxesSubplot:xlabel='Manufacture Year'>"
      ]
     },
     "execution_count": 681,
     "metadata": {},
     "output_type": "execute_result"
    },
    {
     "data": {
      "image/png": "[encoded data removed]",
      "text/plain": [
       "<Figure size 432x288 with 1 Axes>"
      ]
     },
     "metadata": {
      "needs_background": "light"
     },
     "output_type": "display_data"
    }
   ],
   "source": [
    "sns.boxplot(new_df['Manufacture Year'])"
   ]
  },
  {
   "cell_type": "code",
   "execution_count": 682,
   "id": "a99da82a",
   "metadata": {},
   "outputs": [
    {
     "data": {
      "text/plain": [
       "0.4776070839240477"
      ]
     },
     "execution_count": 682,
     "metadata": {},
     "output_type": "execute_result"
    }
   ],
   "source": [
    "data_loss=((df.shape[0]-new_df.shape[0])/df.shape[0])*100\n",
    "data_loss"
   ]
  },
  {
   "cell_type": "markdown",
   "id": "1c115813",
   "metadata": {},
   "source": [
    "We lost 0.5% of data as part of outliers removal"
   ]
  },
  {
   "cell_type": "code",
   "execution_count": 683,
   "id": "9d9ea2b8",
   "metadata": {},
   "outputs": [
    {
     "data": {
      "text/plain": [
       "Manufacture Year    -2.213980\n",
       "Transmission Type   -1.201579\n",
       "Variant             -0.613107\n",
       "Fuel Type           -0.286916\n",
       "Body Type           -0.059269\n",
       "Location             0.065869\n",
       "Brand                0.182204\n",
       "Model                0.244227\n",
       "Km Driven            0.862776\n",
       "No.Of.Owners         3.611049\n",
       "Price                7.981200\n",
       "dtype: float64"
      ]
     },
     "execution_count": 683,
     "metadata": {},
     "output_type": "execute_result"
    }
   ],
   "source": [
    "new_df.skew().sort_values()"
   ]
  },
  {
   "cell_type": "markdown",
   "id": "004e97da",
   "metadata": {},
   "source": [
    "We have skewed data in the features Manufacture Year,Transmission Type,Variant,Km Driven and No.Of.Owners.Lets apply transformation to remove the skewness."
   ]
  },
  {
   "cell_type": "code",
   "execution_count": 684,
   "id": "abd951dd",
   "metadata": {},
   "outputs": [
    {
     "name": "stdout",
     "output_type": "stream",
     "text": [
      "Transmission Type   -1.201579\n",
      "Manufacture Year    -0.668773\n",
      "Variant             -0.549264\n",
      "Fuel Type           -0.286916\n",
      "Km Driven           -0.063760\n",
      "Body Type           -0.059269\n",
      "Location             0.065869\n",
      "Brand                0.182204\n",
      "Model                0.244227\n",
      "No.Of.Owners         0.961820\n",
      "Price                7.981200\n",
      "dtype: float64\n"
     ]
    }
   ],
   "source": [
    "skewed_features=['Manufacture Year','Transmission Type','Variant','Km Driven','No.Of.Owners']\n",
    "from sklearn.preprocessing import PowerTransformer\n",
    "new_df[skewed_features]=PowerTransformer().fit_transform(new_df[skewed_features])\n",
    "print(new_df.skew().sort_values())"
   ]
  },
  {
   "cell_type": "markdown",
   "id": "d7df599a",
   "metadata": {},
   "source": [
    "We reduced the skewness by applying PowerTransformer."
   ]
  },
  {
   "cell_type": "code",
   "execution_count": 685,
   "id": "61b43d5e",
   "metadata": {},
   "outputs": [
    {
     "data": {
      "image/png": "[encoded data removed]",
      "text/plain": [
       "<Figure size 720x576 with 1 Axes>"
      ]
     },
     "metadata": {
      "needs_background": "light"
     },
     "output_type": "display_data"
    }
   ],
   "source": [
    "plt.figure(figsize=(10,8))\n",
    "df.corr()['Price'].sort_values().drop(['Price']).plot(kind='bar')\n",
    "plt.xlabel('Feature variables')\n",
    "plt.ylabel('Price')\n",
    "plt.xticks(rotation=90)\n",
    "plt.title('Correlation between features and target varaibale')\n",
    "plt.show()"
   ]
  },
  {
   "cell_type": "markdown",
   "id": "e9d41d14",
   "metadata": {},
   "source": [
    "Transmission type and body type are highly correlated to target variable than other features."
   ]
  },
  {
   "cell_type": "markdown",
   "id": "53141974",
   "metadata": {},
   "source": [
    "## Building Models"
   ]
  },
  {
   "cell_type": "code",
   "execution_count": 686,
   "id": "d3e2c24c",
   "metadata": {},
   "outputs": [],
   "source": [
    "from sklearn.linear_model import LinearRegression,Lasso\n",
    "from sklearn.ensemble import RandomForestRegressor\n",
    "from sklearn.tree import DecisionTreeRegressor\n",
    "from sklearn.neighbors import KNeighborsRegressor\n",
    "from sklearn.ensemble import GradientBoostingRegressor\n",
    "from sklearn.metrics import r2_score,mean_squared_error,mean_absolute_error\n",
    "from sklearn.model_selection import cross_val_score,train_test_split\n",
    "import xgboost\n",
    "from xgboost import XGBRegressor"
   ]
  },
  {
   "cell_type": "code",
   "execution_count": 687,
   "id": "09df6e03",
   "metadata": {},
   "outputs": [],
   "source": [
    "X=new_df.drop(['Price'],axis=1)\n",
    "y=new_df['Price']"
   ]
  },
  {
   "cell_type": "code",
   "execution_count": 688,
   "id": "619e07f7",
   "metadata": {},
   "outputs": [
    {
     "data": {
      "text/plain": [
       "(85643, 10)"
      ]
     },
     "execution_count": 688,
     "metadata": {},
     "output_type": "execute_result"
    }
   ],
   "source": [
    "X.shape"
   ]
  },
  {
   "cell_type": "code",
   "execution_count": 689,
   "id": "c3e58fb5",
   "metadata": {},
   "outputs": [
    {
     "data": {
      "text/plain": [
       "(85643,)"
      ]
     },
     "execution_count": 689,
     "metadata": {},
     "output_type": "execute_result"
    }
   ],
   "source": [
    "y.shape"
   ]
  },
  {
   "cell_type": "code",
   "execution_count": 690,
   "id": "50fe3886",
   "metadata": {},
   "outputs": [],
   "source": [
    "from sklearn.preprocessing import StandardScaler\n",
    "X_sc=pd.DataFrame(StandardScaler().fit_transform(X),columns=X.columns)"
   ]
  },
  {
   "cell_type": "markdown",
   "id": "548b7337",
   "metadata": {},
   "source": [
    "##### Checking multi colinearity using VIF"
   ]
  },
  {
   "cell_type": "code",
   "execution_count": 691,
   "id": "01fae5ed",
   "metadata": {},
   "outputs": [],
   "source": [
    "from statsmodels.stats.outliers_influence import variance_inflation_factor"
   ]
  },
  {
   "cell_type": "code",
   "execution_count": 692,
   "id": "5b3bd5cd",
   "metadata": {},
   "outputs": [
    {
     "data": {
      "text/html": [
       "<div>\n",
       "<style scoped>\n",
       "    .dataframe tbody tr th:only-of-type {\n",
       "        vertical-align: middle;\n",
       "    }\n",
       "\n",
       "    .dataframe tbody tr th {\n",
       "        vertical-align: top;\n",
       "    }\n",
       "\n",
       "    .dataframe thead th {\n",
       "        text-align: right;\n",
       "    }\n",
       "</style>\n",
       "<table border=\"1\" class=\"dataframe\">\n",
       "  <thead>\n",
       "    <tr style=\"text-align: right;\">\n",
       "      <th></th>\n",
       "      <th>VIF values</th>\n",
       "      <th>Features</th>\n",
       "    </tr>\n",
       "  </thead>\n",
       "  <tbody>\n",
       "    <tr>\n",
       "      <th>5</th>\n",
       "      <td>1.692792</td>\n",
       "      <td>Km Driven</td>\n",
       "    </tr>\n",
       "    <tr>\n",
       "      <th>8</th>\n",
       "      <td>1.632484</td>\n",
       "      <td>Manufacture Year</td>\n",
       "    </tr>\n",
       "    <tr>\n",
       "      <th>7</th>\n",
       "      <td>1.438583</td>\n",
       "      <td>Fuel Type</td>\n",
       "    </tr>\n",
       "    <tr>\n",
       "      <th>3</th>\n",
       "      <td>1.308619</td>\n",
       "      <td>Body Type</td>\n",
       "    </tr>\n",
       "    <tr>\n",
       "      <th>9</th>\n",
       "      <td>1.172551</td>\n",
       "      <td>No.Of.Owners</td>\n",
       "    </tr>\n",
       "    <tr>\n",
       "      <th>1</th>\n",
       "      <td>1.142877</td>\n",
       "      <td>Model</td>\n",
       "    </tr>\n",
       "    <tr>\n",
       "      <th>2</th>\n",
       "      <td>1.104051</td>\n",
       "      <td>Variant</td>\n",
       "    </tr>\n",
       "    <tr>\n",
       "      <th>6</th>\n",
       "      <td>1.097001</td>\n",
       "      <td>Transmission Type</td>\n",
       "    </tr>\n",
       "    <tr>\n",
       "      <th>0</th>\n",
       "      <td>1.085151</td>\n",
       "      <td>Brand</td>\n",
       "    </tr>\n",
       "    <tr>\n",
       "      <th>4</th>\n",
       "      <td>1.010948</td>\n",
       "      <td>Location</td>\n",
       "    </tr>\n",
       "  </tbody>\n",
       "</table>\n",
       "</div>"
      ],
      "text/plain": [
       "   VIF values           Features\n",
       "5    1.692792          Km Driven\n",
       "8    1.632484   Manufacture Year\n",
       "7    1.438583          Fuel Type\n",
       "3    1.308619          Body Type\n",
       "9    1.172551       No.Of.Owners\n",
       "1    1.142877              Model\n",
       "2    1.104051            Variant\n",
       "6    1.097001  Transmission Type\n",
       "0    1.085151              Brand\n",
       "4    1.010948           Location"
      ]
     },
     "execution_count": 692,
     "metadata": {},
     "output_type": "execute_result"
    }
   ],
   "source": [
    "vif = pd.DataFrame()\n",
    "vif['VIF values']= [variance_inflation_factor(X_sc.values,i) for i in range(len(X_sc.columns))]\n",
    "vif['Features'] = X_sc.columns\n",
    "vif.sort_values(by='VIF values',ascending=False)"
   ]
  },
  {
   "cell_type": "markdown",
   "id": "929c3f08",
   "metadata": {},
   "source": [
    "We do not have multi-colliearity problem in our dataset."
   ]
  },
  {
   "cell_type": "markdown",
   "id": "2ef08f2f",
   "metadata": {},
   "source": [
    "#### Finding best random state"
   ]
  },
  {
   "cell_type": "code",
   "execution_count": 693,
   "id": "01e24eca",
   "metadata": {},
   "outputs": [
    {
     "name": "stdout",
     "output_type": "stream",
     "text": [
      "Accuracy:  0.36203199379489803 RS:  91\n"
     ]
    }
   ],
   "source": [
    "m_acc=0\n",
    "rs=0\n",
    "for i in range(1,100):\n",
    "    X_train,X_val,y_train,y_val=train_test_split(X_sc,y,test_size=0.25,random_state=i)\n",
    "    lr=LinearRegression()\n",
    "    lr.fit(X_train,y_train)\n",
    "    y_pred=lr.predict(X_val)\n",
    "    acc=r2_score(y_val,y_pred)\n",
    "    if(acc>m_acc):\n",
    "        m_acc=acc\n",
    "        rs=i\n",
    "print('Accuracy: ',m_acc,'RS: ',rs)"
   ]
  },
  {
   "cell_type": "code",
   "execution_count": 694,
   "id": "8c4c4866",
   "metadata": {},
   "outputs": [],
   "source": [
    "X_train,X_val,y_train,y_val=train_test_split(X_sc,y,test_size=0.25,random_state=91)"
   ]
  },
  {
   "cell_type": "code",
   "execution_count": 695,
   "id": "0018c67c",
   "metadata": {},
   "outputs": [],
   "source": [
    "lr=LinearRegression()\n",
    "rf_reg=RandomForestRegressor()\n",
    "dt_reg=DecisionTreeRegressor()\n",
    "kn_reg=KNeighborsRegressor()\n",
    "gb_reg=GradientBoostingRegressor()\n",
    "ls=Lasso()\n",
    "xgb=XGBRegressor()"
   ]
  },
  {
   "cell_type": "code",
   "execution_count": 696,
   "id": "02a096ec",
   "metadata": {},
   "outputs": [
    {
     "name": "stdout",
     "output_type": "stream",
     "text": [
      "Metrics for  LinearRegression()\n",
      "Accuracy score:  0.36203199379489803\n",
      "Mean Absolute Error:  427240.672063632\n",
      "Mean Squared Error:  821965.5331783117 \n",
      "\n",
      "Metrics for  RandomForestRegressor()\n",
      "Accuracy score:  0.9188374652725624\n",
      "Mean Absolute Error:  63710.88867030447\n",
      "Mean Squared Error:  293178.391675638 \n",
      "\n",
      "Metrics for  DecisionTreeRegressor()\n",
      "Accuracy score:  0.8459711352546978\n",
      "Mean Absolute Error:  71455.00641783755\n",
      "Mean Squared Error:  403882.6660993724 \n",
      "\n",
      "Metrics for  KNeighborsRegressor()\n",
      "Accuracy score:  0.7360214797957454\n",
      "Mean Absolute Error:  134855.51542664986\n",
      "Mean Squared Error:  528735.4777246282 \n",
      "\n",
      "Metrics for  XGBRegressor(base_score=0.5, booster='gbtree', colsample_bylevel=1,\n",
      "             colsample_bynode=1, colsample_bytree=1, enable_categorical=False,\n",
      "             gamma=0, gpu_id=-1, importance_type=None,\n",
      "             interaction_constraints='', learning_rate=0.300000012,\n",
      "             max_delta_step=0, max_depth=6, min_child_weight=1, missing=nan,\n",
      "             monotone_constraints='()', n_estimators=100, n_jobs=8,\n",
      "             num_parallel_tree=1, predictor='auto', random_state=0, reg_alpha=0,\n",
      "             reg_lambda=1, scale_pos_weight=1, subsample=1, tree_method='exact',\n",
      "             validate_parameters=1, verbosity=None)\n",
      "Accuracy score:  0.9249673473705593\n",
      "Mean Absolute Error:  96186.52035012053\n",
      "Mean Squared Error:  281889.76486816054 \n",
      "\n",
      "Metrics for  Lasso()\n",
      "Accuracy score:  0.3620320651164548\n",
      "Mean Absolute Error:  427239.85328987165\n",
      "Mean Squared Error:  821965.4872325412 \n",
      "\n",
      "Metrics for  GradientBoostingRegressor()\n",
      "Accuracy score:  0.7308774616186435\n",
      "Mean Absolute Error:  221316.26106138775\n",
      "Mean Squared Error:  533862.225317374 \n",
      "\n"
     ]
    }
   ],
   "source": [
    "model=[lr,rf_reg,dt_reg,kn_reg,xgb,ls,gb_reg]\n",
    "for m in model:\n",
    "    m.fit(X_train,y_train)\n",
    "    y_pred=m.predict(X_val)\n",
    "    print('Metrics for ',m)\n",
    "    print('Accuracy score: ',r2_score(y_val,y_pred))\n",
    "    print('Mean Absolute Error: ',mean_absolute_error(y_val,y_pred))\n",
    "    print('Mean Squared Error: ',np.sqrt(mean_squared_error(y_val,y_pred)),'\\n')\n"
   ]
  },
  {
   "cell_type": "code",
   "execution_count": 697,
   "id": "4c68fa69",
   "metadata": {},
   "outputs": [
    {
     "name": "stdout",
     "output_type": "stream",
     "text": [
      "Cross val score for  LinearRegression() 0.10169832825605682\n",
      "Cross val score for  RandomForestRegressor() 0.6612586600757814\n",
      "Cross val score for  DecisionTreeRegressor() 0.3720882165772373\n",
      "Cross val score for  KNeighborsRegressor() 0.32695937323487223\n",
      "Cross val score for  XGBRegressor(base_score=0.5, booster='gbtree', colsample_bylevel=1,\n",
      "             colsample_bynode=1, colsample_bytree=1, enable_categorical=False,\n",
      "             gamma=0, gpu_id=-1, importance_type=None,\n",
      "             interaction_constraints='', learning_rate=0.300000012,\n",
      "             max_delta_step=0, max_depth=6, min_child_weight=1, missing=nan,\n",
      "             monotone_constraints='()', n_estimators=100, n_jobs=8,\n",
      "             num_parallel_tree=1, predictor='auto', random_state=0, reg_alpha=0,\n",
      "             reg_lambda=1, scale_pos_weight=1, subsample=1, tree_method='exact',\n",
      "             validate_parameters=1, verbosity=None) 0.692748998757812\n",
      "Cross val score for  Lasso() 0.10170046881300787\n",
      "Cross val score for  GradientBoostingRegressor() 0.5036874037815621\n"
     ]
    }
   ],
   "source": [
    "for m in model:\n",
    "    print(\"Cross val score for \",m,cross_val_score(m,X_sc,y,cv=5).mean())"
   ]
  },
  {
   "cell_type": "markdown",
   "id": "6394ce8e",
   "metadata": {},
   "source": [
    "### Hyper Parameter tuning"
   ]
  },
  {
   "cell_type": "code",
   "execution_count": 698,
   "id": "9cec1cdc",
   "metadata": {},
   "outputs": [],
   "source": [
    "from sklearn.model_selection import GridSearchCV"
   ]
  },
  {
   "cell_type": "code",
   "execution_count": 699,
   "id": "17867089",
   "metadata": {},
   "outputs": [
    {
     "name": "stdout",
     "output_type": "stream",
     "text": [
      "XGBRegressor(base_score=0.5, booster='gbtree', colsample_bylevel=1,\n",
      "             colsample_bynode=1, colsample_bytree=1, enable_categorical=False,\n",
      "             gamma=0, gpu_id=-1, importance_type=None,\n",
      "             interaction_constraints='', learning_rate=0.300000012,\n",
      "             max_delta_step=0, max_depth=6, min_child_weight=1, missing=nan,\n",
      "             monotone_constraints='()', n_estimators=210, n_jobs=8,\n",
      "             num_parallel_tree=1, predictor='auto', random_state=0, reg_alpha=0,\n",
      "             reg_lambda=1, scale_pos_weight=1, subsample=1, tree_method='exact',\n",
      "             validate_parameters=1, verbosity=None)\n",
      "{'n_estimators': 210}\n",
      "0.9051386735269134\n"
     ]
    }
   ],
   "source": [
    "param={'n_estimators':[150,180,210]}\n",
    "grd_srch=GridSearchCV(XGBRegressor(),param_grid=param,n_jobs=-1)\n",
    "grd_srch.fit(X_train,y_train)\n",
    "print(grd_srch.best_estimator_)\n",
    "print(grd_srch.best_params_)\n",
    "print(grd_srch.best_score_)"
   ]
  },
  {
   "cell_type": "code",
   "execution_count": 700,
   "id": "bf75d0ee",
   "metadata": {},
   "outputs": [
    {
     "name": "stdout",
     "output_type": "stream",
     "text": [
      "Best error:  266817.48610793194 RS:  1\n",
      "Accuracy:  0.9327766329089393\n",
      "Mean Absolute Error:  83272.62068522979\n",
      "Mean Squared Error:  71191570892.95647\n",
      "Root Mean Squared Error:  266817.48610793194\n"
     ]
    }
   ],
   "source": [
    "r_mean=0\n",
    "rs=0\n",
    "for i in range(1,20):\n",
    "    gb_reg=XGBRegressor(n_estimators=210,random_state=i)\n",
    "    gb_reg.fit(X_train,y_train)\n",
    "    y_pred=gb_reg.predict(X_val)\n",
    "    r_mean_square=np.sqrt(mean_squared_error(y_val,y_pred))\n",
    "    if(r_mean==0):\n",
    "        r_mean=r_mean_square\n",
    "        rs=i\n",
    "    elif(r_mean_square < r_mean):\n",
    "        r_mean=r_mean_square\n",
    "        rs=i\n",
    "print(\"Best error: \",r_mean,\"RS: \",rs)\n",
    "gb_reg=XGBRegressor(n_estimators=210,random_state=rs)\n",
    "gb_reg.fit(X_train,y_train)\n",
    "y_pred=gb_reg.predict(X_val)\n",
    "print('Accuracy: ',r2_score(y_val,y_pred))\n",
    "print('Mean Absolute Error: ',mean_absolute_error(y_val,y_pred))\n",
    "print('Mean Squared Error: ',mean_squared_error(y_val,y_pred))\n",
    "print('Root Mean Squared Error: ',np.sqrt(mean_squared_error(y_val,y_pred)))"
   ]
  },
  {
   "cell_type": "code",
   "execution_count": 701,
   "id": "519565a4",
   "metadata": {},
   "outputs": [
    {
     "data": {
      "image/png": "[encoded data removed]",
      "text/plain": [
       "<Figure size 432x288 with 1 Axes>"
      ]
     },
     "metadata": {
      "needs_background": "light"
     },
     "output_type": "display_data"
    }
   ],
   "source": [
    "sns.regplot(y_val,y_pred,color='r')\n",
    "plt.show()"
   ]
  },
  {
   "cell_type": "markdown",
   "id": "b6c59a24",
   "metadata": {},
   "source": [
    "### We able to build a final model with 93% of accuracy rate."
   ]
  },
  {
   "cell_type": "code",
   "execution_count": 702,
   "id": "14880b82",
   "metadata": {},
   "outputs": [],
   "source": [
    "import pickle"
   ]
  },
  {
   "cell_type": "code",
   "execution_count": 703,
   "id": "90af66e2",
   "metadata": {},
   "outputs": [],
   "source": [
    "pickle.dump(gb_reg,open('C:/Users/yn/Desktop/Yuvi/DataTrained/Saved Models - Evaluation Projects/CarPricePrediction.pkl','wb'))"
   ]
  },
  {
   "cell_type": "code",
   "execution_count": 704,
   "id": "263db4a0",
   "metadata": {},
   "outputs": [],
   "source": [
    "final_model=pickle.load(open('C:/Users/yn/Desktop/Yuvi/DataTrained/Saved Models - Evaluation Projects/CarPricePrediction.pkl','rb'))"
   ]
  },
  {
   "cell_type": "code",
   "execution_count": 708,
   "id": "54da9415",
   "metadata": {},
   "outputs": [
    {
     "data": {
      "text/html": [
       "<div>\n",
       "<style scoped>\n",
       "    .dataframe tbody tr th:only-of-type {\n",
       "        vertical-align: middle;\n",
       "    }\n",
       "\n",
       "    .dataframe tbody tr th {\n",
       "        vertical-align: top;\n",
       "    }\n",
       "\n",
       "    .dataframe thead th {\n",
       "        text-align: right;\n",
       "    }\n",
       "</style>\n",
       "<table border=\"1\" class=\"dataframe\">\n",
       "  <thead>\n",
       "    <tr style=\"text-align: right;\">\n",
       "      <th></th>\n",
       "      <th>Actual</th>\n",
       "      <th>Predicted</th>\n",
       "    </tr>\n",
       "  </thead>\n",
       "  <tbody>\n",
       "    <tr>\n",
       "      <th>39691</th>\n",
       "      <td>450000.0</td>\n",
       "      <td>391881</td>\n",
       "    </tr>\n",
       "    <tr>\n",
       "      <th>4056</th>\n",
       "      <td>124000.0</td>\n",
       "      <td>193948</td>\n",
       "    </tr>\n",
       "    <tr>\n",
       "      <th>3665</th>\n",
       "      <td>681500.0</td>\n",
       "      <td>659644</td>\n",
       "    </tr>\n",
       "    <tr>\n",
       "      <th>42874</th>\n",
       "      <td>1500000.0</td>\n",
       "      <td>1502492</td>\n",
       "    </tr>\n",
       "    <tr>\n",
       "      <th>23798</th>\n",
       "      <td>325000.0</td>\n",
       "      <td>319337</td>\n",
       "    </tr>\n",
       "    <tr>\n",
       "      <th>...</th>\n",
       "      <td>...</td>\n",
       "      <td>...</td>\n",
       "    </tr>\n",
       "    <tr>\n",
       "      <th>4252</th>\n",
       "      <td>295000.0</td>\n",
       "      <td>460461</td>\n",
       "    </tr>\n",
       "    <tr>\n",
       "      <th>8673</th>\n",
       "      <td>2150000.0</td>\n",
       "      <td>2118736</td>\n",
       "    </tr>\n",
       "    <tr>\n",
       "      <th>9022</th>\n",
       "      <td>335000.0</td>\n",
       "      <td>308924</td>\n",
       "    </tr>\n",
       "    <tr>\n",
       "      <th>6630</th>\n",
       "      <td>275000.0</td>\n",
       "      <td>232742</td>\n",
       "    </tr>\n",
       "    <tr>\n",
       "      <th>7026</th>\n",
       "      <td>400000.0</td>\n",
       "      <td>463467</td>\n",
       "    </tr>\n",
       "  </tbody>\n",
       "</table>\n",
       "<p>21411 rows × 2 columns</p>\n",
       "</div>"
      ],
      "text/plain": [
       "          Actual  Predicted\n",
       "39691   450000.0     391881\n",
       "4056    124000.0     193948\n",
       "3665    681500.0     659644\n",
       "42874  1500000.0    1502492\n",
       "23798   325000.0     319337\n",
       "...          ...        ...\n",
       "4252    295000.0     460461\n",
       "8673   2150000.0    2118736\n",
       "9022    335000.0     308924\n",
       "6630    275000.0     232742\n",
       "7026    400000.0     463467\n",
       "\n",
       "[21411 rows x 2 columns]"
      ]
     },
     "execution_count": 708,
     "metadata": {},
     "output_type": "execute_result"
    }
   ],
   "source": [
    "prediction=final_model.predict(X_val)\n",
    "prediction=[round(x) for x in prediction]\n",
    "result=pd.DataFrame({'Actual':y_val,'Predicted':prediction})\n",
    "result"
   ]
  },
  {
   "cell_type": "code",
   "execution_count": null,
   "id": "6565fb01",
   "metadata": {},
   "outputs": [],
   "source": []
  }
 ],
 "metadata": {
  "kernelspec": {
   "display_name": "Python 3",
   "language": "python",
   "name": "python3"
  },
  "language_info": {
   "codemirror_mode": {
    "name": "ipython",
    "version": 3
   },
   "file_extension": ".py",
   "mimetype": "text/x-python",
   "name": "python",
   "nbconvert_exporter": "python",
   "pygments_lexer": "ipython3",
   "version": "3.8.8"
  }
 },
 "nbformat": 4,
 "nbformat_minor": 5
}
